{
 "cells": [
  {
   "cell_type": "markdown",
   "id": "3eddce63",
   "metadata": {},
   "source": [
    "# HW 6"
   ]
  },
  {
   "cell_type": "markdown",
   "id": "3dd9d31d",
   "metadata": {
    "heading_collapsed": true
   },
   "source": [
    "## Imports"
   ]
  },
  {
   "cell_type": "code",
   "execution_count": null,
   "id": "40b944ae",
   "metadata": {
    "ExecuteTime": {
     "end_time": "2021-12-12T03:25:08.484715Z",
     "start_time": "2021-12-12T03:25:08.473883Z"
    },
    "hidden": true
   },
   "outputs": [],
   "source": [
    "import nbtools\n",
    "nbtools.setup_nb()"
   ]
  },
  {
   "cell_type": "code",
   "execution_count": null,
   "id": "dd6d4159",
   "metadata": {
    "ExecuteTime": {
     "end_time": "2021-12-12T13:07:15.468954Z",
     "start_time": "2021-12-12T13:07:15.461225Z"
    },
    "hidden": true
   },
   "outputs": [],
   "source": [
    "import itertools\n",
    "from astropy import units, constants\n",
    "import sympy\n",
    "import pandas\n",
    "from scipy import integrate\n",
    "import numpy\n",
    "import plotly.express as px\n",
    "from plotly import graph_objects as go\n",
    "\n",
    "from sympy.diffgeom import Manifold, Patch\n",
    "from pystein import coords, metric, curvature, geodesic\n",
    "from pystein.utilities import tensor_pow as tpow, full_simplify, boundary_filter"
   ]
  },
  {
   "cell_type": "markdown",
   "id": "61e8a27c",
   "metadata": {
    "heading_collapsed": true
   },
   "source": [
    "## Utilities"
   ]
  },
  {
   "cell_type": "code",
   "execution_count": null,
   "id": "5af72339",
   "metadata": {
    "ExecuteTime": {
     "end_time": "2021-12-12T03:46:20.984969Z",
     "start_time": "2021-12-12T03:46:20.979193Z"
    },
    "hidden": true
   },
   "outputs": [],
   "source": [
    "import plotly.colors\n",
    "\n",
    "def get_continuous_color(colorscale, intermed):\n",
    "    \"\"\"\n",
    "    Plotly continuous colorscales assign colors to the range [0, 1]. This function computes the intermediate\n",
    "    color for any value in that range.\n",
    "\n",
    "    Plotly doesn't make the colorscales directly accessible in a common format.\n",
    "    Some are ready to use:\n",
    "    \n",
    "        colorscale = plotly.colors.PLOTLY_SCALES[\"Greens\"]\n",
    "\n",
    "    Others are just swatches that need to be constructed into a colorscale:\n",
    "\n",
    "        viridis_colors, scale = plotly.colors.convert_colors_to_same_type(plotly.colors.sequential.Viridis)\n",
    "        colorscale = plotly.colors.make_colorscale(viridis_colors, scale=scale)\n",
    "\n",
    "    :param colorscale: A plotly continuous colorscale defined with RGB string colors.\n",
    "    :param intermed: value in the range [0, 1]\n",
    "    :return: color in rgb string format\n",
    "    :rtype: str\n",
    "    \"\"\"\n",
    "    if len(colorscale) < 1:\n",
    "        raise ValueError(\"colorscale must have at least one color\")\n",
    "\n",
    "    if intermed <= 0 or len(colorscale) == 1:\n",
    "        return colorscale[0][1]\n",
    "    if intermed >= 1:\n",
    "        return colorscale[-1][1]\n",
    "\n",
    "    for cutoff, color in colorscale:\n",
    "        if intermed > cutoff:\n",
    "            low_cutoff, low_color = cutoff, color\n",
    "        else:\n",
    "            high_cutoff, high_color = cutoff, color\n",
    "            break\n",
    "\n",
    "    # noinspection PyUnboundLocalVariable\n",
    "    return plotly.colors.find_intermediate_color(\n",
    "        lowcolor=low_color, highcolor=high_color,\n",
    "        intermed=((intermed - low_cutoff) / (high_cutoff - low_cutoff)),\n",
    "        colortype=\"rgb\")"
   ]
  },
  {
   "cell_type": "markdown",
   "id": "ed12d41b",
   "metadata": {
    "heading_collapsed": true
   },
   "source": [
    "## Theory"
   ]
  },
  {
   "cell_type": "markdown",
   "id": "bd5f81d5",
   "metadata": {
    "heading_collapsed": true,
    "hidden": true
   },
   "source": [
    "### A2"
   ]
  },
  {
   "cell_type": "code",
   "execution_count": null,
   "id": "32be1f7a",
   "metadata": {
    "ExecuteTime": {
     "end_time": "2021-12-12T12:21:55.153503Z",
     "start_time": "2021-12-12T12:21:54.732347Z"
    },
    "hidden": true
   },
   "outputs": [],
   "source": [
    "M = Manifold('M', dim=4)\n",
    "P = Patch('origin', M)\n",
    "\n",
    "t, r, theta, phi, k = sympy.symbols('t r theta phi k')\n",
    "cs = coords.CoordSystem('spherical', P, [t, r, theta, phi])\n",
    "dt, dr, dtheta, dphi = cs.base_oneforms()\n",
    "a = sympy.Function('a')(t)\n",
    "\n",
    "\n",
    "ds2 = - tpow(dt, 2) + a ** 2 * ((1 / (1 - k * r ** 2)) * tpow(dr, 2) + \n",
    "                                r**2 * tpow(dtheta, 2) + \n",
    "                                r ** 2 * sympy.sin(theta) ** 2 * tpow(dphi, 2))\n",
    "g = metric.Metric(twoform=ds2)\n",
    "g"
   ]
  },
  {
   "cell_type": "code",
   "execution_count": null,
   "id": "aff15e56",
   "metadata": {
    "ExecuteTime": {
     "end_time": "2021-12-12T12:22:18.061686Z",
     "start_time": "2021-12-12T12:22:16.314003Z"
    },
    "hidden": true
   },
   "outputs": [],
   "source": [
    "G_rr = curvature.einstein_tensor_component(1, 1, g)"
   ]
  },
  {
   "cell_type": "code",
   "execution_count": null,
   "id": "ace9f1d2",
   "metadata": {
    "ExecuteTime": {
     "end_time": "2021-12-12T12:22:25.280737Z",
     "start_time": "2021-12-12T12:22:25.014525Z"
    },
    "hidden": true
   },
   "outputs": [],
   "source": [
    "sympy.simplify(G_rr.doit())"
   ]
  },
  {
   "cell_type": "code",
   "execution_count": null,
   "id": "fafc7f8b",
   "metadata": {
    "hidden": true
   },
   "outputs": [],
   "source": []
  },
  {
   "cell_type": "markdown",
   "id": "ac299255",
   "metadata": {
    "heading_collapsed": true
   },
   "source": [
    "## Exercises B"
   ]
  },
  {
   "cell_type": "markdown",
   "id": "ad321203",
   "metadata": {
    "heading_collapsed": true,
    "hidden": true
   },
   "source": [
    "### B3"
   ]
  },
  {
   "cell_type": "code",
   "execution_count": null,
   "id": "23690a46",
   "metadata": {
    "ExecuteTime": {
     "end_time": "2021-12-12T03:25:22.585067Z",
     "start_time": "2021-12-12T03:25:21.994095Z"
    },
    "hidden": true
   },
   "outputs": [],
   "source": [
    "M = Manifold('M', dim=4)\n",
    "P = Patch('origin', M)\n",
    "\n",
    "t, r, theta, phi, k = sympy.symbols('t r theta phi k')\n",
    "cs = coords.CoordSystem('spherical', P, [t, r, theta, phi])\n",
    "dt, dr, dtheta, dphi = cs.base_oneforms()\n",
    "a = sympy.Function('a')(t)\n",
    "\n",
    "\n",
    "ds2 = - tpow(dt, 2) + a ** 2 * ((1 / (1 - k * r ** 2)) * tpow(dr, 2) + \n",
    "                                r**2 * tpow(dtheta, 2) + \n",
    "                                r ** 2 * sympy.sin(theta) ** 2 * tpow(dphi, 2))\n",
    "g = metric.Metric(twoform=ds2)\n",
    "g"
   ]
  },
  {
   "cell_type": "code",
   "execution_count": null,
   "id": "bf2f8beb",
   "metadata": {
    "ExecuteTime": {
     "end_time": "2021-12-12T03:25:53.160113Z",
     "start_time": "2021-12-12T03:25:52.917958Z"
    },
    "hidden": true
   },
   "outputs": [],
   "source": [
    "christoffels = []\n",
    "for m, n, l in itertools.product(range(4), range(4), range(4)):\n",
    "#     print(m, n, l)\n",
    "    gamma = sympy.simplify(curvature.christoffel_symbol_component(l, m, n, metric=g).doit())\n",
    "    christoffels.append(((m, n, l), gamma))\n",
    "christoffels = [x for x in christoffels if x[1]]"
   ]
  },
  {
   "cell_type": "code",
   "execution_count": null,
   "id": "83a11aa0",
   "metadata": {
    "ExecuteTime": {
     "end_time": "2021-12-12T12:49:26.972459Z",
     "start_time": "2021-12-12T12:49:26.966603Z"
    },
    "hidden": true
   },
   "outputs": [],
   "source": [
    "_ch = [((_mu, _nu, _rho), expr) for (_mu, _nu, _rho), expr in christoffels if _rho == 0]"
   ]
  },
  {
   "cell_type": "code",
   "execution_count": null,
   "id": "7b065f80",
   "metadata": {
    "ExecuteTime": {
     "end_time": "2021-12-12T12:49:32.120613Z",
     "start_time": "2021-12-12T12:49:32.025490Z"
    },
    "hidden": true
   },
   "outputs": [],
   "source": [
    "curvature.display_components(_ch)"
   ]
  },
  {
   "cell_type": "code",
   "execution_count": null,
   "id": "7c77efd7",
   "metadata": {
    "ExecuteTime": {
     "end_time": "2021-12-12T12:55:40.734087Z",
     "start_time": "2021-12-12T12:55:40.723397Z"
    },
    "hidden": true
   },
   "outputs": [],
   "source": [
    "_exs = [expr for (_mu, _nu, _rho), expr in _ch]\n",
    "_g_ii = [g.inverse.matrix[i, i] for i in range(1, 4)]\n",
    "\n",
    "_x = sum([_gii * _e for _gii, _e in zip(_g_ii, _exs)])"
   ]
  },
  {
   "cell_type": "code",
   "execution_count": null,
   "id": "5db692c5",
   "metadata": {
    "ExecuteTime": {
     "end_time": "2021-12-12T12:55:41.354525Z",
     "start_time": "2021-12-12T12:55:41.332034Z"
    },
    "hidden": true
   },
   "outputs": [],
   "source": [
    "sympy.simplify(_x)"
   ]
  },
  {
   "cell_type": "code",
   "execution_count": null,
   "id": "87f637df",
   "metadata": {
    "ExecuteTime": {
     "end_time": "2021-12-12T12:52:36.481418Z",
     "start_time": "2021-12-12T12:52:36.297336Z"
    },
    "hidden": true
   },
   "outputs": [],
   "source": [
    "sympy.simplify(_x)"
   ]
  },
  {
   "cell_type": "code",
   "execution_count": null,
   "id": "9ebd02e1",
   "metadata": {
    "hidden": true
   },
   "outputs": [],
   "source": []
  },
  {
   "cell_type": "code",
   "execution_count": null,
   "id": "698402b8",
   "metadata": {
    "ExecuteTime": {
     "end_time": "2021-12-12T03:27:00.619313Z",
     "start_time": "2021-12-12T03:27:00.614251Z"
    },
    "hidden": true
   },
   "outputs": [],
   "source": [
    "def covariant_deriv(mu, nu, vector, metric):\n",
    "    symbols = metric.coord_system.base_symbols()\n",
    "    \n",
    "    x_mu = symbols[mu]\n",
    "    v_nu = vector[nu]\n",
    "    \n",
    "    res = sympy.Derivative(v_nu, x_mu)\n",
    "    \n",
    "    for alpha in range(4):\n",
    "        v_alpha = vector[alpha]\n",
    "        gamma_mu_alpha_nu = sympy.simplify(curvature.christoffel_symbol_component(nu, mu, alpha, metric=g).doit())\n",
    "        res += gamma_mu_alpha_nu * v_alpha\n",
    "\n",
    "    res = sympy.simplify(res.doit())\n",
    "        \n",
    "    return res"
   ]
  },
  {
   "cell_type": "code",
   "execution_count": null,
   "id": "f3a3a507",
   "metadata": {
    "ExecuteTime": {
     "end_time": "2021-12-12T03:27:02.677062Z",
     "start_time": "2021-12-12T03:27:02.670456Z"
    },
    "hidden": true
   },
   "outputs": [],
   "source": [
    "eta_vector = [\n",
    "    0, \n",
    "    sympy.sqrt(1 - k * r**2) * sympy.cos(theta), \n",
    "    - sympy.sqrt(1 - k * r**2) * sympy.sin(theta) / r, \n",
    "    0,\n",
    "]"
   ]
  },
  {
   "cell_type": "code",
   "execution_count": null,
   "id": "047b64b4",
   "metadata": {
    "ExecuteTime": {
     "end_time": "2021-12-12T03:27:05.665939Z",
     "start_time": "2021-12-12T03:27:05.654667Z"
    },
    "hidden": true
   },
   "outputs": [],
   "source": [
    "def cov_deriv_matrix(vector, g):\n",
    "    components = [4 * [None] for i in range(4)]\n",
    "    for mu in range(4):\n",
    "        for nu in range(4):\n",
    "            del_mu_v_nu = covariant_deriv(mu, nu, vector, g)\n",
    "            components[mu][nu] = del_mu_v_nu\n",
    "    return sympy.Matrix(components)"
   ]
  },
  {
   "cell_type": "code",
   "execution_count": null,
   "id": "bd34b649",
   "metadata": {
    "ExecuteTime": {
     "end_time": "2021-12-12T03:27:06.980428Z",
     "start_time": "2021-12-12T03:27:06.500741Z"
    },
    "hidden": true
   },
   "outputs": [],
   "source": [
    "cmat = cov_deriv_matrix(eta_vector, g)"
   ]
  },
  {
   "cell_type": "code",
   "execution_count": null,
   "id": "b6eef2e1",
   "metadata": {
    "ExecuteTime": {
     "end_time": "2021-12-12T03:28:58.799788Z",
     "start_time": "2021-12-12T03:28:58.794240Z"
    },
    "hidden": true
   },
   "outputs": [],
   "source": [
    "subs = [\n",
    "    (sympy.Derivative(a, t), sympy.symbols('\\dot{a}')),\n",
    "    (a, sympy.symbols('a')),\n",
    "]"
   ]
  },
  {
   "cell_type": "code",
   "execution_count": null,
   "id": "19f78c6b",
   "metadata": {
    "ExecuteTime": {
     "end_time": "2021-12-12T03:29:19.444125Z",
     "start_time": "2021-12-12T03:29:19.432594Z"
    },
    "hidden": true
   },
   "outputs": [],
   "source": [
    "print((cmat * g.matrix).subs(subs)._repr_latex_())"
   ]
  },
  {
   "cell_type": "code",
   "execution_count": null,
   "id": "2e520079",
   "metadata": {
    "ExecuteTime": {
     "end_time": "2021-12-05T06:50:49.448734Z",
     "start_time": "2021-12-05T06:50:48.039200Z"
    },
    "hidden": true
   },
   "outputs": [],
   "source": [
    "G_tt = curvature.einstein_tensor_component(0, 0, g).doit()"
   ]
  },
  {
   "cell_type": "code",
   "execution_count": null,
   "id": "23562d26",
   "metadata": {
    "ExecuteTime": {
     "end_time": "2021-12-05T06:51:11.464745Z",
     "start_time": "2021-12-05T06:51:11.323849Z"
    },
    "hidden": true
   },
   "outputs": [],
   "source": [
    "full_simplify(G_tt)"
   ]
  },
  {
   "cell_type": "code",
   "execution_count": null,
   "id": "2ca12929",
   "metadata": {
    "ExecuteTime": {
     "end_time": "2021-12-05T06:52:24.478333Z",
     "start_time": "2021-12-05T06:52:23.169732Z"
    },
    "hidden": true
   },
   "outputs": [],
   "source": [
    "R = curvature.ricci_scalar(g).doit()"
   ]
  },
  {
   "cell_type": "code",
   "execution_count": null,
   "id": "7f47e175",
   "metadata": {
    "ExecuteTime": {
     "end_time": "2021-12-05T06:52:30.795370Z",
     "start_time": "2021-12-05T06:52:30.648772Z"
    },
    "hidden": true
   },
   "outputs": [],
   "source": [
    "full_simplify(R)"
   ]
  },
  {
   "cell_type": "markdown",
   "id": "82ae009a",
   "metadata": {
    "heading_collapsed": true,
    "hidden": true
   },
   "source": [
    "### B4"
   ]
  },
  {
   "cell_type": "code",
   "execution_count": null,
   "id": "80def980",
   "metadata": {
    "ExecuteTime": {
     "end_time": "2021-12-12T03:53:07.752970Z",
     "start_time": "2021-12-12T03:53:07.748428Z"
    },
    "hidden": true
   },
   "outputs": [],
   "source": [
    "ts = numpy.arange(0, 10, 0.1)\n",
    "consts = numpy.arange(1, 5 + 1, .1)\n",
    "c_norm = lambda c: (c - 1) / 4.0 "
   ]
  },
  {
   "cell_type": "code",
   "execution_count": null,
   "id": "a354dc11",
   "metadata": {
    "ExecuteTime": {
     "end_time": "2021-12-12T03:53:08.263730Z",
     "start_time": "2021-12-12T03:53:08.259937Z"
    },
    "hidden": true
   },
   "outputs": [],
   "source": [
    "def psi(t, a_o):\n",
    "    return (2 / a_o) * numpy.sqrt(t)"
   ]
  },
  {
   "cell_type": "code",
   "execution_count": null,
   "id": "1933ae71",
   "metadata": {
    "ExecuteTime": {
     "end_time": "2021-12-12T03:53:08.483265Z",
     "start_time": "2021-12-12T03:53:08.479394Z"
    },
    "hidden": true
   },
   "outputs": [],
   "source": [
    "viridis_colors, _ = plotly.colors.convert_colors_to_same_type(plotly.colors.sequential.Plasma)\n",
    "colorscale = plotly.colors.make_colorscale(viridis_colors)"
   ]
  },
  {
   "cell_type": "code",
   "execution_count": null,
   "id": "8e7e825d",
   "metadata": {
    "ExecuteTime": {
     "end_time": "2021-12-12T03:55:16.919173Z",
     "start_time": "2021-12-12T03:55:16.775095Z"
    },
    "hidden": true
   },
   "outputs": [],
   "source": [
    "fig = go.Figure()\n",
    "for c in consts:\n",
    "    color = get_continuous_color(colorscale, intermed=c_norm(c))\n",
    "    fig.add_trace(go.Scatter(x=psi(ts, c), y=ts, line=dict(color=color, dash='solid')))\n",
    "    fig.add_trace(go.Scatter(x=-psi(ts, c), y=ts, line=dict(color=color, dash='dot')))\n",
    "\n",
    "fig.update_layout(\n",
    "#     yaxis_range=[0,10],\n",
    "#                   xaxis_range=[0,10],\n",
    "                  width=700,\n",
    "                  height=700,\n",
    "                  showlegend=False,\n",
    "                  title_text=r'$\\text{Null Radial Geodesics in FLRW}(t, \\psi)$', \n",
    "                  title_x=0.5,\n",
    "                  xaxis_title=r'$\\psi$',\n",
    "                  yaxis_title=r'$t/t_o$')\n",
    "fig.show()"
   ]
  },
  {
   "cell_type": "code",
   "execution_count": null,
   "id": "1d806f7f",
   "metadata": {
    "ExecuteTime": {
     "end_time": "2021-12-12T03:55:43.473310Z",
     "start_time": "2021-12-12T03:55:40.217351Z"
    },
    "hidden": true
   },
   "outputs": [],
   "source": [
    "# fig.write_image('/Users/jim/repos/tex/homework/courses/PHYS510 - GR I/hw6/figures/fig-b4.pdf')"
   ]
  },
  {
   "cell_type": "markdown",
   "id": "d196b965",
   "metadata": {
    "heading_collapsed": true,
    "hidden": true
   },
   "source": [
    "### B6"
   ]
  },
  {
   "cell_type": "code",
   "execution_count": null,
   "id": "cbdd614d",
   "metadata": {
    "ExecuteTime": {
     "end_time": "2021-12-12T11:02:44.438313Z",
     "start_time": "2021-12-12T11:02:44.434397Z"
    },
    "hidden": true
   },
   "outputs": [],
   "source": [
    "ts = numpy.arange(0.001, 2.001, 0.001)\n",
    "a_s = numpy.sqrt(ts)\n",
    "H_s = 1 / (2 * ts)\n",
    "R_s =  - 1 / (4 * ts ** 2)\n",
    "rho_s = 3 / (8 * numpy.pi * ts ** 2)"
   ]
  },
  {
   "cell_type": "code",
   "execution_count": null,
   "id": "997bff42",
   "metadata": {
    "ExecuteTime": {
     "end_time": "2021-12-12T11:03:51.921812Z",
     "start_time": "2021-12-12T11:03:51.870438Z"
    },
    "hidden": true
   },
   "outputs": [],
   "source": [
    "fig = go.Figure()\n",
    "\n",
    "\n",
    "fig.add_trace(go.Scatter(x=ts, y=a_s, name=r'$a(t)$', line=dict(color='green', dash='solid')))\n",
    "\n",
    "fig.add_trace(go.Scatter(x=ts, y=H_s, name=r'$H(t)$', line=dict(color='blue', dash='solid')))\n",
    "\n",
    "fig.add_trace(go.Scatter(x=ts, y=R_s, name=r'$R_{ij}(t)$', line=dict(color='magenta', dash='solid')))\n",
    "\n",
    "fig.add_trace(go.Scatter(x=ts, y=rho_s, name=r'$\\rho(t)$', line=dict(color='purple', dash='solid')))\n",
    "\n",
    "\n",
    "fig.update_layout(\n",
    "    yaxis_range=[-3,3],\n",
    "                  xaxis_range=[0,1],\n",
    "                  width=700,\n",
    "                  height=700,\n",
    "                  showlegend=True,\n",
    "                  title_text=r'$\\text{Radiation-Dominated FLRW Evolution}$', \n",
    "                  title_x=0.5,\n",
    "                  xaxis_title=r'$t/t_o$',\n",
    "                  yaxis_title=r'$\\text{Cosmological Quantity}$')\n",
    "fig.show()"
   ]
  },
  {
   "cell_type": "code",
   "execution_count": null,
   "id": "370b79e8",
   "metadata": {
    "ExecuteTime": {
     "end_time": "2021-12-12T11:04:24.545407Z",
     "start_time": "2021-12-12T11:04:24.278241Z"
    },
    "hidden": true
   },
   "outputs": [],
   "source": [
    "# fig.write_image('/Users/jim/repos/tex/homework/courses/PHYS510 - GR I/hw6/figures/fig-b6.pdf')"
   ]
  },
  {
   "cell_type": "markdown",
   "id": "45b02d81",
   "metadata": {
    "heading_collapsed": true,
    "hidden": true
   },
   "source": [
    "### B7"
   ]
  },
  {
   "cell_type": "code",
   "execution_count": null,
   "id": "80de09b7",
   "metadata": {
    "ExecuteTime": {
     "end_time": "2021-12-12T11:12:23.728095Z",
     "start_time": "2021-12-12T11:12:23.724262Z"
    },
    "hidden": true
   },
   "outputs": [],
   "source": [
    "ts = numpy.arange(0.001, 2.001, 0.001)\n",
    "a_s = ts ** (2.0 / 3.0)\n",
    "H_s = 2 / (3 * ts)\n",
    "R_s =  - 2 / (9 * ts ** 2)\n",
    "rho_s = 1 / (2 * numpy.pi * ts ** 2)"
   ]
  },
  {
   "cell_type": "code",
   "execution_count": null,
   "id": "a99d8570",
   "metadata": {
    "ExecuteTime": {
     "end_time": "2021-12-12T11:12:36.848676Z",
     "start_time": "2021-12-12T11:12:36.781464Z"
    },
    "hidden": true
   },
   "outputs": [],
   "source": [
    "fig = go.Figure()\n",
    "\n",
    "\n",
    "fig.add_trace(go.Scatter(x=ts, y=a_s, name=r'$a(t)$', line=dict(color='green', dash='solid')))\n",
    "\n",
    "fig.add_trace(go.Scatter(x=ts, y=H_s, name=r'$H(t)$', line=dict(color='blue', dash='solid')))\n",
    "\n",
    "fig.add_trace(go.Scatter(x=ts, y=R_s, name=r'$R_{ij}(t)$', line=dict(color='magenta', dash='solid')))\n",
    "\n",
    "fig.add_trace(go.Scatter(x=ts, y=rho_s, name=r'$\\rho(t)$', line=dict(color='purple', dash='solid')))\n",
    "\n",
    "\n",
    "fig.update_layout(\n",
    "    yaxis_range=[-3,3],\n",
    "                  xaxis_range=[0,1],\n",
    "                  width=700,\n",
    "                  height=700,\n",
    "                  showlegend=True,\n",
    "                  title_text=r'$\\text{Matter-Dominated FLRW Evolution}$', \n",
    "                  title_x=0.5,\n",
    "                  xaxis_title=r'$t/t_o$',\n",
    "                  yaxis_title=r'$\\text{Cosmological Quantity}$')\n",
    "fig.show()"
   ]
  },
  {
   "cell_type": "code",
   "execution_count": null,
   "id": "ed7a4f8e",
   "metadata": {
    "ExecuteTime": {
     "end_time": "2021-12-12T11:13:20.362178Z",
     "start_time": "2021-12-12T11:13:20.087483Z"
    },
    "hidden": true
   },
   "outputs": [],
   "source": [
    "fig.write_image('/Users/jim/repos/tex/homework/courses/PHYS510 - GR I/hw6/figures/fig-b7.pdf')"
   ]
  },
  {
   "cell_type": "markdown",
   "id": "3bd999c6",
   "metadata": {
    "heading_collapsed": true,
    "hidden": true
   },
   "source": [
    "### B8"
   ]
  },
  {
   "cell_type": "code",
   "execution_count": null,
   "id": "26044c23",
   "metadata": {
    "ExecuteTime": {
     "end_time": "2021-12-12T11:18:58.650439Z",
     "start_time": "2021-12-12T11:18:58.646599Z"
    },
    "hidden": true
   },
   "outputs": [],
   "source": [
    "G, a_o, Lam, rho_o = sympy.symbols('G a_o Lambda rho_o')"
   ]
  },
  {
   "cell_type": "code",
   "execution_count": null,
   "id": "ac630946",
   "metadata": {
    "ExecuteTime": {
     "end_time": "2021-12-12T11:19:49.423754Z",
     "start_time": "2021-12-12T11:19:49.370586Z"
    },
    "hidden": true
   },
   "outputs": [],
   "source": [
    "a_b8 = a_o * (sympy.sqrt(8 * sympy.pi * G * rho_o / Lam) *\n",
    "              sympy.sinh(sympy.sqrt(3 * Lam) * t / 2)) ** (sympy.Rational(2, 3))"
   ]
  },
  {
   "cell_type": "code",
   "execution_count": null,
   "id": "6d17941a",
   "metadata": {
    "ExecuteTime": {
     "end_time": "2021-12-12T11:19:51.304609Z",
     "start_time": "2021-12-12T11:19:51.296229Z"
    },
    "hidden": true
   },
   "outputs": [],
   "source": [
    "a_b8"
   ]
  },
  {
   "cell_type": "code",
   "execution_count": null,
   "id": "24c367ce",
   "metadata": {
    "ExecuteTime": {
     "end_time": "2021-12-12T11:24:37.250090Z",
     "start_time": "2021-12-12T11:24:37.059826Z"
    },
    "hidden": true
   },
   "outputs": [],
   "source": [
    "a_dot_b8 = sympy.simplify(sympy.Derivative(a_b8, t).doit())"
   ]
  },
  {
   "cell_type": "code",
   "execution_count": null,
   "id": "03737c17",
   "metadata": {
    "ExecuteTime": {
     "end_time": "2021-12-12T11:24:37.788065Z",
     "start_time": "2021-12-12T11:24:37.780996Z"
    },
    "hidden": true
   },
   "outputs": [],
   "source": [
    "a_dot_b8"
   ]
  },
  {
   "cell_type": "code",
   "execution_count": null,
   "id": "93972f0e",
   "metadata": {
    "ExecuteTime": {
     "end_time": "2021-12-12T11:24:24.364312Z",
     "start_time": "2021-12-12T11:24:24.253680Z"
    },
    "hidden": true
   },
   "outputs": [],
   "source": [
    "hubble_b8 = sympy.simplify(a_dot_b8 / a_b8)"
   ]
  },
  {
   "cell_type": "code",
   "execution_count": null,
   "id": "c2a6ecab",
   "metadata": {
    "ExecuteTime": {
     "end_time": "2021-12-12T11:24:24.742906Z",
     "start_time": "2021-12-12T11:24:24.735254Z"
    },
    "hidden": true
   },
   "outputs": [],
   "source": [
    "hubble_b8"
   ]
  },
  {
   "cell_type": "code",
   "execution_count": null,
   "id": "0a95cdd7",
   "metadata": {
    "ExecuteTime": {
     "end_time": "2021-12-12T11:23:46.610669Z",
     "start_time": "2021-12-12T11:23:46.589936Z"
    },
    "hidden": true
   },
   "outputs": [],
   "source": [
    "a_ddot_b8 = sympy.Derivative(a_dot_b8, t).doit()"
   ]
  },
  {
   "cell_type": "code",
   "execution_count": null,
   "id": "98dce6d8",
   "metadata": {
    "ExecuteTime": {
     "end_time": "2021-12-12T11:24:10.434671Z",
     "start_time": "2021-12-12T11:24:10.185529Z"
    },
    "hidden": true
   },
   "outputs": [],
   "source": [
    "R_ij_b8 = sympy.simplify(a_ddot_b8 / a_b8)"
   ]
  },
  {
   "cell_type": "code",
   "execution_count": null,
   "id": "f4817a65",
   "metadata": {
    "ExecuteTime": {
     "end_time": "2021-12-12T11:24:11.275602Z",
     "start_time": "2021-12-12T11:24:11.265150Z"
    },
    "hidden": true
   },
   "outputs": [],
   "source": [
    "R_ij_b8"
   ]
  },
  {
   "cell_type": "code",
   "execution_count": null,
   "id": "192aad06",
   "metadata": {
    "ExecuteTime": {
     "end_time": "2021-12-12T11:42:37.845329Z",
     "start_time": "2021-12-12T11:42:37.752824Z"
    },
    "hidden": true
   },
   "outputs": [],
   "source": [
    "rho_b8 = sympy.simplify(rho_o * (a_o / a_b8) ** 3)"
   ]
  },
  {
   "cell_type": "code",
   "execution_count": null,
   "id": "f9a647d5",
   "metadata": {
    "ExecuteTime": {
     "end_time": "2021-12-12T11:42:39.984509Z",
     "start_time": "2021-12-12T11:42:39.977400Z"
    },
    "hidden": true
   },
   "outputs": [],
   "source": [
    "rho_b8"
   ]
  },
  {
   "cell_type": "code",
   "execution_count": null,
   "id": "1dfd67db",
   "metadata": {
    "ExecuteTime": {
     "end_time": "2021-12-12T11:46:33.802425Z",
     "start_time": "2021-12-12T11:46:33.623952Z"
    },
    "hidden": true
   },
   "outputs": [],
   "source": [
    "lhs = sympy.simplify(a_dot_b8 ** 2)\n",
    "lhs"
   ]
  },
  {
   "cell_type": "code",
   "execution_count": null,
   "id": "1ae6392f",
   "metadata": {
    "ExecuteTime": {
     "end_time": "2021-12-12T11:51:03.116800Z",
     "start_time": "2021-12-12T11:51:02.902016Z"
    },
    "hidden": true
   },
   "outputs": [],
   "source": [
    "rhs = sympy.Rational(1, 3) * Lam * a_b8 ** 2 + sympy.Rational(8, 3) * sympy.pi * G * rho_o * (a_o ** 3) / a_b8\n",
    "rhs = sympy.simplify(rhs)\n",
    "rhs"
   ]
  },
  {
   "cell_type": "code",
   "execution_count": null,
   "id": "ee51d7f2",
   "metadata": {
    "ExecuteTime": {
     "end_time": "2021-12-12T11:56:41.779638Z",
     "start_time": "2021-12-12T11:56:41.774847Z"
    },
    "hidden": true
   },
   "outputs": [],
   "source": [
    "print(R_ij_b8._repr_latex_())"
   ]
  },
  {
   "cell_type": "code",
   "execution_count": null,
   "id": "bf3e6793",
   "metadata": {
    "ExecuteTime": {
     "end_time": "2021-12-12T11:50:07.301889Z",
     "start_time": "2021-12-12T11:50:07.016517Z"
    },
    "hidden": true
   },
   "outputs": [],
   "source": [
    "sympy.simplify(lhs - rhs)"
   ]
  },
  {
   "cell_type": "code",
   "execution_count": null,
   "id": "68abf656",
   "metadata": {
    "hidden": true
   },
   "outputs": [],
   "source": [
    "rho_b8._"
   ]
  },
  {
   "cell_type": "markdown",
   "id": "69136b4c",
   "metadata": {
    "heading_collapsed": true,
    "hidden": true
   },
   "source": [
    "#### Visual"
   ]
  },
  {
   "cell_type": "code",
   "execution_count": null,
   "id": "a10212da",
   "metadata": {
    "ExecuteTime": {
     "end_time": "2021-12-12T11:59:47.146040Z",
     "start_time": "2021-12-12T11:59:47.140086Z"
    },
    "hidden": true
   },
   "outputs": [],
   "source": [
    "a_b8"
   ]
  },
  {
   "cell_type": "code",
   "execution_count": null,
   "id": "6bde0dba",
   "metadata": {
    "ExecuteTime": {
     "end_time": "2021-12-12T12:03:25.721146Z",
     "start_time": "2021-12-12T12:03:25.705440Z"
    },
    "hidden": true
   },
   "outputs": [],
   "source": [
    "a_b8_callable = sympy.lambdify((t, G, rho_o, Lam, a_o), a_b8)\n",
    "H_b8_callable = sympy.lambdify((t, G, rho_o, Lam, a_o), hubble_b8)\n",
    "R_b8_callable = sympy.lambdify((t, G, rho_o, Lam, a_o), R_ij_b8)\n",
    "rho_b8_callable = sympy.lambdify((t, G, rho_o, Lam, a_o), rho_b8)"
   ]
  },
  {
   "cell_type": "code",
   "execution_count": null,
   "id": "240b1352",
   "metadata": {
    "ExecuteTime": {
     "end_time": "2021-12-12T12:03:41.554279Z",
     "start_time": "2021-12-12T12:03:41.549023Z"
    },
    "hidden": true
   },
   "outputs": [],
   "source": [
    "a_b8_res = a_b8_callable(ts, 1, 1, 1, 1)\n",
    "H_b8_res = H_b8_callable(ts, 1, 1, 1, 1)\n",
    "R_b8_res = R_b8_callable(ts, 1, 1, 1, 1)\n",
    "rho_b8_res = rho_b8_callable(ts, 1, 1, 1, 1)"
   ]
  },
  {
   "cell_type": "code",
   "execution_count": null,
   "id": "5874f0ab",
   "metadata": {
    "ExecuteTime": {
     "end_time": "2021-12-12T12:03:57.538671Z",
     "start_time": "2021-12-12T12:03:57.482405Z"
    },
    "hidden": true
   },
   "outputs": [],
   "source": [
    "fig = go.Figure()\n",
    "\n",
    "\n",
    "fig.add_trace(go.Scatter(x=ts, y=a_b8_res, name=r'$a(t)$', line=dict(color='green', dash='solid')))\n",
    "\n",
    "fig.add_trace(go.Scatter(x=ts, y=H_b8_res, name=r'$H(t)$', line=dict(color='blue', dash='solid')))\n",
    "\n",
    "fig.add_trace(go.Scatter(x=ts, y=R_b8_res, name=r'$R_{ij}(t)$', line=dict(color='magenta', dash='solid')))\n",
    "\n",
    "fig.add_trace(go.Scatter(x=ts, y=rho_b8_res, name=r'$\\rho(t)$', line=dict(color='purple', dash='solid')))\n",
    "\n",
    "\n",
    "fig.update_layout(\n",
    "    yaxis_range=[-3,3],\n",
    "                  xaxis_range=[0,1],\n",
    "                  width=700,\n",
    "                  height=700,\n",
    "                  showlegend=True,\n",
    "                  title_text=r'$\\text{Matter + }\\Lambda\\text{ Dominated FLRW Evolution}$', \n",
    "                  title_x=0.5,\n",
    "                  xaxis_title=r'$t/t_o$',\n",
    "                  yaxis_title=r'$\\text{Cosmological Quantity}$')\n",
    "fig.show()"
   ]
  },
  {
   "cell_type": "code",
   "execution_count": null,
   "id": "eb92a79b",
   "metadata": {
    "ExecuteTime": {
     "end_time": "2021-12-12T12:04:38.539513Z",
     "start_time": "2021-12-12T12:04:38.279345Z"
    },
    "hidden": true
   },
   "outputs": [],
   "source": [
    "fig.write_image('/Users/jim/repos/tex/homework/courses/PHYS510 - GR I/hw6/figures/fig-b8.pdf')"
   ]
  },
  {
   "cell_type": "code",
   "execution_count": null,
   "id": "8a253651",
   "metadata": {
    "hidden": true
   },
   "outputs": [],
   "source": []
  },
  {
   "cell_type": "markdown",
   "id": "0c035ef5",
   "metadata": {},
   "source": [
    "## Problem C"
   ]
  },
  {
   "cell_type": "markdown",
   "id": "4acbcb57",
   "metadata": {},
   "source": [
    "### C1"
   ]
  },
  {
   "cell_type": "code",
   "execution_count": null,
   "id": "2c345246",
   "metadata": {
    "ExecuteTime": {
     "end_time": "2021-12-12T13:11:10.907754Z",
     "start_time": "2021-12-12T13:11:10.901907Z"
    }
   },
   "outputs": [],
   "source": [
    "H = 70e3 * (units.m / (units.s * units.Mpc) )\n",
    "H"
   ]
  },
  {
   "cell_type": "code",
   "execution_count": null,
   "id": "78fbc3c3",
   "metadata": {
    "ExecuteTime": {
     "end_time": "2021-12-12T14:48:29.679432Z",
     "start_time": "2021-12-12T14:48:29.671697Z"
    }
   },
   "outputs": [],
   "source": [
    "rho_crit = (3 / (8 * numpy.pi * constants.G)) * H ** 2\n",
    "rho_crit"
   ]
  },
  {
   "cell_type": "code",
   "execution_count": null,
   "id": "583f606a",
   "metadata": {
    "ExecuteTime": {
     "end_time": "2021-12-12T13:12:16.330150Z",
     "start_time": "2021-12-12T13:12:16.323486Z"
    }
   },
   "outputs": [],
   "source": [
    "rho_crit_per_proton = rho_crit / constants.m_p\n",
    "rho_crit_per_proton"
   ]
  },
  {
   "cell_type": "code",
   "execution_count": null,
   "id": "31be6366",
   "metadata": {
    "ExecuteTime": {
     "end_time": "2021-12-12T13:12:41.601414Z",
     "start_time": "2021-12-12T13:12:41.594655Z"
    }
   },
   "outputs": [],
   "source": [
    "rho_crit_per_proton.to((1 / units.m) ** 3)"
   ]
  },
  {
   "cell_type": "code",
   "execution_count": null,
   "id": "17a0a008",
   "metadata": {
    "ExecuteTime": {
     "end_time": "2021-12-12T13:15:47.999746Z",
     "start_time": "2021-12-12T13:15:47.993070Z"
    }
   },
   "outputs": [],
   "source": [
    "constants.G"
   ]
  },
  {
   "cell_type": "markdown",
   "id": "9fa3c141",
   "metadata": {},
   "source": [
    "### C2"
   ]
  },
  {
   "cell_type": "code",
   "execution_count": null,
   "id": "f6e9adeb",
   "metadata": {
    "ExecuteTime": {
     "end_time": "2021-12-12T13:18:44.886071Z",
     "start_time": "2021-12-12T13:18:44.878645Z"
    }
   },
   "outputs": [],
   "source": [
    "(1 / H).to(units.yr)"
   ]
  },
  {
   "cell_type": "markdown",
   "id": "bdcc8c02",
   "metadata": {},
   "source": [
    "### C3"
   ]
  },
  {
   "cell_type": "code",
   "execution_count": null,
   "id": "fb6219c1",
   "metadata": {
    "ExecuteTime": {
     "end_time": "2021-12-12T14:34:04.526962Z",
     "start_time": "2021-12-12T14:34:04.523577Z"
    }
   },
   "outputs": [],
   "source": [
    "omega_m = 0.31"
   ]
  },
  {
   "cell_type": "code",
   "execution_count": null,
   "id": "5d5a19f5",
   "metadata": {
    "ExecuteTime": {
     "end_time": "2021-12-12T14:53:36.529677Z",
     "start_time": "2021-12-12T14:53:36.525372Z"
    }
   },
   "outputs": [],
   "source": [
    "rho_crit = (3 / (8 * numpy.pi * constants.G)) * H ** 2\n",
    "rho_crit = rho_crit.to(units.kg / units.m ** 3)\n",
    "rho_init = omega_m * rho_crit"
   ]
  },
  {
   "cell_type": "code",
   "execution_count": null,
   "id": "4e03eaff",
   "metadata": {
    "ExecuteTime": {
     "end_time": "2021-12-12T14:53:37.322254Z",
     "start_time": "2021-12-12T14:53:37.316837Z"
    }
   },
   "outputs": [],
   "source": [
    "\n",
    "sinh_arg = numpy.sqrt(rho_crit / rho_init * (1 - omega_m)).value\n",
    "\n",
    "factor = 1 / numpy.sqrt(6 * numpy.pi * G * rho_crit * (1 - omega_m))\n",
    "t_o = factor * numpy.arcsinh(sinh_arg)"
   ]
  },
  {
   "cell_type": "code",
   "execution_count": null,
   "id": "210eff99",
   "metadata": {
    "ExecuteTime": {
     "end_time": "2021-12-12T14:53:37.659152Z",
     "start_time": "2021-12-12T14:53:37.651701Z"
    }
   },
   "outputs": [],
   "source": [
    "t_o.to(units.yr)"
   ]
  },
  {
   "cell_type": "markdown",
   "id": "a5373933",
   "metadata": {},
   "source": [
    "### C4"
   ]
  },
  {
   "cell_type": "code",
   "execution_count": null,
   "id": "aeb96442",
   "metadata": {
    "ExecuteTime": {
     "end_time": "2021-12-12T14:53:42.975437Z",
     "start_time": "2021-12-12T14:53:42.968158Z"
    }
   },
   "outputs": [],
   "source": [
    "omega_lam = 0.69\n",
    "Lam_c4 = 8 * numpy.pi * constants.G * rho_crit * omega_lam\n",
    "Lam_c4"
   ]
  },
  {
   "cell_type": "code",
   "execution_count": null,
   "id": "291749fa",
   "metadata": {
    "ExecuteTime": {
     "end_time": "2021-12-12T14:53:43.262819Z",
     "start_time": "2021-12-12T14:53:43.253061Z"
    }
   },
   "outputs": [],
   "source": [
    "t_star = 2 * numpy.log(1 + numpy.sqrt(2)) / numpy.sqrt(3 * Lam_c4)\n",
    "t_star"
   ]
  },
  {
   "cell_type": "code",
   "execution_count": null,
   "id": "42eee71d",
   "metadata": {
    "ExecuteTime": {
     "end_time": "2021-12-12T14:53:43.918955Z",
     "start_time": "2021-12-12T14:53:43.912689Z"
    }
   },
   "outputs": [],
   "source": [
    "t_star.to(units.yr)"
   ]
  },
  {
   "cell_type": "code",
   "execution_count": null,
   "id": "0e52a496",
   "metadata": {
    "ExecuteTime": {
     "end_time": "2021-12-12T14:53:44.748265Z",
     "start_time": "2021-12-12T14:53:44.740793Z"
    }
   },
   "outputs": [],
   "source": [
    "t_o.to(units.yr) - t_star.to(units.yr)"
   ]
  },
  {
   "cell_type": "code",
   "execution_count": null,
   "id": "2f4b9f10",
   "metadata": {},
   "outputs": [],
   "source": []
  }
 ],
 "metadata": {
  "kernelspec": {
   "display_name": "Python 3 (ipykernel)",
   "language": "python",
   "name": "python3"
  },
  "language_info": {
   "codemirror_mode": {
    "name": "ipython",
    "version": 3
   },
   "file_extension": ".py",
   "mimetype": "text/x-python",
   "name": "python",
   "nbconvert_exporter": "python",
   "pygments_lexer": "ipython3",
   "version": "3.8.12"
  }
 },
 "nbformat": 4,
 "nbformat_minor": 5
}
