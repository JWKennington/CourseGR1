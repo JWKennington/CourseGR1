{
 "cells": [
  {
   "cell_type": "markdown",
   "id": "280854b7",
   "metadata": {},
   "source": [
    "# HW 1"
   ]
  },
  {
   "cell_type": "markdown",
   "id": "12fd3182",
   "metadata": {},
   "source": [
    "## Imports"
   ]
  },
  {
   "cell_type": "code",
   "execution_count": 1,
   "id": "3bee11cf",
   "metadata": {
    "ExecuteTime": {
     "end_time": "2021-09-28T02:28:48.253010Z",
     "start_time": "2021-09-28T02:28:48.242095Z"
    },
    "scrolled": false
   },
   "outputs": [],
   "source": [
    "import nbtools\n",
    "nbtools.setup_nb()"
   ]
  },
  {
   "cell_type": "code",
   "execution_count": 4,
   "id": "9fb64372",
   "metadata": {
    "ExecuteTime": {
     "end_time": "2021-09-28T02:27:35.794891Z",
     "start_time": "2021-09-28T02:27:35.787067Z"
    },
    "scrolled": false
   },
   "outputs": [
    {
     "ename": "ModuleNotFoundError",
     "evalue": "No module named 'pystein'",
     "output_type": "error",
     "traceback": [
      "\u001b[0;31m---------------------------------------------------------------------------\u001b[0m",
      "\u001b[0;31mModuleNotFoundError\u001b[0m                       Traceback (most recent call last)",
      "\u001b[0;32m/var/folders/4_/_vr7p6557_3_5cyncn6tdq_w0000gn/T/ipykernel_3453/3707399002.py\u001b[0m in \u001b[0;36m<module>\u001b[0;34m\u001b[0m\n\u001b[1;32m      8\u001b[0m \u001b[0;34m\u001b[0m\u001b[0m\n\u001b[1;32m      9\u001b[0m \u001b[0;32mfrom\u001b[0m \u001b[0msympy\u001b[0m\u001b[0;34m.\u001b[0m\u001b[0mdiffgeom\u001b[0m \u001b[0;32mimport\u001b[0m \u001b[0mManifold\u001b[0m\u001b[0;34m,\u001b[0m \u001b[0mPatch\u001b[0m\u001b[0;34m\u001b[0m\u001b[0;34m\u001b[0m\u001b[0m\n\u001b[0;32m---> 10\u001b[0;31m \u001b[0;32mfrom\u001b[0m \u001b[0mpystein\u001b[0m \u001b[0;32mimport\u001b[0m \u001b[0mcoords\u001b[0m\u001b[0;34m,\u001b[0m \u001b[0mmetric\u001b[0m\u001b[0;34m,\u001b[0m \u001b[0mcurvature\u001b[0m\u001b[0;34m,\u001b[0m \u001b[0mgeodesic\u001b[0m\u001b[0;34m\u001b[0m\u001b[0;34m\u001b[0m\u001b[0m\n\u001b[0m\u001b[1;32m     11\u001b[0m \u001b[0;32mfrom\u001b[0m \u001b[0mpystein\u001b[0m\u001b[0;34m.\u001b[0m\u001b[0mutilities\u001b[0m \u001b[0;32mimport\u001b[0m \u001b[0mtensor_pow\u001b[0m \u001b[0;32mas\u001b[0m \u001b[0mtpow\u001b[0m\u001b[0;34m,\u001b[0m \u001b[0mfull_simplify\u001b[0m\u001b[0;34m,\u001b[0m \u001b[0mboundary_filter\u001b[0m\u001b[0;34m\u001b[0m\u001b[0;34m\u001b[0m\u001b[0m\n",
      "\u001b[0;31mModuleNotFoundError\u001b[0m: No module named 'pystein'"
     ]
    }
   ],
   "source": [
    "import itertools\n",
    "from astropy import units\n",
    "import sympy\n",
    "import pandas\n",
    "from scipy import integrate\n",
    "import numpy\n",
    "import plotly.express as px\n",
    "\n",
    "from sympy.diffgeom import Manifold, Patch\n",
    "from pystein import coords, metric, curvature, geodesic\n",
    "from pystein.utilities import tensor_pow as tpow, full_simplify, boundary_filter"
   ]
  },
  {
   "cell_type": "code",
   "execution_count": null,
   "id": "70af7b32",
   "metadata": {
    "ExecuteTime": {
     "end_time": "2021-09-14T15:21:18.059942Z",
     "start_time": "2021-09-14T15:21:18.057809Z"
    },
    "scrolled": true
   },
   "outputs": [],
   "source": [
    "show_plots = True"
   ]
  },
  {
   "cell_type": "markdown",
   "id": "ad33c281",
   "metadata": {},
   "source": [
    "## Exercises"
   ]
  },
  {
   "cell_type": "markdown",
   "id": "32b43cb9",
   "metadata": {},
   "source": [
    "### B1 - Polar Coords for $\\mathbb{R}^2$"
   ]
  },
  {
   "cell_type": "markdown",
   "id": "18cc0fab",
   "metadata": {},
   "source": [
    "#### Setup Metric"
   ]
  },
  {
   "cell_type": "code",
   "execution_count": null,
   "id": "636a5f59",
   "metadata": {
    "ExecuteTime": {
     "end_time": "2021-09-13T03:29:27.300320Z",
     "start_time": "2021-09-13T03:29:27.297632Z"
    },
    "scrolled": false
   },
   "outputs": [],
   "source": [
    "M = Manifold('M', dim=2)\n",
    "P = Patch('origin', M)"
   ]
  },
  {
   "cell_type": "markdown",
   "id": "a240852b",
   "metadata": {},
   "source": [
    "##### Cartesian"
   ]
  },
  {
   "cell_type": "code",
   "execution_count": null,
   "id": "a9082882",
   "metadata": {
    "ExecuteTime": {
     "end_time": "2021-09-12T23:14:56.885780Z",
     "start_time": "2021-09-12T23:14:56.857704Z"
    },
    "scrolled": true
   },
   "outputs": [],
   "source": [
    "x, y = sympy.symbols('x, y', nonnegative=False)\n",
    "cs = coords.CoordSystem('cartesian', P, [x, y])\n",
    "dx, dy = cs.base_oneforms()\n",
    "ds2 = tpow(dx, 2) + tpow(dy, 2)\n",
    "g_cart = metric.Metric(twoform=ds2)\n",
    "g_cart"
   ]
  },
  {
   "cell_type": "markdown",
   "id": "17fa4f72",
   "metadata": {},
   "source": [
    "##### Polar"
   ]
  },
  {
   "cell_type": "code",
   "execution_count": null,
   "id": "b6dffa27",
   "metadata": {
    "ExecuteTime": {
     "end_time": "2021-09-13T03:29:28.391380Z",
     "start_time": "2021-09-13T03:29:28.210784Z"
    },
    "scrolled": true
   },
   "outputs": [],
   "source": [
    "r, theta = sympy.symbols('r theta', nonnegative=True)\n",
    "cs = coords.CoordSystem('polar', P, [r, theta])\n",
    "dr, dtheta = cs.base_oneforms()\n",
    "ds2 = tpow(dr, 2) + r ** 2 * tpow(dtheta, 2)\n",
    "g1 = metric.Metric(twoform=ds2)\n",
    "g1"
   ]
  },
  {
   "cell_type": "markdown",
   "id": "22f0c6ef",
   "metadata": {},
   "source": [
    "#### Compute curvature components"
   ]
  },
  {
   "cell_type": "code",
   "execution_count": null,
   "id": "561cc599",
   "metadata": {
    "ExecuteTime": {
     "end_time": "2021-09-12T23:00:04.606381Z",
     "start_time": "2021-09-12T23:00:03.298805Z"
    },
    "scrolled": false
   },
   "outputs": [],
   "source": [
    "crs, rmns, rcs = curvature.compute_components(g1)"
   ]
  },
  {
   "cell_type": "code",
   "execution_count": null,
   "id": "f50f8558",
   "metadata": {
    "ExecuteTime": {
     "end_time": "2021-09-12T23:00:04.625624Z",
     "start_time": "2021-09-12T23:00:04.609074Z"
    },
    "scrolled": false
   },
   "outputs": [],
   "source": [
    "curvature.display_components(crs)"
   ]
  },
  {
   "cell_type": "code",
   "execution_count": null,
   "id": "6b62958f",
   "metadata": {
    "ExecuteTime": {
     "end_time": "2021-08-31T20:35:01.148083Z",
     "start_time": "2021-08-31T20:35:01.143487Z"
    },
    "scrolled": false
   },
   "outputs": [],
   "source": [
    "curvature.display_components(rmns)"
   ]
  },
  {
   "cell_type": "code",
   "execution_count": null,
   "id": "7bdd5409",
   "metadata": {
    "ExecuteTime": {
     "end_time": "2021-08-31T20:35:01.287143Z",
     "start_time": "2021-08-31T20:35:01.284420Z"
    },
    "scrolled": false
   },
   "outputs": [],
   "source": [
    "curvature.display_components(rcs)"
   ]
  },
  {
   "cell_type": "markdown",
   "id": "e14175d6",
   "metadata": {},
   "source": [
    "#### Parallel Transport"
   ]
  },
  {
   "cell_type": "code",
   "execution_count": null,
   "id": "17803ee3",
   "metadata": {
    "ExecuteTime": {
     "end_time": "2021-09-13T03:34:08.298439Z",
     "start_time": "2021-09-13T03:34:08.295674Z"
    },
    "scrolled": true
   },
   "outputs": [],
   "source": [
    "# Unit circle parameterized such that x(0) == x(1)\n",
    "param = sympy.symbols('lambda')\n",
    "r_0 = sympy.symbols('r_0', real=True)\n",
    "curve = [\n",
    "    r_0,\n",
    "    2 * sympy.pi * param,\n",
    "]"
   ]
  },
  {
   "cell_type": "code",
   "execution_count": null,
   "id": "774eb614",
   "metadata": {
    "ExecuteTime": {
     "end_time": "2021-09-13T03:34:08.720300Z",
     "start_time": "2021-09-13T03:34:08.514073Z"
    },
    "scrolled": true
   },
   "outputs": [],
   "source": [
    "soln = geodesic.parallel_transport_soln(param, curve, g1)"
   ]
  },
  {
   "cell_type": "code",
   "execution_count": null,
   "id": "93108a58",
   "metadata": {
    "ExecuteTime": {
     "end_time": "2021-09-13T03:34:09.155861Z",
     "start_time": "2021-09-13T03:34:09.150659Z"
    },
    "scrolled": true
   },
   "outputs": [],
   "source": [
    "soln.soln[0]"
   ]
  },
  {
   "cell_type": "code",
   "execution_count": null,
   "id": "5e4a8273",
   "metadata": {
    "ExecuteTime": {
     "end_time": "2021-09-13T03:29:38.418567Z",
     "start_time": "2021-09-13T03:29:38.407049Z"
    },
    "scrolled": true
   },
   "outputs": [],
   "source": [
    "g1.angle(soln.vec(0), soln.vec(1))"
   ]
  },
  {
   "cell_type": "markdown",
   "id": "87e8e8e9",
   "metadata": {},
   "source": [
    "#### Compute Geodesics"
   ]
  },
  {
   "cell_type": "code",
   "execution_count": null,
   "id": "3ac3b0d9",
   "metadata": {
    "ExecuteTime": {
     "end_time": "2021-09-13T02:43:29.130812Z",
     "start_time": "2021-09-13T02:43:28.959458Z"
    },
    "scrolled": false
   },
   "outputs": [],
   "source": [
    "full_simplify(geodesic.geodesic_equation(0, sympy.symbols('lambda'), g1))"
   ]
  },
  {
   "cell_type": "code",
   "execution_count": null,
   "id": "30d80f77",
   "metadata": {
    "ExecuteTime": {
     "end_time": "2021-09-13T02:43:29.291080Z",
     "start_time": "2021-09-13T02:43:29.132854Z"
    },
    "scrolled": false
   },
   "outputs": [],
   "source": [
    "full_simplify(geodesic.geodesic_equation(1, sympy.symbols('lambda'), g1))"
   ]
  },
  {
   "cell_type": "markdown",
   "id": "e9422d4a",
   "metadata": {
    "heading_collapsed": true
   },
   "source": [
    "##### Visualize Cartesian"
   ]
  },
  {
   "cell_type": "code",
   "execution_count": null,
   "id": "6811ef39",
   "metadata": {
    "ExecuteTime": {
     "end_time": "2021-08-31T20:35:14.297342Z",
     "start_time": "2021-08-31T20:35:14.121243Z"
    },
    "hidden": true,
    "scrolled": true
   },
   "outputs": [],
   "source": [
    "ls = numpy.arange(0, 2, 0.01)\n",
    "init = (0.0, 0.0, 0.1, 0.1) \n",
    "df1cart = geodesic.numerical_geodesic(g_cart, init, ls)"
   ]
  },
  {
   "cell_type": "code",
   "execution_count": null,
   "id": "86b5eb0c",
   "metadata": {
    "ExecuteTime": {
     "end_time": "2021-08-31T20:36:39.148209Z",
     "start_time": "2021-08-31T20:36:38.161407Z"
    },
    "hidden": true,
    "scrolled": true
   },
   "outputs": [],
   "source": [
    "ls = numpy.arange(0, 2, 0.001)\n",
    "df1scart = geodesic.numerical_sampler(g_cart, ls, (0, 0), num_angles=6)"
   ]
  },
  {
   "cell_type": "code",
   "execution_count": null,
   "id": "0aac840a",
   "metadata": {
    "ExecuteTime": {
     "end_time": "2021-08-31T20:37:11.157634Z",
     "start_time": "2021-08-31T20:37:10.869553Z"
    },
    "hidden": true,
    "scrolled": true
   },
   "outputs": [],
   "source": [
    "if show_plots:\n",
    "    fig = px.scatter(df1scart, x=\"x\", y='y', \n",
    "                     color='theta_0',\n",
    "                     title=\"B1 Cart Geodesic\",\n",
    "                     height=600, width=600)\n",
    "\n",
    "    fig.show()"
   ]
  },
  {
   "cell_type": "markdown",
   "id": "52477f5b",
   "metadata": {
    "heading_collapsed": true
   },
   "source": [
    "##### Visualize Polar"
   ]
  },
  {
   "cell_type": "code",
   "execution_count": null,
   "id": "f44a6366",
   "metadata": {
    "ExecuteTime": {
     "end_time": "2021-09-13T02:48:00.510649Z",
     "start_time": "2021-09-13T02:47:55.163846Z"
    },
    "hidden": true,
    "scrolled": true
   },
   "outputs": [],
   "source": [
    "ls = numpy.arange(0, 2, 0.001)\n",
    "r_0 = 1.0 \n",
    "dfs = [geodesic.numerical_geodesic(g1, (r_0, theta_0, 0.0, numpy.pi/2), ls).assign(theta_0=theta_0) \n",
    "       for theta_0 in numpy.arange(0.0, 2 * numpy.pi, 0.2)]\n",
    "df = pandas.concat(dfs, axis=0)"
   ]
  },
  {
   "cell_type": "code",
   "execution_count": null,
   "id": "5a41f71f",
   "metadata": {
    "ExecuteTime": {
     "end_time": "2021-09-13T02:48:03.949739Z",
     "start_time": "2021-09-13T02:48:03.945584Z"
    },
    "hidden": true,
    "scrolled": true
   },
   "outputs": [],
   "source": [
    "df['theta'] = numpy.mod(df['theta'], 2*numpy.pi)\n",
    "# df['lam'] = ls"
   ]
  },
  {
   "cell_type": "code",
   "execution_count": null,
   "id": "0312ea9d",
   "metadata": {
    "ExecuteTime": {
     "end_time": "2021-09-13T02:48:04.753759Z",
     "start_time": "2021-09-13T02:48:03.951763Z"
    },
    "hidden": true,
    "scrolled": true
   },
   "outputs": [],
   "source": [
    "if show_plots:\n",
    "    fig = px.scatter(df, x=\"theta\", y='r', \n",
    "                     color='theta_0',\n",
    "                     title=\"Sample Geodesic\")\n",
    "\n",
    "    fig.show()"
   ]
  },
  {
   "cell_type": "markdown",
   "id": "821021b2",
   "metadata": {},
   "source": [
    "### B2 2-Sphere"
   ]
  },
  {
   "cell_type": "markdown",
   "id": "3fafb59f",
   "metadata": {},
   "source": [
    "#### Setup Metric"
   ]
  },
  {
   "cell_type": "code",
   "execution_count": null,
   "id": "b1847120",
   "metadata": {
    "ExecuteTime": {
     "end_time": "2021-09-14T15:21:18.761635Z",
     "start_time": "2021-09-14T15:21:18.594199Z"
    },
    "scrolled": false
   },
   "outputs": [],
   "source": [
    "M = Manifold('M', dim=2)\n",
    "P = Patch('origin', M)\n",
    "\n",
    "theta, phi, a = sympy.symbols('theta phi a', nonnegative=True)\n",
    "cs = coords.CoordSystem('spherical', P, [theta, phi])\n",
    "dtheta, dphi = cs.base_oneforms()\n",
    "ds2 = a**2 * (tpow(dtheta, 2) + sympy.sin(theta)**2 * tpow(dphi, 2))\n",
    "g2 = metric.Metric(twoform=ds2)\n",
    "g2"
   ]
  },
  {
   "cell_type": "markdown",
   "id": "377a1bff",
   "metadata": {},
   "source": [
    "#### Compute Components"
   ]
  },
  {
   "cell_type": "code",
   "execution_count": null,
   "id": "07c3b1fc",
   "metadata": {
    "ExecuteTime": {
     "end_time": "2021-09-14T15:07:31.087464Z",
     "start_time": "2021-09-14T15:07:31.082884Z"
    },
    "scrolled": true
   },
   "outputs": [],
   "source": [
    "g2.matrix"
   ]
  },
  {
   "cell_type": "code",
   "execution_count": null,
   "id": "24a334d2",
   "metadata": {
    "ExecuteTime": {
     "end_time": "2021-09-14T15:07:31.314968Z",
     "start_time": "2021-09-14T15:07:31.283256Z"
    },
    "scrolled": true
   },
   "outputs": [],
   "source": [
    "g2.inverse.matrix"
   ]
  },
  {
   "cell_type": "code",
   "execution_count": null,
   "id": "2abc7de6",
   "metadata": {
    "ExecuteTime": {
     "end_time": "2021-09-14T15:02:11.154710Z",
     "start_time": "2021-09-14T15:02:01.400358Z"
    },
    "scrolled": true
   },
   "outputs": [],
   "source": [
    "crs, rmn, rcs = curvature.compute_components(g2)"
   ]
  },
  {
   "cell_type": "code",
   "execution_count": null,
   "id": "41c1e96e",
   "metadata": {
    "ExecuteTime": {
     "end_time": "2021-09-14T15:02:11.211046Z",
     "start_time": "2021-09-14T15:02:11.156587Z"
    },
    "scrolled": true
   },
   "outputs": [],
   "source": [
    "curvature.display_components(crs)"
   ]
  },
  {
   "cell_type": "code",
   "execution_count": null,
   "id": "91c73ac5",
   "metadata": {
    "ExecuteTime": {
     "end_time": "2021-09-14T15:02:11.253762Z",
     "start_time": "2021-09-14T15:02:11.212958Z"
    },
    "scrolled": true
   },
   "outputs": [],
   "source": [
    "curvature.display_components(rmn)"
   ]
  },
  {
   "cell_type": "code",
   "execution_count": null,
   "id": "9fbda79a",
   "metadata": {
    "ExecuteTime": {
     "end_time": "2021-09-14T15:02:11.274290Z",
     "start_time": "2021-09-14T15:02:11.255876Z"
    },
    "scrolled": true
   },
   "outputs": [],
   "source": [
    "curvature.display_components(rcs)"
   ]
  },
  {
   "cell_type": "code",
   "execution_count": null,
   "id": "6ced3570",
   "metadata": {
    "ExecuteTime": {
     "end_time": "2021-09-13T03:49:07.249903Z",
     "start_time": "2021-09-13T03:49:05.424937Z"
    },
    "scrolled": false
   },
   "outputs": [],
   "source": [
    "full_simplify(curvature.ricci_scalar(metric=g2))"
   ]
  },
  {
   "cell_type": "markdown",
   "id": "c80f105c",
   "metadata": {},
   "source": [
    "#### Parallel Transport"
   ]
  },
  {
   "cell_type": "code",
   "execution_count": null,
   "id": "8f5967a1",
   "metadata": {
    "ExecuteTime": {
     "end_time": "2021-09-14T16:51:01.004731Z",
     "start_time": "2021-09-14T16:51:01.002363Z"
    },
    "scrolled": true
   },
   "outputs": [],
   "source": [
    "param, theta_0 = sympy.symbols('lambda theta_0')\n",
    "\n",
    "curve = [\n",
    "    theta_0,\n",
    "    param,\n",
    "]"
   ]
  },
  {
   "cell_type": "code",
   "execution_count": null,
   "id": "eeb5ee12",
   "metadata": {
    "ExecuteTime": {
     "end_time": "2021-09-14T16:51:09.192885Z",
     "start_time": "2021-09-14T16:51:09.177506Z"
    },
    "scrolled": true
   },
   "outputs": [],
   "source": [
    "geodesic.parallel_transport_equation(0, curve, param, g2)"
   ]
  },
  {
   "cell_type": "code",
   "execution_count": null,
   "id": "69cca6ff",
   "metadata": {
    "ExecuteTime": {
     "end_time": "2021-09-14T16:51:14.972024Z",
     "start_time": "2021-09-14T16:51:14.834122Z"
    },
    "scrolled": true
   },
   "outputs": [],
   "source": [
    "full_simplify(geodesic.parallel_transport_equation(1, curve, param, g2))"
   ]
  },
  {
   "cell_type": "markdown",
   "id": "493bf96d",
   "metadata": {
    "heading_collapsed": true
   },
   "source": [
    "#### Geodesics"
   ]
  },
  {
   "cell_type": "markdown",
   "id": "7fc21e37",
   "metadata": {
    "hidden": true
   },
   "source": [
    "##### Geodesic Equations"
   ]
  },
  {
   "cell_type": "code",
   "execution_count": null,
   "id": "ef94af4d",
   "metadata": {
    "ExecuteTime": {
     "end_time": "2021-08-31T20:37:43.221857Z",
     "start_time": "2021-08-31T20:37:42.718591Z"
    },
    "hidden": true,
    "scrolled": false
   },
   "outputs": [],
   "source": [
    "full_simplify(geodesic.geodesic_equation(0, sympy.symbols('lambda'), g2))"
   ]
  },
  {
   "cell_type": "code",
   "execution_count": null,
   "id": "52086a07",
   "metadata": {
    "ExecuteTime": {
     "end_time": "2021-08-31T20:37:44.997856Z",
     "start_time": "2021-08-31T20:37:44.274276Z"
    },
    "hidden": true,
    "scrolled": false
   },
   "outputs": [],
   "source": [
    "full_simplify(geodesic.geodesic_equation(1, sympy.symbols('lambda'), g2))"
   ]
  },
  {
   "cell_type": "markdown",
   "id": "7bb17c6c",
   "metadata": {
    "heading_collapsed": true,
    "hidden": true
   },
   "source": [
    "##### Single Geodesic"
   ]
  },
  {
   "cell_type": "code",
   "execution_count": null,
   "id": "3e2f5a1e",
   "metadata": {
    "ExecuteTime": {
     "end_time": "2021-08-31T20:37:57.234671Z",
     "start_time": "2021-08-31T20:37:56.075436Z"
    },
    "hidden": true,
    "scrolled": false
   },
   "outputs": [],
   "source": [
    "ls = numpy.arange(0, 8, 0.0001)\n",
    "init = (0.01, 0.001, 3.14/4, 0.0)\n",
    "st = 2\n",
    "sp = 2\n",
    "df2 = geodesic.numerical_geodesic(g2, (numpy.pi/2, 0.0, numpy.pi/st, numpy.pi/sp), ls)\n",
    "#        for theta_0 in numpy.arange(0.01, 3.14, 0.5)]"
   ]
  },
  {
   "cell_type": "code",
   "execution_count": null,
   "id": "0f020263",
   "metadata": {
    "ExecuteTime": {
     "end_time": "2021-08-31T20:37:57.244759Z",
     "start_time": "2021-08-31T20:37:57.236601Z"
    },
    "hidden": true,
    "scrolled": false
   },
   "outputs": [],
   "source": [
    "df2['theta'] = numpy.mod(df2['theta'], 2*numpy.pi)\n",
    "df2['phi'] = numpy.mod(df2['phi'], numpy.pi)\n",
    "df2 = df2.reset_index().rename(columns={'index': 'order'})\n",
    "df2['lam'] = ls"
   ]
  },
  {
   "cell_type": "code",
   "execution_count": null,
   "id": "f557c297",
   "metadata": {
    "ExecuteTime": {
     "end_time": "2021-08-31T20:37:58.924507Z",
     "start_time": "2021-08-31T20:37:58.020805Z"
    },
    "hidden": true,
    "scrolled": true
   },
   "outputs": [],
   "source": [
    "if show_plots:\n",
    "    fig = px.scatter(df2, x=\"theta\", y='phi', \n",
    "                     color='order',\n",
    "                     title=\"B2 Geodesic\")\n",
    "\n",
    "    fig.show()"
   ]
  },
  {
   "cell_type": "markdown",
   "id": "1129863a",
   "metadata": {
    "heading_collapsed": true,
    "hidden": true
   },
   "source": [
    "##### Multiple Initial Conditions"
   ]
  },
  {
   "cell_type": "code",
   "execution_count": null,
   "id": "cdad4323",
   "metadata": {
    "ExecuteTime": {
     "end_time": "2021-08-31T20:41:17.467670Z",
     "start_time": "2021-08-31T20:40:31.044228Z"
    },
    "hidden": true,
    "scrolled": false
   },
   "outputs": [],
   "source": [
    "ls = numpy.arange(0, .04, 0.00001)\n",
    "st = 2\n",
    "sp = .01\n",
    "dfs2 = [geodesic.numerical_geodesic(g2, (theta_0, 0.0, numpy.pi/st, numpy.pi/sp), ls).assign(theta_0=theta_0) \n",
    "       for theta_0 in list(numpy.arange(numpy.pi/6, 5*numpy.pi/6, 0.1)) + \n",
    "       list(numpy.arange(numpy.pi/6 + numpy.pi, 5*numpy.pi/6 + numpy.pi, 0.1))]\n",
    "#        for theta_0 in numpy.arange(0.01, 3.14, 0.5)]\n",
    "df2b = pandas.concat(dfs2, axis=0)"
   ]
  },
  {
   "cell_type": "code",
   "execution_count": null,
   "id": "6f25ed4a",
   "metadata": {
    "ExecuteTime": {
     "end_time": "2021-08-31T20:41:17.479495Z",
     "start_time": "2021-08-31T20:41:17.469410Z"
    },
    "hidden": true,
    "scrolled": false
   },
   "outputs": [],
   "source": [
    "df2b['theta'] = numpy.mod(df2b['theta'], 2*numpy.pi)\n",
    "df2b = df2b.reset_index().rename(columns={'index': 'order'})"
   ]
  },
  {
   "cell_type": "code",
   "execution_count": null,
   "id": "5f55fa07",
   "metadata": {
    "ExecuteTime": {
     "end_time": "2021-08-31T20:44:14.120682Z",
     "start_time": "2021-08-31T20:44:14.114235Z"
    },
    "hidden": true,
    "scrolled": true
   },
   "outputs": [],
   "source": [
    "lim_df2b = boundary_filter(df2b, theta=(0, 2*3.14), phi=(0, 3.14))"
   ]
  },
  {
   "cell_type": "code",
   "execution_count": null,
   "id": "0e59d1df",
   "metadata": {
    "ExecuteTime": {
     "end_time": "2021-08-31T20:44:16.365656Z",
     "start_time": "2021-08-31T20:44:15.687212Z"
    },
    "hidden": true,
    "scrolled": true
   },
   "outputs": [],
   "source": [
    "if show_plots:\n",
    "    fig = px.scatter(lim_df2b, x=\"theta\", y='phi', \n",
    "                     color='theta_0',\n",
    "                     title=\"B2 Geodesics\")\n",
    "\n",
    "    fig.show()"
   ]
  },
  {
   "cell_type": "markdown",
   "id": "cb20524c",
   "metadata": {
    "heading_collapsed": true
   },
   "source": [
    "### B3 2-Sphere Sch"
   ]
  },
  {
   "cell_type": "markdown",
   "id": "9180096e",
   "metadata": {
    "hidden": true
   },
   "source": [
    "#### Setup Metric"
   ]
  },
  {
   "cell_type": "code",
   "execution_count": null,
   "id": "8ff7d0c9",
   "metadata": {
    "ExecuteTime": {
     "end_time": "2021-09-13T03:15:35.326789Z",
     "start_time": "2021-09-13T03:15:35.295257Z"
    },
    "hidden": true,
    "scrolled": false
   },
   "outputs": [],
   "source": [
    "M = Manifold('M', dim=2)\n",
    "P = Patch('origin', M)\n",
    "\n",
    "rho, phi, a = sympy.symbols('rho phi a', nonnegative=True)\n",
    "cs = coords.CoordSystem('schw', P, [rho, phi])\n",
    "drho, dphi = cs.base_oneforms()\n",
    "ds2 = a**2 * ( (1 / (1 - rho**2)) * tpow(drho, 2) + rho ** 2 * tpow(dphi, 2))\n",
    "g3 = metric.Metric(twoform=ds2)\n",
    "g3"
   ]
  },
  {
   "cell_type": "markdown",
   "id": "12bb7fd6",
   "metadata": {
    "hidden": true
   },
   "source": [
    "#### Geodesics"
   ]
  },
  {
   "cell_type": "code",
   "execution_count": null,
   "id": "eb8133d3",
   "metadata": {
    "ExecuteTime": {
     "end_time": "2021-08-31T20:48:36.663500Z",
     "start_time": "2021-08-31T20:48:36.308072Z"
    },
    "hidden": true,
    "scrolled": true
   },
   "outputs": [],
   "source": [
    "full_simplify(geodesic.geodesic_equation(0, sympy.symbols('lambda'), g3))"
   ]
  },
  {
   "cell_type": "code",
   "execution_count": null,
   "id": "e0d06b11",
   "metadata": {
    "ExecuteTime": {
     "end_time": "2021-08-31T20:48:37.993280Z",
     "start_time": "2021-08-31T20:48:37.827307Z"
    },
    "hidden": true,
    "scrolled": true
   },
   "outputs": [],
   "source": [
    "full_simplify(geodesic.geodesic_equation(1, sympy.symbols('lambda'), g3))"
   ]
  },
  {
   "cell_type": "code",
   "execution_count": null,
   "id": "37cfaf3c",
   "metadata": {
    "ExecuteTime": {
     "end_time": "2021-09-13T03:11:50.658776Z",
     "start_time": "2021-09-13T03:11:50.065949Z"
    },
    "hidden": true,
    "scrolled": false
   },
   "outputs": [],
   "source": [
    "# init = (numpy.sin(numpy.pi/4), 0.0, numpy.cos(numpy.pi/4), numpy.pi/4)\n",
    "init = (numpy.sin(0), 0.0, numpy.cos(numpy.pi/4), numpy.pi/4)\n",
    "lambdas = numpy.arange(0, 2.1, 0.001)\n",
    "df3 = geodesic.numerical_geodesic(g3, init, lambdas)"
   ]
  },
  {
   "cell_type": "code",
   "execution_count": null,
   "id": "71cda1c9",
   "metadata": {
    "ExecuteTime": {
     "end_time": "2021-09-13T03:12:02.972464Z",
     "start_time": "2021-09-13T03:12:02.967900Z"
    },
    "hidden": true,
    "scrolled": false
   },
   "outputs": [],
   "source": [
    "df3['phi'] = numpy.mod(df3['phi'], numpy.pi)\n",
    "df3 = df3.reset_index().rename(columns={'index': 'order'})\n",
    "df3['lam'] = lambdas"
   ]
  },
  {
   "cell_type": "code",
   "execution_count": null,
   "id": "a7aba4b8",
   "metadata": {
    "ExecuteTime": {
     "end_time": "2021-09-13T03:12:03.695363Z",
     "start_time": "2021-09-13T03:12:03.627940Z"
    },
    "hidden": true,
    "scrolled": true
   },
   "outputs": [],
   "source": [
    "if show_plots:\n",
    "    fig = px.scatter(df3, x=\"rho\", y='phi', \n",
    "    #                  color='init',\n",
    "                         title=\"B3 Geodesic\")\n",
    "\n",
    "    fig.show()"
   ]
  },
  {
   "cell_type": "markdown",
   "id": "ba57a61f",
   "metadata": {},
   "source": [
    "### B4 - Embedded Surface - General Case"
   ]
  },
  {
   "cell_type": "markdown",
   "id": "388f01a5",
   "metadata": {},
   "source": [
    "#### Setup Metric"
   ]
  },
  {
   "cell_type": "code",
   "execution_count": null,
   "id": "6adfff6b",
   "metadata": {
    "ExecuteTime": {
     "end_time": "2021-09-14T15:45:22.054512Z",
     "start_time": "2021-09-14T15:45:21.960655Z"
    },
    "scrolled": false
   },
   "outputs": [],
   "source": [
    "M = Manifold('M', dim=2)\n",
    "P = Patch('origin', M)\n",
    "\n",
    "x, y = sympy.symbols('x y', nonnegative=False)\n",
    "_coords = [x, y]\n",
    "cs = coords.CoordSystem('Cartesian', P, [x, y])\n",
    "dx, dy = cs.base_oneforms()\n",
    "_1forms = [dx, dy]\n",
    "\n",
    "f = sympy.Function('f')(x, y)\n",
    "\n",
    "ds2 = []\n",
    "for i in range(2):\n",
    "    for j in range(2):\n",
    "        ds2.append(((1 if i == j else 0) + sympy.diff(f, _coords[i]) * sympy.diff(f, _coords[j])) \n",
    "                   * sympy.diffgeom.TensorProduct(_1forms[i],  _1forms[j]))\n",
    "ds2 = sum(ds2)\n",
    "g4 = metric.Metric(twoform=ds2)\n",
    "g4"
   ]
  },
  {
   "cell_type": "markdown",
   "id": "97ec8105",
   "metadata": {},
   "source": [
    "#### Compute Components"
   ]
  },
  {
   "cell_type": "code",
   "execution_count": null,
   "id": "6ddbf923",
   "metadata": {
    "ExecuteTime": {
     "end_time": "2021-08-31T20:49:04.471485Z",
     "start_time": "2021-08-31T20:49:04.466002Z"
    },
    "scrolled": false
   },
   "outputs": [],
   "source": [
    "g4.matrix"
   ]
  },
  {
   "cell_type": "code",
   "execution_count": null,
   "id": "a79b0a39",
   "metadata": {
    "ExecuteTime": {
     "end_time": "2021-08-31T20:49:05.079951Z",
     "start_time": "2021-08-31T20:49:05.074449Z"
    },
    "scrolled": true
   },
   "outputs": [],
   "source": [
    "sympy.det(g4.matrix)"
   ]
  },
  {
   "cell_type": "code",
   "execution_count": null,
   "id": "90f21fbe",
   "metadata": {
    "ExecuteTime": {
     "end_time": "2021-08-31T20:49:05.993013Z",
     "start_time": "2021-08-31T20:49:05.580833Z"
    },
    "scrolled": false
   },
   "outputs": [],
   "source": [
    "g4.inverse.matrix"
   ]
  },
  {
   "cell_type": "code",
   "execution_count": null,
   "id": "ebaa9f65",
   "metadata": {
    "ExecuteTime": {
     "end_time": "2021-08-31T20:49:23.483347Z",
     "start_time": "2021-08-31T20:49:06.289138Z"
    },
    "scrolled": false
   },
   "outputs": [],
   "source": [
    "crs, rms, rcs = curvature.compute_components(g4)"
   ]
  },
  {
   "cell_type": "code",
   "execution_count": null,
   "id": "b5306e41",
   "metadata": {
    "ExecuteTime": {
     "end_time": "2021-08-31T20:49:23.492657Z",
     "start_time": "2021-08-31T20:49:23.485045Z"
    },
    "scrolled": true
   },
   "outputs": [],
   "source": [
    "# Simplify notation\n",
    "subscript_notation = [\n",
    "    (sympy.diff(sympy.diff(f, x), x), sympy.symbols('f_xx')),\n",
    "    (sympy.diff(sympy.diff(f, y), y), sympy.symbols('f_yy')),\n",
    "    (sympy.diff(sympy.diff(f, x), y), sympy.symbols('f_xy')),\n",
    "    (sympy.diff(f, x), sympy.symbols('f_x')),\n",
    "    (sympy.diff(f, y), sympy.symbols('f_y')),\n",
    "]"
   ]
  },
  {
   "cell_type": "code",
   "execution_count": null,
   "id": "a0f46ca0",
   "metadata": {
    "ExecuteTime": {
     "end_time": "2021-08-31T20:49:23.548263Z",
     "start_time": "2021-08-31T20:49:23.494041Z"
    },
    "scrolled": true
   },
   "outputs": [],
   "source": [
    "crs = [(c[0], c[1].subs(subscript_notation)) for c in crs]\n",
    "rms = [(c[0], c[1].subs(subscript_notation)) for c in rms]\n",
    "rcs = [(c[0], c[1].subs(subscript_notation)) for c in rcs]"
   ]
  },
  {
   "cell_type": "code",
   "execution_count": null,
   "id": "6e3889c8",
   "metadata": {
    "ExecuteTime": {
     "end_time": "2021-08-31T20:49:23.673774Z",
     "start_time": "2021-08-31T20:49:23.551372Z"
    },
    "scrolled": true
   },
   "outputs": [],
   "source": [
    "curvature.display_components(crs)"
   ]
  },
  {
   "cell_type": "code",
   "execution_count": null,
   "id": "1902db51",
   "metadata": {
    "ExecuteTime": {
     "end_time": "2021-08-31T20:49:24.181636Z",
     "start_time": "2021-08-31T20:49:23.675461Z"
    },
    "scrolled": true
   },
   "outputs": [],
   "source": [
    "curvature.display_components(rms)"
   ]
  },
  {
   "cell_type": "code",
   "execution_count": null,
   "id": "b82cf570",
   "metadata": {
    "ExecuteTime": {
     "end_time": "2021-08-31T20:49:24.404113Z",
     "start_time": "2021-08-31T20:49:24.183470Z"
    },
    "scrolled": true
   },
   "outputs": [],
   "source": [
    "curvature.display_components(rcs)"
   ]
  },
  {
   "cell_type": "markdown",
   "id": "7cf5a91e",
   "metadata": {},
   "source": [
    "Clean Expr"
   ]
  },
  {
   "cell_type": "code",
   "execution_count": null,
   "id": "eb607035",
   "metadata": {
    "ExecuteTime": {
     "end_time": "2021-08-31T20:49:30.036624Z",
     "start_time": "2021-08-31T20:49:24.405425Z"
    },
    "scrolled": true
   },
   "outputs": [],
   "source": [
    "simplified = full_simplify(curvature.ricci_scalar(g4)).subs(subscript_notation)\n",
    "simplified"
   ]
  },
  {
   "cell_type": "markdown",
   "id": "88d22c65",
   "metadata": {},
   "source": [
    "#### Fun Examples"
   ]
  },
  {
   "cell_type": "markdown",
   "id": "648b18db",
   "metadata": {},
   "source": [
    "Paraboloid"
   ]
  },
  {
   "cell_type": "code",
   "execution_count": null,
   "id": "61ba07c3",
   "metadata": {
    "ExecuteTime": {
     "end_time": "2021-08-31T20:49:30.041557Z",
     "start_time": "2021-08-31T20:49:30.038204Z"
    },
    "scrolled": true
   },
   "outputs": [],
   "source": [
    "a, b = sympy.symbols('a b')\n",
    "subs = {f: x**2/a + y**2/b}"
   ]
  },
  {
   "cell_type": "code",
   "execution_count": null,
   "id": "7528b12f",
   "metadata": {
    "ExecuteTime": {
     "end_time": "2021-08-31T20:49:34.678862Z",
     "start_time": "2021-08-31T20:49:30.045091Z"
    },
    "scrolled": true
   },
   "outputs": [],
   "source": [
    "full_simplify(full_simplify(curvature.ricci_scalar(g4)).subs(subs))"
   ]
  },
  {
   "cell_type": "markdown",
   "id": "e84f60ea",
   "metadata": {},
   "source": [
    "### B5 - Embedded Surface - Sphere"
   ]
  },
  {
   "cell_type": "markdown",
   "id": "16e96417",
   "metadata": {},
   "source": [
    "#### Substitution"
   ]
  },
  {
   "cell_type": "code",
   "execution_count": null,
   "id": "197b1ffd",
   "metadata": {
    "ExecuteTime": {
     "end_time": "2021-09-14T16:53:24.616826Z",
     "start_time": "2021-09-14T16:53:24.523931Z"
    },
    "scrolled": true
   },
   "outputs": [],
   "source": [
    "a_0 = sympy.symbols('a_0')\n",
    "subs = {f: sympy.sqrt(a_0**2 - x**2 - y**2)}\n",
    "g5 = metric.Metric(twoform=g4.twoform.subs(subs))\n",
    "g5"
   ]
  },
  {
   "cell_type": "markdown",
   "id": "260b637d",
   "metadata": {},
   "source": [
    "#### Curvature"
   ]
  },
  {
   "cell_type": "code",
   "execution_count": null,
   "id": "f630bac5",
   "metadata": {
    "ExecuteTime": {
     "end_time": "2021-08-31T21:02:43.137751Z",
     "start_time": "2021-08-31T21:02:21.281011Z"
    },
    "scrolled": true
   },
   "outputs": [],
   "source": [
    "full_simplify(curvature.ricci_scalar(g5, simplify_intermediate=True))"
   ]
  },
  {
   "cell_type": "markdown",
   "id": "d0128db2",
   "metadata": {},
   "source": [
    "#### Parallel Transport"
   ]
  },
  {
   "cell_type": "code",
   "execution_count": null,
   "id": "34497398",
   "metadata": {
    "ExecuteTime": {
     "end_time": "2021-09-14T16:55:29.494190Z",
     "start_time": "2021-09-14T16:55:29.489655Z"
    },
    "scrolled": true
   },
   "outputs": [],
   "source": [
    "param = sympy.symbols('\\\\lambda')\n",
    "\n",
    "curve = [\n",
    "    sympy.cos(2 * sympy.pi * param),\n",
    "    sympy.sin(2 * sympy.pi * param),\n",
    "]"
   ]
  },
  {
   "cell_type": "code",
   "execution_count": null,
   "id": "7b955a49",
   "metadata": {
    "ExecuteTime": {
     "end_time": "2021-09-14T16:55:31.511603Z",
     "start_time": "2021-09-14T16:55:30.458182Z"
    },
    "scrolled": true
   },
   "outputs": [],
   "source": [
    "full_simplify(geodesic.parallel_transport_equation(0, curve, param, g5))"
   ]
  },
  {
   "cell_type": "code",
   "execution_count": null,
   "id": "75fee357",
   "metadata": {
    "ExecuteTime": {
     "end_time": "2021-09-14T16:55:40.283732Z",
     "start_time": "2021-09-14T16:55:39.291959Z"
    },
    "scrolled": true
   },
   "outputs": [],
   "source": [
    "full_simplify(geodesic.parallel_transport_equation(1, curve, param, g5))"
   ]
  },
  {
   "cell_type": "markdown",
   "id": "57e38032",
   "metadata": {},
   "source": [
    "#### Geodesic"
   ]
  },
  {
   "cell_type": "markdown",
   "id": "d239b5fe",
   "metadata": {},
   "source": [
    "##### Geodesic Equations"
   ]
  },
  {
   "cell_type": "code",
   "execution_count": null,
   "id": "d23f2814",
   "metadata": {
    "ExecuteTime": {
     "end_time": "2021-08-31T21:02:46.039238Z",
     "start_time": "2021-08-31T21:02:43.142020Z"
    },
    "scrolled": true
   },
   "outputs": [],
   "source": [
    "full_simplify(geodesic.geodesic_equation(0, sympy.symbols('lambda'), g5))"
   ]
  },
  {
   "cell_type": "code",
   "execution_count": null,
   "id": "e780cc5b",
   "metadata": {
    "ExecuteTime": {
     "end_time": "2021-08-31T21:02:48.968702Z",
     "start_time": "2021-08-31T21:02:46.041114Z"
    },
    "scrolled": true
   },
   "outputs": [],
   "source": [
    "full_simplify(geodesic.geodesic_equation(1, sympy.symbols('lambda'), g5))"
   ]
  },
  {
   "cell_type": "markdown",
   "id": "1638d3e7",
   "metadata": {},
   "source": [
    "##### Visual"
   ]
  },
  {
   "cell_type": "code",
   "execution_count": null,
   "id": "26a448e8",
   "metadata": {
    "ExecuteTime": {
     "end_time": "2021-09-13T02:49:33.047438Z",
     "start_time": "2021-09-13T02:49:32.965151Z"
    },
    "scrolled": true
   },
   "outputs": [],
   "source": [
    "a_0_val = 1.0\n",
    "g5_num = metric.Metric(twoform=g5.twoform.subs({a_0: a_0_val}))"
   ]
  },
  {
   "cell_type": "code",
   "execution_count": null,
   "id": "25cb5fa6",
   "metadata": {
    "ExecuteTime": {
     "end_time": "2021-09-13T02:52:03.267299Z",
     "start_time": "2021-09-13T02:49:33.133796Z"
    },
    "scrolled": false
   },
   "outputs": [],
   "source": [
    "ls = numpy.arange(0.0, 8.0, 0.001)\n",
    "df5 = geodesic.numerical_sampler(g5_num, ls, (0.5, 0.5), tangent_scale=0.1)"
   ]
  },
  {
   "cell_type": "code",
   "execution_count": null,
   "id": "8851435c",
   "metadata": {
    "ExecuteTime": {
     "end_time": "2021-09-13T02:52:03.279945Z",
     "start_time": "2021-09-13T02:52:03.269046Z"
    },
    "scrolled": true
   },
   "outputs": [],
   "source": [
    "lim_df5 = boundary_filter(df5, x=(-1, 1), y=(-1, 1))"
   ]
  },
  {
   "cell_type": "code",
   "execution_count": null,
   "id": "74570a1e",
   "metadata": {
    "ExecuteTime": {
     "end_time": "2021-09-13T02:52:05.705011Z",
     "start_time": "2021-09-13T02:52:03.281635Z"
    },
    "scrolled": true
   },
   "outputs": [],
   "source": [
    "if show_plots:\n",
    "    fig = px.scatter(lim_df5, x=\"x\", y='y', \n",
    "                     color='theta_0',\n",
    "                     title=\"B5 Geodesic\", \n",
    "                     height=600, width=600)\n",
    "    fig.show()"
   ]
  },
  {
   "cell_type": "markdown",
   "id": "5fcbdeaa",
   "metadata": {},
   "source": [
    "### B6 - Embedded Surface - Hyperboloid"
   ]
  },
  {
   "cell_type": "markdown",
   "id": "59c9d039",
   "metadata": {},
   "source": [
    "#### Substitution"
   ]
  },
  {
   "cell_type": "code",
   "execution_count": null,
   "id": "0f06bcd0",
   "metadata": {
    "ExecuteTime": {
     "end_time": "2021-09-14T16:55:58.916676Z",
     "start_time": "2021-09-14T16:55:58.826834Z"
    },
    "scrolled": true
   },
   "outputs": [],
   "source": [
    "a_0 = sympy.symbols('a_0')\n",
    "subs = {f: sympy.sqrt(a_0**2 - x**2 + y**2)}\n",
    "g6 = metric.Metric(twoform=g4.twoform.subs(subs))\n",
    "g6"
   ]
  },
  {
   "cell_type": "code",
   "execution_count": null,
   "id": "6424c65b",
   "metadata": {
    "ExecuteTime": {
     "end_time": "2021-09-14T16:56:00.383955Z",
     "start_time": "2021-09-14T16:56:00.365527Z"
    },
    "scrolled": true
   },
   "outputs": [],
   "source": [
    "g6.matrix.doit()"
   ]
  },
  {
   "cell_type": "markdown",
   "id": "c28708b6",
   "metadata": {},
   "source": [
    "#### Curvature"
   ]
  },
  {
   "cell_type": "code",
   "execution_count": null,
   "id": "be75dcd2",
   "metadata": {
    "ExecuteTime": {
     "end_time": "2021-09-14T15:47:48.468501Z",
     "start_time": "2021-09-14T15:47:24.739284Z"
    },
    "scrolled": true
   },
   "outputs": [],
   "source": [
    "full_simplify(curvature.ricci_scalar(g6, simplify_intermediate=True))"
   ]
  },
  {
   "cell_type": "markdown",
   "id": "cc70eefb",
   "metadata": {},
   "source": [
    "#### Parallel Transport"
   ]
  },
  {
   "cell_type": "code",
   "execution_count": null,
   "id": "c3e4bb51",
   "metadata": {
    "ExecuteTime": {
     "end_time": "2021-09-14T16:56:19.816774Z",
     "start_time": "2021-09-14T16:56:13.993986Z"
    },
    "scrolled": true
   },
   "outputs": [],
   "source": [
    "full_simplify(geodesic.parallel_transport_equation(0, curve, param, g6))"
   ]
  },
  {
   "cell_type": "code",
   "execution_count": null,
   "id": "67b0c5b3",
   "metadata": {
    "ExecuteTime": {
     "end_time": "2021-09-14T16:56:24.827553Z",
     "start_time": "2021-09-14T16:56:19.818774Z"
    },
    "scrolled": true
   },
   "outputs": [],
   "source": [
    "full_simplify(geodesic.parallel_transport_equation(0, curve, param, g6))"
   ]
  },
  {
   "cell_type": "markdown",
   "id": "f18b167b",
   "metadata": {},
   "source": [
    "#### Geodesic"
   ]
  },
  {
   "cell_type": "code",
   "execution_count": null,
   "id": "e422963d",
   "metadata": {
    "ExecuteTime": {
     "end_time": "2021-09-13T02:52:05.894134Z",
     "start_time": "2021-09-13T02:52:05.810588Z"
    },
    "scrolled": true
   },
   "outputs": [],
   "source": [
    "a_0_val = 1.0\n",
    "g6_num = metric.Metric(twoform=g6.twoform.subs({a_0: a_0_val}))"
   ]
  },
  {
   "cell_type": "code",
   "execution_count": null,
   "id": "8f903341",
   "metadata": {
    "ExecuteTime": {
     "end_time": "2021-09-13T02:54:33.212364Z",
     "start_time": "2021-09-13T02:52:05.895688Z"
    },
    "scrolled": true
   },
   "outputs": [],
   "source": [
    "ls = numpy.arange(0.0, 8.0, 0.001)\n",
    "df6 = geodesic.numerical_sampler(g6_num, ls, (0.5, 0.5), tangent_scale=0.1)"
   ]
  },
  {
   "cell_type": "code",
   "execution_count": null,
   "id": "79c7f221",
   "metadata": {
    "ExecuteTime": {
     "end_time": "2021-09-13T02:54:33.224907Z",
     "start_time": "2021-09-13T02:54:33.214404Z"
    },
    "scrolled": true
   },
   "outputs": [],
   "source": [
    "lim_df6 = boundary_filter(df6, x=(-1, 1), y=(-1, 1))"
   ]
  },
  {
   "cell_type": "code",
   "execution_count": null,
   "id": "c94ad75d",
   "metadata": {
    "ExecuteTime": {
     "end_time": "2021-09-13T02:54:35.370187Z",
     "start_time": "2021-09-13T02:54:33.226784Z"
    },
    "scrolled": true
   },
   "outputs": [],
   "source": [
    "if show_plots:\n",
    "    fig = px.scatter(lim_df6, x=\"x\", y='y', \n",
    "                     color='theta_0',\n",
    "                     title=\"B6 Geodesic\",\n",
    "                     height=600, width=600)\n",
    "\n",
    "    fig.show()"
   ]
  },
  {
   "cell_type": "markdown",
   "id": "faee1c20",
   "metadata": {},
   "source": [
    "### B7 - Embedded Surface - Cylinder"
   ]
  },
  {
   "cell_type": "markdown",
   "id": "044486f4",
   "metadata": {},
   "source": [
    "#### Substitution"
   ]
  },
  {
   "cell_type": "code",
   "execution_count": null,
   "id": "fc83feca",
   "metadata": {
    "ExecuteTime": {
     "end_time": "2021-09-14T15:52:56.588186Z",
     "start_time": "2021-09-14T15:52:56.495931Z"
    },
    "scrolled": true
   },
   "outputs": [],
   "source": [
    "a_0 = sympy.symbols('a_0')\n",
    "subs = {f: sympy.sqrt(a_0**2 - y**2)}\n",
    "g7 = metric.Metric(twoform=g4.twoform.subs(subs))\n",
    "g7"
   ]
  },
  {
   "cell_type": "code",
   "execution_count": null,
   "id": "91dd8a1c",
   "metadata": {
    "ExecuteTime": {
     "end_time": "2021-09-14T15:53:00.419459Z",
     "start_time": "2021-09-14T15:53:00.407592Z"
    },
    "scrolled": true
   },
   "outputs": [],
   "source": [
    "g7.matrix.doit()"
   ]
  },
  {
   "cell_type": "markdown",
   "id": "adf716d2",
   "metadata": {},
   "source": [
    "#### Curvature"
   ]
  },
  {
   "cell_type": "code",
   "execution_count": null,
   "id": "db91f796",
   "metadata": {
    "ExecuteTime": {
     "end_time": "2021-09-14T15:55:26.922244Z",
     "start_time": "2021-09-14T15:55:04.145927Z"
    },
    "scrolled": true
   },
   "outputs": [],
   "source": [
    "crs, rmn, rcs = curvature.compute_components(g7)"
   ]
  },
  {
   "cell_type": "code",
   "execution_count": null,
   "id": "b19b668a",
   "metadata": {
    "ExecuteTime": {
     "end_time": "2021-09-14T15:55:34.682616Z",
     "start_time": "2021-09-14T15:55:34.662487Z"
    },
    "scrolled": true
   },
   "outputs": [],
   "source": [
    "curvature.display_components(crs)"
   ]
  },
  {
   "cell_type": "code",
   "execution_count": null,
   "id": "cd56c332",
   "metadata": {
    "ExecuteTime": {
     "end_time": "2021-08-31T21:03:53.597562Z",
     "start_time": "2021-08-31T21:03:48.235333Z"
    },
    "scrolled": true
   },
   "outputs": [],
   "source": [
    "full_simplify(curvature.ricci_scalar(g7))"
   ]
  },
  {
   "cell_type": "markdown",
   "id": "d87127af",
   "metadata": {},
   "source": [
    "#### Parallel Transport"
   ]
  },
  {
   "cell_type": "code",
   "execution_count": null,
   "id": "64ee26e9",
   "metadata": {
    "ExecuteTime": {
     "end_time": "2021-09-14T16:56:59.187232Z",
     "start_time": "2021-09-14T16:56:59.155263Z"
    },
    "scrolled": true
   },
   "outputs": [],
   "source": [
    "full_simplify(geodesic.parallel_transport_equation(0, curve, param, g7))"
   ]
  },
  {
   "cell_type": "code",
   "execution_count": null,
   "id": "37d0be37",
   "metadata": {
    "ExecuteTime": {
     "end_time": "2021-09-14T16:57:05.895003Z",
     "start_time": "2021-09-14T16:57:05.072920Z"
    },
    "scrolled": true
   },
   "outputs": [],
   "source": [
    "full_simplify(geodesic.parallel_transport_equation(1, curve, param, g7))"
   ]
  },
  {
   "cell_type": "markdown",
   "id": "ef667adc",
   "metadata": {},
   "source": [
    "#### Geodesic"
   ]
  },
  {
   "cell_type": "code",
   "execution_count": null,
   "id": "d84d3406",
   "metadata": {
    "ExecuteTime": {
     "end_time": "2021-08-31T21:03:53.689645Z",
     "start_time": "2021-08-31T21:03:53.600093Z"
    },
    "scrolled": true
   },
   "outputs": [],
   "source": [
    "a_0_val = 1.0\n",
    "g7_num = metric.Metric(twoform=g7.twoform.subs({a_0: a_0_val}))"
   ]
  },
  {
   "cell_type": "code",
   "execution_count": null,
   "id": "906494ef",
   "metadata": {
    "ExecuteTime": {
     "end_time": "2021-08-31T21:04:53.637929Z",
     "start_time": "2021-08-31T21:04:03.247240Z"
    },
    "scrolled": true
   },
   "outputs": [],
   "source": [
    "ls = numpy.arange(0.0, 8.0, 0.001)\n",
    "df7 = geodesic.numerical_sampler(g7_num, ls, (0.5, 0.5), tangent_scale=0.1)"
   ]
  },
  {
   "cell_type": "code",
   "execution_count": null,
   "id": "59dea642",
   "metadata": {
    "ExecuteTime": {
     "end_time": "2021-08-31T21:04:53.659767Z",
     "start_time": "2021-08-31T21:04:53.649694Z"
    },
    "scrolled": true
   },
   "outputs": [],
   "source": [
    "lim_df7 = boundary_filter(df7, x=(-1, 1), y=(-1, 1))"
   ]
  },
  {
   "cell_type": "code",
   "execution_count": null,
   "id": "370cd50d",
   "metadata": {
    "ExecuteTime": {
     "end_time": "2021-08-31T21:04:55.868507Z",
     "start_time": "2021-08-31T21:04:53.662090Z"
    },
    "scrolled": true
   },
   "outputs": [],
   "source": [
    "if show_plots:\n",
    "    fig = px.scatter(lim_df7, x=\"x\", y='y', \n",
    "                     color='theta_0',\n",
    "                     title=\"B7 Geodesic\",\n",
    "                     height=600, width=600)\n",
    "    fig.show()"
   ]
  },
  {
   "cell_type": "markdown",
   "id": "bc91a1ef",
   "metadata": {},
   "source": [
    "### B8 - Embedded Surface - Cone"
   ]
  },
  {
   "cell_type": "markdown",
   "id": "0a57f734",
   "metadata": {},
   "source": [
    "#### Substitution"
   ]
  },
  {
   "cell_type": "code",
   "execution_count": null,
   "id": "ae4129e2",
   "metadata": {
    "ExecuteTime": {
     "end_time": "2021-09-14T15:58:11.524736Z",
     "start_time": "2021-09-14T15:58:11.379820Z"
    },
    "scrolled": true
   },
   "outputs": [],
   "source": [
    "a_0 = sympy.symbols('a_0')\n",
    "subs = {f: sympy.sqrt(a_0 * (x**2 + y**2))}\n",
    "g8 = metric.Metric(twoform=g4.twoform.subs(subs).doit())\n",
    "g8"
   ]
  },
  {
   "cell_type": "code",
   "execution_count": null,
   "id": "447a902b",
   "metadata": {
    "ExecuteTime": {
     "end_time": "2021-09-14T16:02:40.476101Z",
     "start_time": "2021-09-14T16:02:40.346790Z"
    },
    "scrolled": true
   },
   "outputs": [],
   "source": [
    "full_simplify(g8.matrix)"
   ]
  },
  {
   "cell_type": "markdown",
   "id": "e192778f",
   "metadata": {},
   "source": [
    "#### Curvature"
   ]
  },
  {
   "cell_type": "code",
   "execution_count": null,
   "id": "6edbc8c4",
   "metadata": {
    "ExecuteTime": {
     "end_time": "2021-09-14T16:04:46.053413Z",
     "start_time": "2021-09-14T16:03:46.937508Z"
    },
    "scrolled": true
   },
   "outputs": [],
   "source": [
    "crs, rmn, rcs = curvature.compute_components(g8)"
   ]
  },
  {
   "cell_type": "code",
   "execution_count": null,
   "id": "4c1f2c7a",
   "metadata": {
    "ExecuteTime": {
     "end_time": "2021-09-14T16:06:17.573520Z",
     "start_time": "2021-09-14T16:06:17.278063Z"
    },
    "scrolled": true
   },
   "outputs": [],
   "source": [
    "curvature.display_components(crs)"
   ]
  },
  {
   "cell_type": "code",
   "execution_count": null,
   "id": "cc5e130c",
   "metadata": {
    "scrolled": true
   },
   "outputs": [],
   "source": []
  },
  {
   "cell_type": "code",
   "execution_count": null,
   "id": "08df8997",
   "metadata": {
    "ExecuteTime": {
     "end_time": "2021-09-14T16:00:04.541487Z",
     "start_time": "2021-09-14T15:59:21.374878Z"
    },
    "scrolled": true
   },
   "outputs": [],
   "source": [
    "full_simplify(curvature.ricci_scalar(g8))"
   ]
  },
  {
   "cell_type": "markdown",
   "id": "7f3495d4",
   "metadata": {},
   "source": [
    "#### Parallel Transport"
   ]
  },
  {
   "cell_type": "code",
   "execution_count": null,
   "id": "699b0657",
   "metadata": {
    "ExecuteTime": {
     "end_time": "2021-09-14T16:57:29.517393Z",
     "start_time": "2021-09-14T16:57:27.805412Z"
    },
    "scrolled": true
   },
   "outputs": [],
   "source": [
    "full_simplify(geodesic.parallel_transport_equation(0, curve, param, g8))"
   ]
  },
  {
   "cell_type": "code",
   "execution_count": null,
   "id": "67f64cba",
   "metadata": {
    "ExecuteTime": {
     "end_time": "2021-09-14T16:57:35.393115Z",
     "start_time": "2021-09-14T16:57:33.897438Z"
    },
    "scrolled": true
   },
   "outputs": [],
   "source": [
    "full_simplify(geodesic.parallel_transport_equation(1, curve, param, g8))"
   ]
  },
  {
   "cell_type": "markdown",
   "id": "db288c69",
   "metadata": {},
   "source": [
    "#### Geodesic"
   ]
  },
  {
   "cell_type": "code",
   "execution_count": null,
   "id": "94237f4b",
   "metadata": {
    "ExecuteTime": {
     "end_time": "2021-08-31T21:05:27.701335Z",
     "start_time": "2021-08-31T21:05:27.632751Z"
    },
    "scrolled": true
   },
   "outputs": [],
   "source": [
    "a_0_val = 1.0\n",
    "g8_num = metric.Metric(twoform=g8.twoform.subs({a_0: a_0_val}))"
   ]
  },
  {
   "cell_type": "code",
   "execution_count": null,
   "id": "2a28f65e",
   "metadata": {
    "ExecuteTime": {
     "end_time": "2021-08-31T21:06:59.131171Z",
     "start_time": "2021-08-31T21:05:35.679792Z"
    },
    "scrolled": true
   },
   "outputs": [],
   "source": [
    "ls = numpy.arange(0.0, 8.0, 0.001)\n",
    "df8 = geodesic.numerical_sampler(g8_num, ls, (0.5, 0.5), tangent_scale=0.1)"
   ]
  },
  {
   "cell_type": "code",
   "execution_count": null,
   "id": "d835e825",
   "metadata": {
    "ExecuteTime": {
     "end_time": "2021-08-31T21:06:59.168686Z",
     "start_time": "2021-08-31T21:06:59.133483Z"
    },
    "scrolled": true
   },
   "outputs": [],
   "source": [
    "lim_df8 = boundary_filter(df8, x=(-1, 1), y=(-1, 1))"
   ]
  },
  {
   "cell_type": "code",
   "execution_count": null,
   "id": "f92bfe36",
   "metadata": {
    "ExecuteTime": {
     "end_time": "2021-08-31T21:07:01.146507Z",
     "start_time": "2021-08-31T21:06:59.172603Z"
    },
    "scrolled": true
   },
   "outputs": [],
   "source": [
    "if show_plots:\n",
    "    fig = px.scatter(lim_df8, x=\"x\", y='y', \n",
    "                     color='theta_0',\n",
    "                     title=\"B8 Geodesic\", \n",
    "                     height=600, width=600)\n",
    "\n",
    "    fig.show()"
   ]
  },
  {
   "cell_type": "markdown",
   "id": "afe30bb5",
   "metadata": {},
   "source": [
    "## Applications"
   ]
  },
  {
   "cell_type": "markdown",
   "id": "f7d796f0",
   "metadata": {},
   "source": [
    "### C1 - Lower bound on size of universe"
   ]
  },
  {
   "cell_type": "code",
   "execution_count": null,
   "id": "50b73132",
   "metadata": {
    "ExecuteTime": {
     "end_time": "2021-09-14T16:39:48.457775Z",
     "start_time": "2021-09-14T16:39:48.319113Z"
    },
    "scrolled": true
   },
   "outputs": [],
   "source": [
    "M = Manifold('M', dim=3)\n",
    "P = Patch('origin', M)\n",
    "\n",
    "r, theta, phi = sympy.symbols('r theta phi', nonnegative=True)\n",
    "a_0 = sympy.symbols('a_0', real=True, nonnegative=True)\n",
    "\n",
    "cs = coords.CoordSystem('spherical', P, [r, theta, phi])\n",
    "dr, dtheta, dphi = cs.base_oneforms()\n",
    "\n",
    "ds2 = a_0 ** 2 * ((1 / (1 - r ** 2)) * tpow(dr, 2) + r ** 2 * (tpow(dtheta, 2) + \n",
    "                                                               sympy.sin(theta) ** 2 * tpow(dphi, 2)))\n",
    "\n",
    "gc1 = metric.Metric(twoform=ds2)\n",
    "gc1"
   ]
  },
  {
   "cell_type": "code",
   "execution_count": null,
   "id": "1300d0fb",
   "metadata": {
    "ExecuteTime": {
     "end_time": "2021-09-14T16:39:55.617536Z",
     "start_time": "2021-09-14T16:39:55.611997Z"
    },
    "scrolled": true
   },
   "outputs": [],
   "source": [
    "gc1.matrix"
   ]
  },
  {
   "cell_type": "code",
   "execution_count": null,
   "id": "92b9864c",
   "metadata": {
    "ExecuteTime": {
     "end_time": "2021-09-13T23:13:19.171440Z",
     "start_time": "2021-09-13T23:13:19.168354Z"
    },
    "scrolled": true
   },
   "outputs": [],
   "source": [
    "R_0 = 1.7e-54 * (1 / units.meter) ** 2"
   ]
  },
  {
   "cell_type": "code",
   "execution_count": null,
   "id": "388a9a95",
   "metadata": {
    "ExecuteTime": {
     "end_time": "2021-09-14T02:53:08.811119Z",
     "start_time": "2021-09-14T02:53:08.808072Z"
    },
    "scrolled": true
   },
   "outputs": [],
   "source": [
    "a0_val = numpy.sqrt(6 / R_0)"
   ]
  },
  {
   "cell_type": "code",
   "execution_count": null,
   "id": "1d1d3f3d",
   "metadata": {
    "ExecuteTime": {
     "end_time": "2021-09-14T02:53:17.452967Z",
     "start_time": "2021-09-14T02:53:17.450241Z"
    },
    "scrolled": true
   },
   "outputs": [],
   "source": [
    "V_bound = 2 * numpy.pi ** 2 * (a0_val) ** (3)"
   ]
  },
  {
   "cell_type": "code",
   "execution_count": null,
   "id": "32658c7f",
   "metadata": {
    "ExecuteTime": {
     "end_time": "2021-09-14T02:53:18.004856Z",
     "start_time": "2021-09-14T02:53:17.984879Z"
    },
    "scrolled": true
   },
   "outputs": [],
   "source": [
    "V_bound"
   ]
  },
  {
   "cell_type": "markdown",
   "id": "8e064ad7",
   "metadata": {},
   "source": [
    "### C2 - Radial Geodesic"
   ]
  },
  {
   "cell_type": "markdown",
   "id": "519c12bd",
   "metadata": {},
   "source": [
    "$$ L = \\int_{\\gamma} \\sqrt{g_{\\mu\\nu}\\frac{d x^{\\mu}}{d\\lambda}\\frac{d x^{\\nu}}{d\\lambda}} d \\lambda$$"
   ]
  },
  {
   "cell_type": "markdown",
   "id": "87ac8d3c",
   "metadata": {},
   "source": [
    "Assume that radial geodesic implies that $$\\frac{d}{d\\lambda}\\theta = \\frac{d}{d\\lambda}\\phi = 0$$"
   ]
  },
  {
   "cell_type": "markdown",
   "id": "939912c2",
   "metadata": {},
   "source": [
    "$$ L_0 = \\int_{\\gamma} \\sqrt{g_{rr}\\left(\\frac{d r}{d\\lambda}\\right)^2} d \\lambda = \\int_{0}^{r_0} \\sqrt{g_{rr}}d r $$"
   ]
  },
  {
   "cell_type": "code",
   "execution_count": null,
   "id": "e0b631b7",
   "metadata": {
    "ExecuteTime": {
     "end_time": "2021-09-13T23:15:18.971818Z",
     "start_time": "2021-09-13T23:15:18.969434Z"
    },
    "scrolled": true
   },
   "outputs": [],
   "source": [
    "r_0 = sympy.symbols('r_0', real=True, nonnegative=True)"
   ]
  },
  {
   "cell_type": "code",
   "execution_count": null,
   "id": "fdce135a",
   "metadata": {
    "ExecuteTime": {
     "end_time": "2021-09-13T23:15:43.193789Z",
     "start_time": "2021-09-13T23:15:42.787685Z"
    },
    "scrolled": true
   },
   "outputs": [],
   "source": [
    "soln = sympy.integrate(sympy.sqrt(gc1.matrix[0,0]), (r, 0, r_0))\n",
    "soln"
   ]
  },
  {
   "cell_type": "code",
   "execution_count": null,
   "id": "477e16d9",
   "metadata": {
    "ExecuteTime": {
     "end_time": "2021-09-13T23:16:31.425172Z",
     "start_time": "2021-09-13T23:16:31.420585Z"
    },
    "scrolled": true
   },
   "outputs": [],
   "source": [
    "soln.args[0][0]"
   ]
  },
  {
   "cell_type": "markdown",
   "id": "abe2801c",
   "metadata": {},
   "source": [
    "$$ r_0 = \\sin\\left(\\frac{L_0}{a_0}\\right)$$"
   ]
  },
  {
   "cell_type": "code",
   "execution_count": null,
   "id": "a3555078",
   "metadata": {
    "ExecuteTime": {
     "end_time": "2021-09-14T02:51:51.380129Z",
     "start_time": "2021-09-14T02:51:51.374629Z"
    },
    "scrolled": true
   },
   "outputs": [],
   "source": [
    "L_0 = (46e9 * units.lightyear).to(units.meter)\n",
    "L_0"
   ]
  },
  {
   "cell_type": "code",
   "execution_count": null,
   "id": "6d96c01e",
   "metadata": {
    "ExecuteTime": {
     "end_time": "2021-09-14T02:53:28.972042Z",
     "start_time": "2021-09-14T02:53:28.968069Z"
    },
    "scrolled": true
   },
   "outputs": [],
   "source": [
    "a0_val"
   ]
  },
  {
   "cell_type": "code",
   "execution_count": null,
   "id": "a3d496ee",
   "metadata": {
    "ExecuteTime": {
     "end_time": "2021-09-14T02:58:06.104058Z",
     "start_time": "2021-09-14T02:58:06.099983Z"
    },
    "scrolled": true
   },
   "outputs": [],
   "source": [
    "L_0 / a0_val"
   ]
  },
  {
   "cell_type": "code",
   "execution_count": null,
   "id": "03349c52",
   "metadata": {
    "ExecuteTime": {
     "end_time": "2021-09-14T02:55:09.963157Z",
     "start_time": "2021-09-14T02:55:09.959506Z"
    },
    "scrolled": true
   },
   "outputs": [],
   "source": [
    "r0_val = numpy.sin((L_0/a0_val).value)\n",
    "r0_val"
   ]
  },
  {
   "cell_type": "code",
   "execution_count": null,
   "id": "87e3c356",
   "metadata": {
    "ExecuteTime": {
     "end_time": "2021-09-14T02:56:28.141317Z",
     "start_time": "2021-09-14T02:56:28.135955Z"
    },
    "scrolled": true
   },
   "outputs": [],
   "source": [
    "v_obs = 4 / 3 * numpy.pi * r0_val ** 3\n",
    "v_obs_scaled = v_obs * (a0_val) ** 3\n",
    "v_obs_scaled"
   ]
  },
  {
   "cell_type": "code",
   "execution_count": null,
   "id": "c6a5724d",
   "metadata": {
    "ExecuteTime": {
     "end_time": "2021-09-14T02:58:44.640550Z",
     "start_time": "2021-09-14T02:58:44.636003Z"
    },
    "scrolled": true
   },
   "outputs": [],
   "source": [
    "v_obs_scaled / V_bound"
   ]
  }
 ],
 "metadata": {
  "kernelspec": {
   "display_name": "Python 3 (ipykernel)",
   "language": "python",
   "name": "python3"
  },
  "language_info": {
   "codemirror_mode": {
    "name": "ipython",
    "version": 3
   },
   "file_extension": ".py",
   "mimetype": "text/x-python",
   "name": "python",
   "nbconvert_exporter": "python",
   "pygments_lexer": "ipython3",
   "version": "3.9.6"
  }
 },
 "nbformat": 4,
 "nbformat_minor": 5
}
