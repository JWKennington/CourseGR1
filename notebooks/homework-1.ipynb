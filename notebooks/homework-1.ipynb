{
 "cells": [
  {
   "cell_type": "markdown",
   "id": "280854b7",
   "metadata": {},
   "source": [
    "# HW 1"
   ]
  },
  {
   "cell_type": "markdown",
   "id": "12fd3182",
   "metadata": {
    "heading_collapsed": true
   },
   "source": [
    "## Imports"
   ]
  },
  {
   "cell_type": "code",
   "execution_count": null,
   "id": "3bee11cf",
   "metadata": {
    "ExecuteTime": {
     "end_time": "2021-08-28T23:30:59.453763Z",
     "start_time": "2021-08-28T23:30:59.442767Z"
    },
    "hidden": true,
    "scrolled": true
   },
   "outputs": [],
   "source": [
    "import nbtools\n",
    "nbtools.setup_nb()"
   ]
  },
  {
   "cell_type": "code",
   "execution_count": null,
   "id": "9fb64372",
   "metadata": {
    "ExecuteTime": {
     "end_time": "2021-08-28T23:31:00.665529Z",
     "start_time": "2021-08-28T23:30:59.582899Z"
    },
    "hidden": true,
    "scrolled": true
   },
   "outputs": [],
   "source": [
    "import itertools\n",
    "import sympy\n",
    "import pandas\n",
    "from scipy import integrate\n",
    "import numpy\n",
    "import plotly.express as px\n",
    "\n",
    "from sympy.diffgeom import Manifold, Patch\n",
    "from pynstein import coords, metric, curvature, geodesic\n",
    "from pynstein.utilities import tensor_pow as tpow, full_simplify"
   ]
  },
  {
   "cell_type": "markdown",
   "id": "ad33c281",
   "metadata": {},
   "source": [
    "## Exercises"
   ]
  },
  {
   "cell_type": "markdown",
   "id": "32b43cb9",
   "metadata": {
    "heading_collapsed": true
   },
   "source": [
    "### B1 - Polar Coords for $\\mathbb{R}^2$"
   ]
  },
  {
   "cell_type": "markdown",
   "id": "18cc0fab",
   "metadata": {
    "heading_collapsed": true,
    "hidden": true
   },
   "source": [
    "#### Setup Metric"
   ]
  },
  {
   "cell_type": "code",
   "execution_count": null,
   "id": "636a5f59",
   "metadata": {
    "ExecuteTime": {
     "end_time": "2021-08-28T23:29:00.492892Z",
     "start_time": "2021-08-28T23:29:00.489522Z"
    },
    "hidden": true,
    "scrolled": true
   },
   "outputs": [],
   "source": [
    "M = Manifold('M', dim=2)\n",
    "P = Patch('origin', M)"
   ]
  },
  {
   "cell_type": "markdown",
   "id": "a240852b",
   "metadata": {
    "heading_collapsed": true,
    "hidden": true
   },
   "source": [
    "##### Cartesian"
   ]
  },
  {
   "cell_type": "code",
   "execution_count": null,
   "id": "a9082882",
   "metadata": {
    "ExecuteTime": {
     "end_time": "2021-08-28T23:29:00.536556Z",
     "start_time": "2021-08-28T23:29:00.495660Z"
    },
    "hidden": true
   },
   "outputs": [],
   "source": [
    "x, y = sympy.symbols('x, y', nonnegative=False)\n",
    "cs = coords.CoordSystem('cartesian', P, [x, y])\n",
    "dx, dy = cs.base_oneforms()\n",
    "ds2 = tpow(dx, 2) + tpow(dy, 2)\n",
    "g_cart = metric.Metric(twoform=ds2)\n",
    "g"
   ]
  },
  {
   "cell_type": "markdown",
   "id": "17fa4f72",
   "metadata": {
    "heading_collapsed": true,
    "hidden": true
   },
   "source": [
    "##### Polar"
   ]
  },
  {
   "cell_type": "code",
   "execution_count": null,
   "id": "b6dffa27",
   "metadata": {
    "ExecuteTime": {
     "end_time": "2021-08-28T23:29:00.574269Z",
     "start_time": "2021-08-28T23:29:00.537851Z"
    },
    "hidden": true
   },
   "outputs": [],
   "source": [
    "r, theta = sympy.symbols('r theta', nonnegative=True)\n",
    "cs = coords.CoordSystem('polar', P, [r, theta])\n",
    "dr, dtheta = cs.base_oneforms()\n",
    "ds2 = tpow(dr, 2) + r ** 2 * tpow(dtheta, 2)\n",
    "g = metric.Metric(twoform=ds2)\n",
    "g"
   ]
  },
  {
   "cell_type": "markdown",
   "id": "22f0c6ef",
   "metadata": {
    "heading_collapsed": true,
    "hidden": true
   },
   "source": [
    "#### Compute curvature components"
   ]
  },
  {
   "cell_type": "code",
   "execution_count": null,
   "id": "561cc599",
   "metadata": {
    "ExecuteTime": {
     "end_time": "2021-08-28T23:29:01.803721Z",
     "start_time": "2021-08-28T23:29:00.577632Z"
    },
    "hidden": true,
    "scrolled": true
   },
   "outputs": [],
   "source": [
    "crs, rmns, rcs = curvature.compute_components(g)"
   ]
  },
  {
   "cell_type": "code",
   "execution_count": null,
   "id": "f50f8558",
   "metadata": {
    "ExecuteTime": {
     "end_time": "2021-08-28T23:29:01.819529Z",
     "start_time": "2021-08-28T23:29:01.805028Z"
    },
    "hidden": true,
    "scrolled": true
   },
   "outputs": [],
   "source": [
    "curvature.display_components(crs)"
   ]
  },
  {
   "cell_type": "code",
   "execution_count": null,
   "id": "6b62958f",
   "metadata": {
    "ExecuteTime": {
     "end_time": "2021-08-28T23:29:01.825829Z",
     "start_time": "2021-08-28T23:29:01.820824Z"
    },
    "hidden": true,
    "scrolled": true
   },
   "outputs": [],
   "source": [
    "curvature.display_components(rmns)"
   ]
  },
  {
   "cell_type": "code",
   "execution_count": null,
   "id": "7bdd5409",
   "metadata": {
    "ExecuteTime": {
     "end_time": "2021-08-28T23:29:01.831506Z",
     "start_time": "2021-08-28T23:29:01.827381Z"
    },
    "hidden": true,
    "scrolled": true
   },
   "outputs": [],
   "source": [
    "curvature.display_components(rcs)"
   ]
  },
  {
   "cell_type": "markdown",
   "id": "87e8e8e9",
   "metadata": {
    "heading_collapsed": true,
    "hidden": true
   },
   "source": [
    "#### Compute Geodesics"
   ]
  },
  {
   "cell_type": "code",
   "execution_count": null,
   "id": "3ac3b0d9",
   "metadata": {
    "ExecuteTime": {
     "end_time": "2021-08-28T23:29:01.917938Z",
     "start_time": "2021-08-28T23:29:01.833351Z"
    },
    "hidden": true,
    "scrolled": true
   },
   "outputs": [],
   "source": [
    "full_simplify(geodesic.geodesic_equation(0, sympy.symbols('lambda'), g))"
   ]
  },
  {
   "cell_type": "code",
   "execution_count": null,
   "id": "30d80f77",
   "metadata": {
    "ExecuteTime": {
     "end_time": "2021-08-28T23:29:02.031097Z",
     "start_time": "2021-08-28T23:29:01.920662Z"
    },
    "hidden": true,
    "scrolled": true
   },
   "outputs": [],
   "source": [
    "full_simplify(geodesic.geodesic_equation(1, sympy.symbols('lambda'), g))"
   ]
  },
  {
   "cell_type": "markdown",
   "id": "e9422d4a",
   "metadata": {
    "heading_collapsed": true,
    "hidden": true
   },
   "source": [
    "##### Visualize Cartesian"
   ]
  },
  {
   "cell_type": "code",
   "execution_count": null,
   "id": "6811ef39",
   "metadata": {
    "ExecuteTime": {
     "end_time": "2021-08-28T23:29:02.153266Z",
     "start_time": "2021-08-28T23:29:02.032709Z"
    },
    "hidden": true
   },
   "outputs": [],
   "source": [
    "ls = numpy.arange(0, 2, 0.01)\n",
    "init = (0.0, 0.0, 0.1, 0.1) \n",
    "df = geodesic.numerical_geodesic(g_cart, init, ls)"
   ]
  },
  {
   "cell_type": "code",
   "execution_count": null,
   "id": "86b5eb0c",
   "metadata": {
    "ExecuteTime": {
     "end_time": "2021-08-28T23:29:04.707309Z",
     "start_time": "2021-08-28T23:29:02.154727Z"
    },
    "hidden": true
   },
   "outputs": [],
   "source": [
    "ls = numpy.arange(0, 2, 0.001)\n",
    "dfs = [geodesic.numerical_geodesic(g_cart, (0.0, 0.0, numpy.cos(theta_0), numpy.sin(theta_0)), ls)\n",
    "               .assign(theta_0=theta_0) \n",
    "       for theta_0 in numpy.arange(0.0, 2 * numpy.pi, 0.2)]\n",
    "df = pandas.concat(dfs, axis=0);"
   ]
  },
  {
   "cell_type": "code",
   "execution_count": null,
   "id": "0aac840a",
   "metadata": {
    "ExecuteTime": {
     "end_time": "2021-08-28T23:29:05.396007Z",
     "start_time": "2021-08-28T23:29:04.708614Z"
    },
    "hidden": true
   },
   "outputs": [],
   "source": [
    "fig = px.scatter(df, x=\"x\", y='y', \n",
    "                 color='theta_0',\n",
    "                 title=\"Sample Geodesic\")\n",
    "\n",
    "fig.show()"
   ]
  },
  {
   "cell_type": "markdown",
   "id": "52477f5b",
   "metadata": {
    "heading_collapsed": true,
    "hidden": true
   },
   "source": [
    "##### Visualize Polar"
   ]
  },
  {
   "cell_type": "code",
   "execution_count": null,
   "id": "f7fabf6d",
   "metadata": {
    "ExecuteTime": {
     "end_time": "2021-08-28T23:29:05.602003Z",
     "start_time": "2021-08-28T23:29:05.403237Z"
    },
    "hidden": true,
    "scrolled": true
   },
   "outputs": [],
   "source": [
    "ls = numpy.arange(0, 2, 0.01)\n",
    "r_0 = 1.0\n",
    "init = (r_0, 0.0, 0.0, numpy.pi/5) \n",
    "df = geodesic.numerical_geodesic(g, init, ls)"
   ]
  },
  {
   "cell_type": "code",
   "execution_count": null,
   "id": "f44a6366",
   "metadata": {
    "ExecuteTime": {
     "end_time": "2021-08-28T23:29:10.121246Z",
     "start_time": "2021-08-28T23:29:05.603255Z"
    },
    "hidden": true
   },
   "outputs": [],
   "source": [
    "ls = numpy.arange(0, 2, 0.001)\n",
    "r_0 = 1.0 \n",
    "dfs = [geodesic.numerical_geodesic(g, (r_0, theta_0, 0.0, numpy.pi/2), ls).assign(theta_0=theta_0) \n",
    "       for theta_0 in numpy.arange(0.0, 2 * numpy.pi, 0.2)]\n",
    "df = pandas.concat(dfs, axis=0)"
   ]
  },
  {
   "cell_type": "code",
   "execution_count": null,
   "id": "5a41f71f",
   "metadata": {
    "ExecuteTime": {
     "end_time": "2021-08-28T23:29:10.129071Z",
     "start_time": "2021-08-28T23:29:10.123068Z"
    },
    "hidden": true
   },
   "outputs": [],
   "source": [
    "df['theta'] = numpy.mod(df['theta'], 2*numpy.pi)\n",
    "# df['lam'] = ls"
   ]
  },
  {
   "cell_type": "code",
   "execution_count": null,
   "id": "0312ea9d",
   "metadata": {
    "ExecuteTime": {
     "end_time": "2021-08-28T23:29:11.083568Z",
     "start_time": "2021-08-28T23:29:10.130373Z"
    },
    "hidden": true,
    "scrolled": false
   },
   "outputs": [],
   "source": [
    "fig = px.scatter(df, x=\"theta\", y='r', \n",
    "                 color='theta_0',\n",
    "                 title=\"Sample Geodesic\")\n",
    "\n",
    "fig.show()"
   ]
  },
  {
   "cell_type": "markdown",
   "id": "821021b2",
   "metadata": {},
   "source": [
    "### B2 2-Sphere"
   ]
  },
  {
   "cell_type": "markdown",
   "id": "3fafb59f",
   "metadata": {},
   "source": [
    "#### Setup Metric"
   ]
  },
  {
   "cell_type": "code",
   "execution_count": null,
   "id": "b1847120",
   "metadata": {
    "ExecuteTime": {
     "end_time": "2021-08-28T23:35:02.383862Z",
     "start_time": "2021-08-28T23:35:02.351879Z"
    },
    "scrolled": true
   },
   "outputs": [],
   "source": [
    "M = Manifold('M', dim=2)\n",
    "P = Patch('origin', M)\n",
    "\n",
    "theta, phi, a = sympy.symbols('theta phi a', nonnegative=True)\n",
    "cs = coords.CoordSystem('spherical', P, [theta, phi])\n",
    "dtheta, dphi = cs.base_oneforms()\n",
    "ds2 = a**2 * (tpow(dtheta, 2) + sympy.sin(theta)**2 * tpow(dphi, 2))\n",
    "g = metric.Metric(twoform=ds2)\n",
    "g"
   ]
  },
  {
   "cell_type": "markdown",
   "id": "377a1bff",
   "metadata": {
    "heading_collapsed": true
   },
   "source": [
    "#### Compute Components"
   ]
  },
  {
   "cell_type": "code",
   "execution_count": null,
   "id": "07c3b1fc",
   "metadata": {
    "ExecuteTime": {
     "end_time": "2021-08-28T23:31:08.239657Z",
     "start_time": "2021-08-28T23:31:08.235865Z"
    },
    "hidden": true
   },
   "outputs": [],
   "source": [
    "g.matrix"
   ]
  },
  {
   "cell_type": "code",
   "execution_count": null,
   "id": "24a334d2",
   "metadata": {
    "ExecuteTime": {
     "end_time": "2021-08-28T23:31:08.428354Z",
     "start_time": "2021-08-28T23:31:08.377549Z"
    },
    "hidden": true
   },
   "outputs": [],
   "source": [
    "g.inverse.matrix"
   ]
  },
  {
   "cell_type": "code",
   "execution_count": null,
   "id": "2abc7de6",
   "metadata": {
    "ExecuteTime": {
     "end_time": "2021-08-28T23:31:17.808597Z",
     "start_time": "2021-08-28T23:31:08.669270Z"
    },
    "hidden": true
   },
   "outputs": [],
   "source": [
    "crs, rmn, rcs = curvature.compute_components(g)"
   ]
  },
  {
   "cell_type": "code",
   "execution_count": null,
   "id": "41c1e96e",
   "metadata": {
    "ExecuteTime": {
     "end_time": "2021-08-28T23:31:17.863601Z",
     "start_time": "2021-08-28T23:31:17.810542Z"
    },
    "hidden": true
   },
   "outputs": [],
   "source": [
    "curvature.display_components(crs)"
   ]
  },
  {
   "cell_type": "code",
   "execution_count": null,
   "id": "91c73ac5",
   "metadata": {
    "ExecuteTime": {
     "end_time": "2021-08-28T23:31:17.905119Z",
     "start_time": "2021-08-28T23:31:17.865031Z"
    },
    "hidden": true
   },
   "outputs": [],
   "source": [
    "curvature.display_components(rmn)"
   ]
  },
  {
   "cell_type": "code",
   "execution_count": null,
   "id": "9fbda79a",
   "metadata": {
    "ExecuteTime": {
     "end_time": "2021-08-28T23:31:17.925192Z",
     "start_time": "2021-08-28T23:31:17.908253Z"
    },
    "hidden": true
   },
   "outputs": [],
   "source": [
    "curvature.display_components(rcs)"
   ]
  },
  {
   "cell_type": "code",
   "execution_count": null,
   "id": "6ced3570",
   "metadata": {
    "ExecuteTime": {
     "end_time": "2021-08-28T23:31:19.410900Z",
     "start_time": "2021-08-28T23:31:17.927677Z"
    },
    "hidden": true,
    "scrolled": true
   },
   "outputs": [],
   "source": [
    "full_simplify(curvature.ricci_scalar(metric=g))"
   ]
  },
  {
   "cell_type": "markdown",
   "id": "493bf96d",
   "metadata": {},
   "source": [
    "#### Geodesics"
   ]
  },
  {
   "cell_type": "markdown",
   "id": "ec4b22d6",
   "metadata": {},
   "source": [
    "##### Geodesic Equations"
   ]
  },
  {
   "cell_type": "code",
   "execution_count": null,
   "id": "ef94af4d",
   "metadata": {
    "ExecuteTime": {
     "end_time": "2021-08-28T23:31:19.957474Z",
     "start_time": "2021-08-28T23:31:19.415559Z"
    },
    "scrolled": true
   },
   "outputs": [],
   "source": [
    "full_simplify(geodesic.geodesic_equation(0, sympy.symbols('lambda'), g))"
   ]
  },
  {
   "cell_type": "code",
   "execution_count": null,
   "id": "52086a07",
   "metadata": {
    "ExecuteTime": {
     "end_time": "2021-08-28T23:31:20.685220Z",
     "start_time": "2021-08-28T23:31:19.958674Z"
    },
    "scrolled": true
   },
   "outputs": [],
   "source": [
    "full_simplify(geodesic.geodesic_equation(1, sympy.symbols('lambda'), g))"
   ]
  },
  {
   "cell_type": "markdown",
   "id": "a01c2214",
   "metadata": {},
   "source": [
    "##### Single Geodesic"
   ]
  },
  {
   "cell_type": "code",
   "execution_count": null,
   "id": "3e2f5a1e",
   "metadata": {
    "ExecuteTime": {
     "end_time": "2021-08-28T23:31:30.495439Z",
     "start_time": "2021-08-28T23:31:29.339177Z"
    },
    "scrolled": true
   },
   "outputs": [],
   "source": [
    "ls = numpy.arange(0, 8, 0.0001)\n",
    "init = (0.01, 0.001, 3.14/4, 0.0)\n",
    "st = 2\n",
    "sp = 2\n",
    "df = geodesic.numerical_geodesic(g, (numpy.pi/2, 0.0, numpy.pi/st, numpy.pi/sp), ls)\n",
    "#        for theta_0 in numpy.arange(0.01, 3.14, 0.5)]"
   ]
  },
  {
   "cell_type": "code",
   "execution_count": null,
   "id": "0f020263",
   "metadata": {
    "ExecuteTime": {
     "end_time": "2021-08-28T23:31:31.060678Z",
     "start_time": "2021-08-28T23:31:31.051410Z"
    },
    "scrolled": true
   },
   "outputs": [],
   "source": [
    "df['theta'] = numpy.mod(df['theta'], 2*numpy.pi)\n",
    "df['phi'] = numpy.mod(df['phi'], numpy.pi)\n",
    "df = df.reset_index().rename(columns={'index': 'order'})\n",
    "df['lam'] = ls"
   ]
  },
  {
   "cell_type": "code",
   "execution_count": null,
   "id": "f557c297",
   "metadata": {
    "ExecuteTime": {
     "end_time": "2021-08-28T23:31:33.537363Z",
     "start_time": "2021-08-28T23:31:32.407487Z"
    },
    "scrolled": false
   },
   "outputs": [],
   "source": [
    "fig = px.scatter(df, x=\"theta\", y='phi', \n",
    "                 color='order',\n",
    "                 title=\"B2 Geodesic\")\n",
    "\n",
    "fig.show()"
   ]
  },
  {
   "cell_type": "markdown",
   "id": "1d37a975",
   "metadata": {},
   "source": [
    "##### Multiple Initial Conditions"
   ]
  },
  {
   "cell_type": "code",
   "execution_count": null,
   "id": "cdad4323",
   "metadata": {
    "ExecuteTime": {
     "end_time": "2021-08-28T23:40:06.699841Z",
     "start_time": "2021-08-28T23:39:19.799955Z"
    },
    "scrolled": true
   },
   "outputs": [],
   "source": [
    "ls = numpy.arange(0, .04, 0.00001)\n",
    "st = 2\n",
    "sp = .01\n",
    "dfs = [geodesic.numerical_geodesic(g, (theta_0, 0.0, numpy.pi/st, numpy.pi/sp), ls).assign(theta_0=theta_0) \n",
    "       for theta_0 in list(numpy.arange(numpy.pi/6, 5*numpy.pi/6, 0.1)) + \n",
    "       list(numpy.arange(numpy.pi/6 + numpy.pi, 5*numpy.pi/6 + numpy.pi, 0.1))]\n",
    "#        for theta_0 in numpy.arange(0.01, 3.14, 0.5)]\n",
    "df = pandas.concat(dfs, axis=0)"
   ]
  },
  {
   "cell_type": "code",
   "execution_count": null,
   "id": "6f25ed4a",
   "metadata": {
    "ExecuteTime": {
     "end_time": "2021-08-28T23:40:06.710393Z",
     "start_time": "2021-08-28T23:40:06.701633Z"
    },
    "scrolled": true
   },
   "outputs": [],
   "source": [
    "df['theta'] = numpy.mod(df['theta'], 2*numpy.pi)\n",
    "df = df.reset_index().rename(columns={'index': 'order'})"
   ]
  },
  {
   "cell_type": "code",
   "execution_count": null,
   "id": "c5e7d62b",
   "metadata": {
    "ExecuteTime": {
     "end_time": "2021-08-28T23:40:06.713959Z",
     "start_time": "2021-08-28T23:40:06.711724Z"
    },
    "scrolled": true
   },
   "outputs": [],
   "source": [
    "min_phi = 0   \n",
    "max_phi = 3.14  # Trim excess for plot widow\n",
    "\n",
    "min_theta = 0\n",
    "max_theta = 2*3.14"
   ]
  },
  {
   "cell_type": "code",
   "execution_count": null,
   "id": "3d2c6789",
   "metadata": {
    "ExecuteTime": {
     "end_time": "2021-08-28T23:40:06.723156Z",
     "start_time": "2021-08-28T23:40:06.716373Z"
    },
    "scrolled": true
   },
   "outputs": [],
   "source": [
    "lim_df = df[(df['phi'] >= min_phi) & (df['phi'] <= max_phi) &\n",
    "            (df['theta'] >= min_theta) & (df['theta'] <= max_theta)]"
   ]
  },
  {
   "cell_type": "code",
   "execution_count": null,
   "id": "0e59d1df",
   "metadata": {
    "ExecuteTime": {
     "end_time": "2021-08-28T23:40:07.343158Z",
     "start_time": "2021-08-28T23:40:06.724693Z"
    },
    "scrolled": false
   },
   "outputs": [],
   "source": [
    "fig = px.scatter(lim_df, x=\"theta\", y='phi', \n",
    "                 color='theta_0',\n",
    "                 title=\"B2 Geodesics\")\n",
    "\n",
    "fig.show()"
   ]
  },
  {
   "cell_type": "markdown",
   "id": "cb20524c",
   "metadata": {},
   "source": [
    "### B3 2-Sphere Sch"
   ]
  },
  {
   "cell_type": "markdown",
   "id": "9180096e",
   "metadata": {},
   "source": [
    "#### Setup Metric"
   ]
  },
  {
   "cell_type": "code",
   "execution_count": null,
   "id": "8ff7d0c9",
   "metadata": {
    "ExecuteTime": {
     "end_time": "2021-08-28T23:40:13.701123Z",
     "start_time": "2021-08-28T23:40:13.661222Z"
    },
    "scrolled": true
   },
   "outputs": [],
   "source": [
    "M = Manifold('M', dim=2)\n",
    "P = Patch('origin', M)\n",
    "\n",
    "rho, phi, a = sympy.symbols('rho phi a', nonnegative=True)\n",
    "cs = coords.CoordSystem('schw', P, [rho, phi])\n",
    "drho, dphi = cs.base_oneforms()\n",
    "ds2 = a**2 * ( (1 / (1 - rho**2)) * tpow(drho, 2) + rho ** 2 * tpow(dphi, 2))\n",
    "g = metric.Metric(twoform=ds2)\n",
    "g"
   ]
  },
  {
   "cell_type": "markdown",
   "id": "12bb7fd6",
   "metadata": {},
   "source": [
    "#### Geodesics"
   ]
  },
  {
   "cell_type": "code",
   "execution_count": null,
   "id": "37cfaf3c",
   "metadata": {
    "ExecuteTime": {
     "end_time": "2021-08-28T23:40:24.374709Z",
     "start_time": "2021-08-28T23:40:23.851326Z"
    },
    "scrolled": true
   },
   "outputs": [],
   "source": [
    "init = (numpy.sin(numpy.pi/4), 0.0, numpy.cos(numpy.pi/4), numpy.pi/4)\n",
    "ts = numpy.arange(0, 2.1, 0.001)\n",
    "df = geodesic.numerical_geodesic(g, init, ts)"
   ]
  },
  {
   "cell_type": "code",
   "execution_count": null,
   "id": "71cda1c9",
   "metadata": {
    "ExecuteTime": {
     "end_time": "2021-08-28T23:40:26.553258Z",
     "start_time": "2021-08-28T23:40:26.549341Z"
    },
    "scrolled": true
   },
   "outputs": [],
   "source": [
    "df['phi'] = numpy.mod(df['phi'], numpy.pi)\n",
    "df = df.reset_index().rename(columns={'index': 'order'})\n",
    "df['lam'] = ts"
   ]
  },
  {
   "cell_type": "code",
   "execution_count": null,
   "id": "a7aba4b8",
   "metadata": {
    "ExecuteTime": {
     "end_time": "2021-08-28T23:40:27.690658Z",
     "start_time": "2021-08-28T23:40:27.555560Z"
    },
    "scrolled": false
   },
   "outputs": [],
   "source": [
    "fig = px.scatter(df, x=\"rho\", y='phi', \n",
    "#                  color='init',\n",
    "                     title=\"B3 Geodesic\")\n",
    "\n",
    "fig.show()"
   ]
  },
  {
   "cell_type": "markdown",
   "id": "ba57a61f",
   "metadata": {},
   "source": [
    "### B4 - Embedded Surface - General Case"
   ]
  },
  {
   "cell_type": "markdown",
   "id": "388f01a5",
   "metadata": {},
   "source": [
    "#### Setup Metric"
   ]
  },
  {
   "cell_type": "code",
   "execution_count": null,
   "id": "6adfff6b",
   "metadata": {
    "ExecuteTime": {
     "start_time": "2021-08-28T23:29:00.568Z"
    },
    "scrolled": true
   },
   "outputs": [],
   "source": [
    "M = Manifold('M', dim=2)\n",
    "P = Patch('origin', M)\n",
    "\n",
    "x, y = sympy.symbols('x y', nonnegative=False)\n",
    "_coords = [x, y]\n",
    "cs = coords.CoordSystem('Cartesian', P, [x, y])\n",
    "dx, dy = cs.base_oneforms()\n",
    "_1forms = [dx, dy]\n",
    "\n",
    "f = sympy.Function('f')(x, y)\n",
    "\n",
    "ds2 = []\n",
    "for i in range(2):\n",
    "    for j in range(2):\n",
    "        ds2.append(((1 if i == j else 0) + sympy.diff(f, _coords[i]) * sympy.diff(f, _coords[j])) \n",
    "                   * sympy.diffgeom.TensorProduct(_1forms[i],  _1forms[j]))\n",
    "ds2 = sum(ds2)\n",
    "g = metric.Metric(twoform=ds2)\n",
    "g\n",
    "g_b4 = g"
   ]
  },
  {
   "cell_type": "markdown",
   "id": "97ec8105",
   "metadata": {},
   "source": [
    "#### Compute Components"
   ]
  },
  {
   "cell_type": "code",
   "execution_count": null,
   "id": "6ddbf923",
   "metadata": {
    "ExecuteTime": {
     "start_time": "2021-08-28T23:29:00.569Z"
    },
    "scrolled": true
   },
   "outputs": [],
   "source": [
    "g.matrix"
   ]
  },
  {
   "cell_type": "code",
   "execution_count": null,
   "id": "90f21fbe",
   "metadata": {
    "ExecuteTime": {
     "start_time": "2021-08-28T23:29:00.571Z"
    },
    "scrolled": true
   },
   "outputs": [],
   "source": [
    "g.inverse.matrix"
   ]
  },
  {
   "cell_type": "code",
   "execution_count": null,
   "id": "ebaa9f65",
   "metadata": {
    "ExecuteTime": {
     "start_time": "2021-08-28T23:29:00.572Z"
    },
    "scrolled": true
   },
   "outputs": [],
   "source": [
    "crs, rms, rcs = curvature.compute_components(g)"
   ]
  },
  {
   "cell_type": "code",
   "execution_count": null,
   "id": "9d276a59",
   "metadata": {
    "ExecuteTime": {
     "start_time": "2021-08-28T23:29:00.574Z"
    }
   },
   "outputs": [],
   "source": [
    "# Simplify notation\n",
    "subscript_notation = [\n",
    "    (sympy.diff(sympy.diff(f, x), x), sympy.symbols('f_xx')),\n",
    "    (sympy.diff(sympy.diff(f, y), y), sympy.symbols('f_yy')),\n",
    "    (sympy.diff(sympy.diff(f, x), y), sympy.symbols('f_xy')),\n",
    "    (sympy.diff(f, x), sympy.symbols('f_x')),\n",
    "    (sympy.diff(f, y), sympy.symbols('f_y')),\n",
    "]"
   ]
  },
  {
   "cell_type": "code",
   "execution_count": null,
   "id": "877faaad",
   "metadata": {
    "ExecuteTime": {
     "start_time": "2021-08-28T23:29:00.575Z"
    }
   },
   "outputs": [],
   "source": [
    "crs = [(c[0], c[1].subs(subscript_notation)) for c in crs]\n",
    "rms = [(c[0], c[1].subs(subscript_notation)) for c in rms]\n",
    "rcs = [(c[0], c[1].subs(subscript_notation)) for c in rcs]"
   ]
  },
  {
   "cell_type": "code",
   "execution_count": null,
   "id": "01b68480",
   "metadata": {
    "ExecuteTime": {
     "start_time": "2021-08-28T23:29:00.577Z"
    }
   },
   "outputs": [],
   "source": [
    "curvature.display_components(crs)"
   ]
  },
  {
   "cell_type": "code",
   "execution_count": null,
   "id": "1902db51",
   "metadata": {
    "ExecuteTime": {
     "start_time": "2021-08-28T23:29:00.578Z"
    },
    "scrolled": true
   },
   "outputs": [],
   "source": [
    "curvature.display_components(rms)"
   ]
  },
  {
   "cell_type": "code",
   "execution_count": null,
   "id": "b82cf570",
   "metadata": {
    "ExecuteTime": {
     "start_time": "2021-08-28T23:29:00.580Z"
    },
    "scrolled": false
   },
   "outputs": [],
   "source": [
    "curvature.display_components(rcs)"
   ]
  },
  {
   "cell_type": "markdown",
   "id": "7cf5a91e",
   "metadata": {},
   "source": [
    "Clean Expr"
   ]
  },
  {
   "cell_type": "code",
   "execution_count": null,
   "id": "eb607035",
   "metadata": {
    "ExecuteTime": {
     "start_time": "2021-08-28T23:29:00.581Z"
    }
   },
   "outputs": [],
   "source": [
    "simplified = full_simplify(curvature.ricci_scalar(g)).subs(subscript_notation)\n",
    "simplified"
   ]
  },
  {
   "cell_type": "code",
   "execution_count": null,
   "id": "aea4dc5e",
   "metadata": {
    "ExecuteTime": {
     "start_time": "2021-08-28T23:29:00.583Z"
    }
   },
   "outputs": [],
   "source": [
    "# For posting / asking Eugenio\n",
    "print(simplified._repr_latex_())"
   ]
  },
  {
   "cell_type": "markdown",
   "id": "88d22c65",
   "metadata": {
    "heading_collapsed": true
   },
   "source": [
    "#### Fun Examples"
   ]
  },
  {
   "cell_type": "markdown",
   "id": "28f595d4",
   "metadata": {
    "hidden": true
   },
   "source": [
    "Paraboloid"
   ]
  },
  {
   "cell_type": "code",
   "execution_count": null,
   "id": "61ba07c3",
   "metadata": {
    "ExecuteTime": {
     "start_time": "2021-08-28T23:29:00.585Z"
    },
    "hidden": true
   },
   "outputs": [],
   "source": [
    "a, b = sympy.symbols('a b')\n",
    "subs = {f: x**2/a + y**2/b}"
   ]
  },
  {
   "cell_type": "code",
   "execution_count": null,
   "id": "62aef3ee",
   "metadata": {
    "ExecuteTime": {
     "start_time": "2021-08-28T23:29:00.587Z"
    },
    "hidden": true
   },
   "outputs": [],
   "source": [
    "full_simplify(full_simplify(curvature.ricci_scalar(g)).subs(subs))"
   ]
  },
  {
   "cell_type": "markdown",
   "id": "e6135926",
   "metadata": {},
   "source": [
    "### B5 - Embedded Surface - Sphere"
   ]
  },
  {
   "cell_type": "markdown",
   "id": "87b9b82c",
   "metadata": {},
   "source": [
    "#### Substitution"
   ]
  },
  {
   "cell_type": "code",
   "execution_count": null,
   "id": "62f519a0",
   "metadata": {
    "ExecuteTime": {
     "start_time": "2021-08-28T23:29:00.589Z"
    }
   },
   "outputs": [],
   "source": [
    "a_0 = sympy.symbols('a_0')\n",
    "subs = {f: sympy.sqrt(a_0**2 - x**2 - y**2)}\n",
    "g = metric.Metric(twoform=g_b4.twoform.subs(subs))\n",
    "g"
   ]
  },
  {
   "cell_type": "markdown",
   "id": "e2310e25",
   "metadata": {},
   "source": [
    "#### Curvature"
   ]
  },
  {
   "cell_type": "code",
   "execution_count": null,
   "id": "dd66d916",
   "metadata": {
    "ExecuteTime": {
     "start_time": "2021-08-28T23:29:00.590Z"
    }
   },
   "outputs": [],
   "source": [
    "full_simplify(curvature.ricci_scalar(g, simplify_intermediate=True))"
   ]
  },
  {
   "cell_type": "markdown",
   "id": "03856bb3",
   "metadata": {},
   "source": [
    "#### Geodesic"
   ]
  },
  {
   "cell_type": "code",
   "execution_count": null,
   "id": "6466bade",
   "metadata": {
    "ExecuteTime": {
     "start_time": "2021-08-28T23:29:00.592Z"
    }
   },
   "outputs": [],
   "source": [
    "a_0_val = 1.0\n",
    "g_num = metric.Metric(twoform=g.twoform.subs({a_0: a_0_val}))"
   ]
  },
  {
   "cell_type": "code",
   "execution_count": null,
   "id": "804cbb7f",
   "metadata": {
    "ExecuteTime": {
     "start_time": "2021-08-28T23:29:00.594Z"
    },
    "scrolled": true
   },
   "outputs": [],
   "source": [
    "ls = numpy.arange(0.0, 8.0, 0.001)\n",
    "# init = (0.5, 0.5, -0.2, 0.2)\n",
    "dfs = [geodesic.numerical_geodesic(g_num, (0.5, 0.5, 0.1*numpy.cos(theta_0), 0.1*numpy.sin(theta_0)), ls)\n",
    "               .assign(theta_0=theta_0)\n",
    "       for theta_0 in numpy.arange(0.0, 2 * numpy.pi, numpy.pi / 12)]\n",
    "df = pandas.concat(dfs, axis=0)"
   ]
  },
  {
   "cell_type": "code",
   "execution_count": null,
   "id": "e595617b",
   "metadata": {
    "ExecuteTime": {
     "start_time": "2021-08-28T23:29:00.595Z"
    }
   },
   "outputs": [],
   "source": [
    "x_min = y_min = -1\n",
    "x_max = y_max =  1\n",
    "\n",
    "df = df[(df['x'] >= x_min) & (df['x'] <= x_max) &\n",
    "        (df['y'] >= y_min) & (df['y'] <= y_max)]"
   ]
  },
  {
   "cell_type": "code",
   "execution_count": null,
   "id": "9b5e787e",
   "metadata": {
    "ExecuteTime": {
     "start_time": "2021-08-28T23:29:00.597Z"
    }
   },
   "outputs": [],
   "source": [
    "fig = px.scatter(df, x=\"x\", y='y', \n",
    "                 color='theta_0',\n",
    "                 title=\"B5 Geodesic\")\n",
    "\n",
    "fig.show()"
   ]
  },
  {
   "cell_type": "markdown",
   "id": "b0f9feb4",
   "metadata": {},
   "source": [
    "### B6 - Embedded Surface - Hyperboloid"
   ]
  },
  {
   "cell_type": "markdown",
   "id": "216ec69f",
   "metadata": {},
   "source": [
    "#### Substitution"
   ]
  },
  {
   "cell_type": "code",
   "execution_count": null,
   "id": "1572ebd6",
   "metadata": {
    "ExecuteTime": {
     "start_time": "2021-08-28T23:29:00.599Z"
    }
   },
   "outputs": [],
   "source": [
    "a_0 = sympy.symbols('a_0')\n",
    "subs = {f: sympy.sqrt(a_0**2 - x**2 + y**2)}\n",
    "g = metric.Metric(twoform=g_b4.twoform.subs(subs))\n",
    "g"
   ]
  },
  {
   "cell_type": "markdown",
   "id": "0cd66321",
   "metadata": {},
   "source": [
    "#### Curvature"
   ]
  },
  {
   "cell_type": "code",
   "execution_count": null,
   "id": "f0c115f2",
   "metadata": {
    "ExecuteTime": {
     "start_time": "2021-08-28T23:29:00.600Z"
    }
   },
   "outputs": [],
   "source": [
    "full_simplify(curvature.ricci_scalar(g, simplify_intermediate=True))"
   ]
  },
  {
   "cell_type": "markdown",
   "id": "536fcf81",
   "metadata": {},
   "source": [
    "#### Geodesic"
   ]
  },
  {
   "cell_type": "code",
   "execution_count": null,
   "id": "6e4eab7a",
   "metadata": {
    "ExecuteTime": {
     "start_time": "2021-08-28T23:29:00.602Z"
    }
   },
   "outputs": [],
   "source": [
    "a_0_val = 1.0\n",
    "g_num = metric.Metric(twoform=g.twoform.subs({a_0: a_0_val}))"
   ]
  },
  {
   "cell_type": "code",
   "execution_count": null,
   "id": "9ff8fd32",
   "metadata": {
    "ExecuteTime": {
     "start_time": "2021-08-28T23:29:00.603Z"
    }
   },
   "outputs": [],
   "source": [
    "ls = numpy.arange(0.0, 8.0, 0.001)\n",
    "# init = (0.5, 0.5, -0.2, 0.2)\n",
    "dfs = [geodesic.numerical_geodesic(g_num, (0.5, 0.5, 0.1*numpy.cos(theta_0), 0.1*numpy.sin(theta_0)), ls)\n",
    "               .assign(theta_0=theta_0)\n",
    "       for theta_0 in numpy.arange(0.0, 2 * numpy.pi, numpy.pi / 12)]\n",
    "df = pandas.concat(dfs, axis=0)"
   ]
  },
  {
   "cell_type": "code",
   "execution_count": null,
   "id": "cdf3a33b",
   "metadata": {
    "ExecuteTime": {
     "start_time": "2021-08-28T23:29:00.605Z"
    }
   },
   "outputs": [],
   "source": [
    "x_min = y_min = -1\n",
    "x_max = y_max =  1\n",
    "\n",
    "df = df[(df['x'] >= x_min) & (df['x'] <= x_max) &\n",
    "        (df['y'] >= y_min) & (df['y'] <= y_max)]"
   ]
  },
  {
   "cell_type": "code",
   "execution_count": null,
   "id": "5e43428f",
   "metadata": {
    "ExecuteTime": {
     "start_time": "2021-08-28T23:29:00.606Z"
    }
   },
   "outputs": [],
   "source": [
    "fig = px.scatter(df, x=\"x\", y='y', \n",
    "                 color='theta_0',\n",
    "                 title=\"B6 Geodesic\")\n",
    "\n",
    "fig.show()"
   ]
  },
  {
   "cell_type": "markdown",
   "id": "fde53bf4",
   "metadata": {},
   "source": [
    "### B7 - Embedded Surface - Cylinder"
   ]
  },
  {
   "cell_type": "markdown",
   "id": "ebcfba53",
   "metadata": {},
   "source": [
    "#### Substitution"
   ]
  },
  {
   "cell_type": "code",
   "execution_count": null,
   "id": "8bbf3d68",
   "metadata": {
    "ExecuteTime": {
     "start_time": "2021-08-28T23:29:00.608Z"
    }
   },
   "outputs": [],
   "source": [
    "a_0 = sympy.symbols('a_0')\n",
    "subs = {f: sympy.sqrt(a_0**2 - y**2)}\n",
    "g = metric.Metric(twoform=g_b4.twoform.subs(subs))\n",
    "g"
   ]
  },
  {
   "cell_type": "markdown",
   "id": "7a94d3c6",
   "metadata": {},
   "source": [
    "#### Curvature"
   ]
  },
  {
   "cell_type": "code",
   "execution_count": null,
   "id": "b31fb128",
   "metadata": {
    "ExecuteTime": {
     "start_time": "2021-08-28T23:29:00.609Z"
    }
   },
   "outputs": [],
   "source": [
    "full_simplify(curvature.ricci_scalar(g))"
   ]
  },
  {
   "cell_type": "markdown",
   "id": "f0a5348e",
   "metadata": {
    "heading_collapsed": true
   },
   "source": [
    "#### Geodesic"
   ]
  },
  {
   "cell_type": "code",
   "execution_count": null,
   "id": "19ec74ff",
   "metadata": {
    "ExecuteTime": {
     "start_time": "2021-08-28T23:29:00.611Z"
    },
    "hidden": true
   },
   "outputs": [],
   "source": [
    "a_0_val = 1.0\n",
    "g_num = metric.Metric(twoform=g.twoform.subs({a_0: a_0_val}))"
   ]
  },
  {
   "cell_type": "code",
   "execution_count": null,
   "id": "8cb0cf6b",
   "metadata": {
    "ExecuteTime": {
     "start_time": "2021-08-28T23:29:00.612Z"
    },
    "hidden": true
   },
   "outputs": [],
   "source": [
    "ls = numpy.arange(0.0, 8.0, 0.001)\n",
    "# init = (0.5, 0.5, -0.2, 0.2)\n",
    "dfs = [geodesic.numerical_geodesic(g_num, (0.5, 0.5, 0.1*numpy.cos(theta_0), 0.1*numpy.sin(theta_0)), ls)\n",
    "               .assign(theta_0=theta_0)\n",
    "       for theta_0 in numpy.arange(0.0, 2 * numpy.pi, numpy.pi / 12)]\n",
    "df = pandas.concat(dfs, axis=0)"
   ]
  },
  {
   "cell_type": "code",
   "execution_count": null,
   "id": "f8d94d72",
   "metadata": {
    "ExecuteTime": {
     "start_time": "2021-08-28T23:29:00.614Z"
    },
    "hidden": true
   },
   "outputs": [],
   "source": [
    "x_min = y_min = -1\n",
    "x_max = y_max =  1\n",
    "\n",
    "df = df[(df['x'] >= x_min) & (df['x'] <= x_max) &\n",
    "        (df['y'] >= y_min) & (df['y'] <= y_max)]"
   ]
  },
  {
   "cell_type": "code",
   "execution_count": null,
   "id": "1651b6ec",
   "metadata": {
    "ExecuteTime": {
     "start_time": "2021-08-28T23:29:00.615Z"
    },
    "hidden": true
   },
   "outputs": [],
   "source": [
    "fig = px.scatter(df, x=\"x\", y='y', \n",
    "                 color='theta_0',\n",
    "                 title=\"B7 Geodesic\")\n",
    "\n",
    "fig.show()"
   ]
  },
  {
   "cell_type": "markdown",
   "id": "0e3e6a2d",
   "metadata": {},
   "source": [
    "### B8 - Embedded Surface - Cone"
   ]
  },
  {
   "cell_type": "markdown",
   "id": "5d21aafa",
   "metadata": {},
   "source": [
    "#### Substitution"
   ]
  },
  {
   "cell_type": "code",
   "execution_count": null,
   "id": "c00a2532",
   "metadata": {
    "ExecuteTime": {
     "start_time": "2021-08-28T23:29:00.617Z"
    }
   },
   "outputs": [],
   "source": [
    "a_0 = sympy.symbols('a_0')\n",
    "subs = {f: sympy.sqrt(x**2 + y**2)}\n",
    "g = metric.Metric(twoform=g_b4.twoform.subs(subs))\n",
    "g"
   ]
  },
  {
   "cell_type": "markdown",
   "id": "aba75120",
   "metadata": {},
   "source": [
    "#### Curvature"
   ]
  },
  {
   "cell_type": "code",
   "execution_count": null,
   "id": "0710544e",
   "metadata": {
    "ExecuteTime": {
     "start_time": "2021-08-28T23:29:00.618Z"
    }
   },
   "outputs": [],
   "source": [
    "full_simplify(full_simplify(curvature.ricci_scalar(g)).subs(subs))"
   ]
  },
  {
   "cell_type": "markdown",
   "id": "22eabf2b",
   "metadata": {},
   "source": [
    "#### Geodesic"
   ]
  },
  {
   "cell_type": "code",
   "execution_count": null,
   "id": "445df0d7",
   "metadata": {
    "ExecuteTime": {
     "start_time": "2021-08-28T23:29:00.620Z"
    }
   },
   "outputs": [],
   "source": [
    "a_0_val = 1.0\n",
    "g_num = metric.Metric(twoform=g.twoform.subs({a_0: a_0_val}))"
   ]
  },
  {
   "cell_type": "code",
   "execution_count": null,
   "id": "2d374a23",
   "metadata": {
    "ExecuteTime": {
     "start_time": "2021-08-28T23:29:00.621Z"
    }
   },
   "outputs": [],
   "source": [
    "ls = numpy.arange(0.0, 8.0, 0.001)\n",
    "# init = (0.5, 0.5, -0.2, 0.2)\n",
    "dfs = [geodesic.numerical_geodesic(g_num, (0.5, 0.5, 0.1*numpy.cos(theta_0), 0.1*numpy.sin(theta_0)), ls)\n",
    "               .assign(theta_0=theta_0)\n",
    "       for theta_0 in numpy.arange(0.0, 2 * numpy.pi, numpy.pi / 12)]\n",
    "df = pandas.concat(dfs, axis=0)"
   ]
  },
  {
   "cell_type": "code",
   "execution_count": null,
   "id": "1d7cea75",
   "metadata": {
    "ExecuteTime": {
     "start_time": "2021-08-28T23:29:00.622Z"
    },
    "scrolled": true
   },
   "outputs": [],
   "source": [
    "x_min = y_min = -1\n",
    "x_max = y_max =  1\n",
    "\n",
    "df = df[(df['x'] >= x_min) & (df['x'] <= x_max) &\n",
    "        (df['y'] >= y_min) & (df['y'] <= y_max)]"
   ]
  },
  {
   "cell_type": "code",
   "execution_count": null,
   "id": "a2ebb27e",
   "metadata": {
    "ExecuteTime": {
     "start_time": "2021-08-28T23:29:00.623Z"
    }
   },
   "outputs": [],
   "source": [
    "fig = px.scatter(df, x=\"x\", y='y', \n",
    "                 color='theta_0',\n",
    "                 title=\"B7 Geodesic\")\n",
    "\n",
    "fig.show()"
   ]
  }
 ],
 "metadata": {
  "kernelspec": {
   "display_name": "Python 3 (ipykernel)",
   "language": "python",
   "name": "python3"
  },
  "language_info": {
   "codemirror_mode": {
    "name": "ipython",
    "version": 3
   },
   "file_extension": ".py",
   "mimetype": "text/x-python",
   "name": "python",
   "nbconvert_exporter": "python",
   "pygments_lexer": "ipython3",
   "version": "3.9.6"
  }
 },
 "nbformat": 4,
 "nbformat_minor": 5
}
