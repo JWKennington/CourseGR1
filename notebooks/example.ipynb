{
 "cells": [
  {
   "cell_type": "markdown",
   "id": "280854b7",
   "metadata": {},
   "source": [
    "# PyStein Example"
   ]
  },
  {
   "cell_type": "markdown",
   "id": "ba70eb3f",
   "metadata": {},
   "source": [
    "This notebook demonstrates a simple use of the `pystein` package. See the [documentation](https://pystein.readthedocs.io/en/latest/) for more."
   ]
  },
  {
   "cell_type": "markdown",
   "id": "12fd3182",
   "metadata": {},
   "source": [
    "## Imports"
   ]
  },
  {
   "cell_type": "code",
   "execution_count": null,
   "id": "9fb64372",
   "metadata": {
    "ExecuteTime": {
     "end_time": "2021-10-05T23:42:07.515906Z",
     "start_time": "2021-10-05T23:42:07.117805Z"
    },
    "scrolled": false
   },
   "outputs": [],
   "source": [
    "import sympy\n",
    "from sympy.diffgeom import Manifold, Patch\n",
    "\n",
    "from pystein import coords, metric, curvature\n",
    "from pystein.utilities import tensor_pow as tpow"
   ]
  },
  {
   "cell_type": "markdown",
   "id": "18cc0fab",
   "metadata": {},
   "source": [
    "## Create a Metric: $S^2$"
   ]
  },
  {
   "cell_type": "markdown",
   "id": "7f347920",
   "metadata": {},
   "source": [
    "First create the manifold and patch object, though these won't be used much yet `sympy.diffgeom` intends to add features for them later."
   ]
  },
  {
   "cell_type": "code",
   "execution_count": null,
   "id": "636a5f59",
   "metadata": {
    "ExecuteTime": {
     "end_time": "2021-10-05T23:42:07.517480Z",
     "start_time": "2021-10-05T23:42:07.517470Z"
    },
    "scrolled": false
   },
   "outputs": [],
   "source": [
    "M = Manifold('M', dim=2)\n",
    "P = Patch('origin', M)"
   ]
  },
  {
   "cell_type": "markdown",
   "id": "b5f1a58f",
   "metadata": {},
   "source": [
    "Define the coordinates for the sphere ($\\theta, \\phi$), as well as a constant $a$"
   ]
  },
  {
   "cell_type": "code",
   "execution_count": null,
   "id": "0d5aef46",
   "metadata": {
    "ExecuteTime": {
     "end_time": "2021-10-05T23:42:07.518550Z",
     "start_time": "2021-10-05T23:42:07.518538Z"
    }
   },
   "outputs": [],
   "source": [
    "theta, phi, a = sympy.symbols('theta phi a', nonnegative=True)\n",
    "cs = coords.CoordSystem('spherical', P, [theta, phi])\n",
    "cs"
   ]
  },
  {
   "cell_type": "markdown",
   "id": "e9b6c433",
   "metadata": {},
   "source": [
    "Next, we extract the one-forms from the coordinate system. We will construct a two-form in terms of these coordinate one-forms."
   ]
  },
  {
   "cell_type": "code",
   "execution_count": null,
   "id": "7daef6a0",
   "metadata": {
    "ExecuteTime": {
     "end_time": "2021-10-05T23:42:07.519628Z",
     "start_time": "2021-10-05T23:42:07.519614Z"
    }
   },
   "outputs": [],
   "source": [
    "dtheta, dphi = cs.base_oneforms()"
   ]
  },
  {
   "cell_type": "markdown",
   "id": "4e77dd91",
   "metadata": {},
   "source": [
    "Construct the twoform"
   ]
  },
  {
   "cell_type": "code",
   "execution_count": null,
   "id": "4c4ee9fe",
   "metadata": {
    "ExecuteTime": {
     "end_time": "2021-10-05T23:42:07.521010Z",
     "start_time": "2021-10-05T23:42:07.520996Z"
    }
   },
   "outputs": [],
   "source": [
    "ds2 = a**2 * (tpow(dtheta, 2) + sympy.sin(theta)**2 * tpow(dphi, 2))"
   ]
  },
  {
   "cell_type": "markdown",
   "id": "0e5c9399",
   "metadata": {},
   "source": [
    "Construct the metric:"
   ]
  },
  {
   "cell_type": "code",
   "execution_count": null,
   "id": "72c119c1",
   "metadata": {
    "ExecuteTime": {
     "end_time": "2021-10-05T23:42:07.521933Z",
     "start_time": "2021-10-05T23:42:07.521922Z"
    }
   },
   "outputs": [],
   "source": [
    "# Construct a metric from the two form\n",
    "g = metric.Metric(twoform=ds2)\n",
    "g"
   ]
  },
  {
   "cell_type": "markdown",
   "id": "359222b1",
   "metadata": {},
   "source": [
    "## Compute Curvature Components"
   ]
  },
  {
   "cell_type": "markdown",
   "id": "6769c8ac",
   "metadata": {},
   "source": [
    "Components can be computed individually:"
   ]
  },
  {
   "cell_type": "code",
   "execution_count": null,
   "id": "04ab5956",
   "metadata": {
    "ExecuteTime": {
     "end_time": "2021-10-05T23:42:07.523049Z",
     "start_time": "2021-10-05T23:42:07.523021Z"
    }
   },
   "outputs": [],
   "source": [
    "curvature.christoffel_symbol_component(0, 1, 0, g)"
   ]
  },
  {
   "cell_type": "markdown",
   "id": "c087fbe7",
   "metadata": {},
   "source": [
    "Or the common components can be computed all at once:"
   ]
  },
  {
   "cell_type": "code",
   "execution_count": null,
   "id": "d6c7e91d",
   "metadata": {
    "ExecuteTime": {
     "end_time": "2021-10-05T23:42:07.524404Z",
     "start_time": "2021-10-05T23:42:07.524389Z"
    }
   },
   "outputs": [],
   "source": [
    "christoffels, riemanns, riccis = curvature.compute_components(g, non_trivial=True)"
   ]
  },
  {
   "cell_type": "code",
   "execution_count": null,
   "id": "aac8e5d2",
   "metadata": {
    "ExecuteTime": {
     "end_time": "2021-10-05T23:42:07.525812Z",
     "start_time": "2021-10-05T23:42:07.525798Z"
    }
   },
   "outputs": [],
   "source": [
    "christoffels[0]"
   ]
  },
  {
   "cell_type": "markdown",
   "id": "a05aee05",
   "metadata": {},
   "source": [
    "The components can be displayed concisely as a single $\\LaTeX$ equation:"
   ]
  },
  {
   "cell_type": "code",
   "execution_count": null,
   "id": "88f305fd",
   "metadata": {
    "ExecuteTime": {
     "end_time": "2021-10-05T23:42:07.526679Z",
     "start_time": "2021-10-05T23:42:07.526637Z"
    }
   },
   "outputs": [],
   "source": [
    "curvature.display_components(christoffels)"
   ]
  }
 ],
 "metadata": {
  "kernelspec": {
   "display_name": "Python 3 (ipykernel)",
   "language": "python",
   "name": "python3"
  },
  "language_info": {
   "codemirror_mode": {
    "name": "ipython",
    "version": 3
   },
   "file_extension": ".py",
   "mimetype": "text/x-python",
   "name": "python",
   "nbconvert_exporter": "python",
   "pygments_lexer": "ipython3",
   "version": "3.9.6"
  }
 },
 "nbformat": 4,
 "nbformat_minor": 5
}