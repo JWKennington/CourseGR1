{
 "cells": [
  {
   "cell_type": "markdown",
   "id": "90037215",
   "metadata": {},
   "source": [
    "# HW 5"
   ]
  },
  {
   "cell_type": "markdown",
   "id": "abd08902",
   "metadata": {},
   "source": [
    "## Imports"
   ]
  },
  {
   "cell_type": "code",
   "execution_count": 4,
   "id": "53018828",
   "metadata": {
    "ExecuteTime": {
     "end_time": "2021-11-28T04:31:46.355138Z",
     "start_time": "2021-11-28T04:31:44.505129Z"
    }
   },
   "outputs": [],
   "source": [
    "import numpy\n",
    "import sympy\n",
    "from astropy import units, constants"
   ]
  },
  {
   "cell_type": "markdown",
   "id": "f7d69fb0",
   "metadata": {},
   "source": [
    "## Theory A"
   ]
  },
  {
   "cell_type": "markdown",
   "id": "beaa87a2",
   "metadata": {},
   "source": [
    "### Quadratic Geometric Quantities"
   ]
  },
  {
   "cell_type": "code",
   "execution_count": 5,
   "id": "5a0c5349",
   "metadata": {
    "ExecuteTime": {
     "end_time": "2021-11-28T04:33:54.610959Z",
     "start_time": "2021-11-28T04:33:54.607196Z"
    }
   },
   "outputs": [],
   "source": [
    "alpha, beta = sympy.symbols('alpha beta')"
   ]
  },
  {
   "cell_type": "code",
   "execution_count": null,
   "id": "168acf1f",
   "metadata": {},
   "outputs": [],
   "source": [
    "def g(mu: sympy.Symbol, nu: sympy.Symbol):\n",
    "    return sympy.Symbol('g_{}_{}'.format(mu.name, nu.name))\n",
    "\n",
    "def christoffel(mu, nu, lam):\n",
    "    sympy.Derivative()"
   ]
  },
  {
   "cell_type": "code",
   "execution_count": null,
   "id": "10a5508b",
   "metadata": {},
   "outputs": [],
   "source": []
  },
  {
   "cell_type": "code",
   "execution_count": null,
   "id": "173779ec",
   "metadata": {},
   "outputs": [],
   "source": []
  },
  {
   "cell_type": "code",
   "execution_count": null,
   "id": "f06a518c",
   "metadata": {},
   "outputs": [],
   "source": []
  },
  {
   "cell_type": "markdown",
   "id": "1ee874b8",
   "metadata": {},
   "source": [
    "## Problem C"
   ]
  },
  {
   "cell_type": "markdown",
   "id": "9c26efda",
   "metadata": {},
   "source": [
    "### C1"
   ]
  },
  {
   "cell_type": "markdown",
   "id": "ba636940",
   "metadata": {},
   "source": [
    "Radius of orbit of binary: (7.144)\n",
    "\n",
    "$$\\omega = \\bigg(\\frac{GM}{4R^3}\\bigg)^2 \\implies R(\\omega) = \\left(\\frac{GM}{4\\omega^2}\\right)^{1/3}$$"
   ]
  },
  {
   "cell_type": "code",
   "execution_count": 2,
   "id": "183dfd74",
   "metadata": {
    "ExecuteTime": {
     "end_time": "2021-11-28T04:27:32.938372Z",
     "start_time": "2021-11-28T04:27:32.933849Z"
    }
   },
   "outputs": [],
   "source": [
    "def rad(omega, mass):\n",
    "    return (constants.G * mass / (4 * omega ** 2)) ** (1/3)"
   ]
  },
  {
   "cell_type": "code",
   "execution_count": 3,
   "id": "aab72fa3",
   "metadata": {
    "ExecuteTime": {
     "end_time": "2021-11-28T04:27:33.345581Z",
     "start_time": "2021-11-28T04:27:33.336585Z"
    }
   },
   "outputs": [],
   "source": [
    "M1 = 36 * constants.M_sun\n",
    "M2 = 29 * constants.M_sun\n",
    "M_avg = (M1 + M2) / 2.0\n",
    "\n",
    "omega = 35 * (1 / units.second) #* (2 * numpy.pi)"
   ]
  },
  {
   "cell_type": "code",
   "execution_count": 83,
   "id": "8a4a1f87",
   "metadata": {
    "ExecuteTime": {
     "end_time": "2021-11-27T05:55:12.538301Z",
     "start_time": "2021-11-27T05:55:12.534707Z"
    }
   },
   "outputs": [
    {
     "data": {
      "text/latex": [
       "$958369.47 \\; \\mathrm{m}$"
      ],
      "text/plain": [
       "<Quantity 958369.47299725 m>"
      ]
     },
     "execution_count": 83,
     "metadata": {},
     "output_type": "execute_result"
    }
   ],
   "source": [
    "r = rad(omega, M_avg)\n",
    "r"
   ]
  },
  {
   "cell_type": "code",
   "execution_count": 84,
   "id": "ebb3648b",
   "metadata": {
    "ExecuteTime": {
     "end_time": "2021-11-27T05:55:12.728988Z",
     "start_time": "2021-11-27T05:55:12.724775Z"
    }
   },
   "outputs": [
    {
     "data": {
      "text/latex": [
       "$95980.627 \\; \\mathrm{m}$"
      ],
      "text/plain": [
       "<Quantity 95980.62747326 m>"
      ]
     },
     "execution_count": 84,
     "metadata": {},
     "output_type": "execute_result"
    }
   ],
   "source": [
    "R_s = 2 * constants.G * M_avg / constants.c ** 2\n",
    "R_s"
   ]
  },
  {
   "cell_type": "code",
   "execution_count": 85,
   "id": "67743285",
   "metadata": {
    "ExecuteTime": {
     "end_time": "2021-11-27T05:55:12.893536Z",
     "start_time": "2021-11-27T05:55:12.889499Z"
    }
   },
   "outputs": [
    {
     "data": {
      "text/latex": [
       "$9.9850303 \\; \\mathrm{}$"
      ],
      "text/plain": [
       "<Quantity 9.98503029>"
      ]
     },
     "execution_count": 85,
     "metadata": {},
     "output_type": "execute_result"
    }
   ],
   "source": [
    "r / R_s"
   ]
  },
  {
   "cell_type": "markdown",
   "id": "8453e09d",
   "metadata": {},
   "source": [
    "### C2"
   ]
  },
  {
   "cell_type": "markdown",
   "id": "518b60d4",
   "metadata": {},
   "source": [
    "Distance"
   ]
  },
  {
   "cell_type": "markdown",
   "id": "aa6c9ec9",
   "metadata": {},
   "source": [
    "$$\\LARGE\\bar{h}_{ij} = \\frac{2G}{r} \\ddot{Q}_{ij}(t - r)$$"
   ]
  },
  {
   "cell_type": "markdown",
   "id": "9e002002",
   "metadata": {},
   "source": [
    "$$\\LARGE \\ddot{Q}_{ij} = 2Mr^2\\omega^2 \\begin{vmatrix}-\\cos{2\\omega(t-d)} & -\\sin{2\\omega(t-d)} & 0 \\\\ -\\sin{2\\omega(t-d)} & \\cos{2\\omega(t-d)} & 0 \\\\ 0 & 0 & 0 \\end{vmatrix}$$"
   ]
  },
  {
   "cell_type": "markdown",
   "id": "b73a493f",
   "metadata": {},
   "source": [
    "$$\\LARGE\\bar{h}_{ij} =  \\frac{4GMr^2 \\omega^2}{d} \\begin{vmatrix}-\\cos{2\\omega(t-d)} & -\\sin{2\\omega(t-d)} & 0 \\\\ -\\sin{2\\omega(t-d)} & \\cos{2\\omega(t-d)} & 0 \\\\ 0 & 0 & 0 \\end{vmatrix}$$"
   ]
  },
  {
   "cell_type": "markdown",
   "id": "f5880b84",
   "metadata": {},
   "source": [
    "$$\\max \\bar{h}_{ij} = 4GMd \\omega^2$$"
   ]
  },
  {
   "cell_type": "code",
   "execution_count": 86,
   "id": "527906a9",
   "metadata": {
    "ExecuteTime": {
     "end_time": "2021-11-27T05:55:33.025775Z",
     "start_time": "2021-11-27T05:55:33.022658Z"
    }
   },
   "outputs": [],
   "source": [
    "d = (410 * units.Mpc).to(units.meter)\n",
    "omega_max = 350 * (1 / units.second) #* (2 * numpy.pi)\n",
    "r_min = rad(omega_max, M_avg)"
   ]
  },
  {
   "cell_type": "code",
   "execution_count": 87,
   "id": "7a54fc09",
   "metadata": {
    "ExecuteTime": {
     "end_time": "2021-11-27T05:55:33.204412Z",
     "start_time": "2021-11-27T05:55:33.199279Z"
    }
   },
   "outputs": [
    {
     "data": {
      "text/latex": [
       "$8.8167083 \\times 10^{-22} \\; \\mathrm{}$"
      ],
      "text/plain": [
       "<Quantity 8.81670828e-22>"
      ]
     },
     "execution_count": 87,
     "metadata": {},
     "output_type": "execute_result"
    }
   ],
   "source": [
    "h_ij_max = 4 * constants.G * M_avg * (r_min ** 2) * (omega_max ** 2) / (d * (constants.c ** 4))\n",
    "h_ij_max"
   ]
  },
  {
   "cell_type": "markdown",
   "id": "8045afe3",
   "metadata": {},
   "source": [
    "### C3"
   ]
  },
  {
   "cell_type": "markdown",
   "id": "aa729ff7",
   "metadata": {},
   "source": [
    "$$P \\sim G \\dddot{Q}^2 \\sim P_o \\frac{r_s}{r}$$"
   ]
  },
  {
   "cell_type": "code",
   "execution_count": 88,
   "id": "92d55373",
   "metadata": {
    "ExecuteTime": {
     "end_time": "2021-11-27T05:55:40.074050Z",
     "start_time": "2021-11-27T05:55:40.070595Z"
    }
   },
   "outputs": [
    {
     "data": {
      "text/latex": [
       "$6.6743 \\times 10^{-11} \\; \\mathrm{\\frac{m^{3}}{kg\\,s^{2}}}$"
      ],
      "text/plain": [
       "<<class 'astropy.constants.codata2018.CODATA2018'> name='Gravitational constant' value=6.6743e-11 uncertainty=1.5e-15 unit='m3 / (kg s2)' reference='CODATA 2018'>"
      ]
     },
     "execution_count": 88,
     "metadata": {},
     "output_type": "execute_result"
    }
   ],
   "source": [
    "constants.G"
   ]
  },
  {
   "cell_type": "code",
   "execution_count": 89,
   "id": "29038be4",
   "metadata": {
    "ExecuteTime": {
     "end_time": "2021-11-27T05:55:40.306326Z",
     "start_time": "2021-11-27T05:55:40.302610Z"
    }
   },
   "outputs": [
    {
     "data": {
      "text/latex": [
       "$3.6282549 \\times 10^{52} \\; \\mathrm{W}$"
      ],
      "text/plain": [
       "<Quantity 3.6282549e+52 W>"
      ]
     },
     "execution_count": 89,
     "metadata": {},
     "output_type": "execute_result"
    }
   ],
   "source": [
    "P_o = (constants.c ** 5 / constants.G).to(units.Watt)\n",
    "P_o"
   ]
  },
  {
   "cell_type": "code",
   "execution_count": 90,
   "id": "815df176",
   "metadata": {
    "ExecuteTime": {
     "end_time": "2021-11-27T05:55:40.488021Z",
     "start_time": "2021-11-27T05:55:40.484814Z"
    }
   },
   "outputs": [
    {
     "data": {
      "text/latex": [
       "$3.828 \\times 10^{26} \\; \\mathrm{W}$"
      ],
      "text/plain": [
       "<<class 'astropy.constants.iau2015.IAU2015'> name='Nominal solar luminosity' value=3.828e+26 uncertainty=0.0 unit='W' reference='IAU 2015 Resolution B 3'>"
      ]
     },
     "execution_count": 90,
     "metadata": {},
     "output_type": "execute_result"
    }
   ],
   "source": [
    "constants.L_sun"
   ]
  },
  {
   "cell_type": "code",
   "execution_count": 91,
   "id": "8995b1cd",
   "metadata": {
    "ExecuteTime": {
     "end_time": "2021-11-27T05:55:40.633395Z",
     "start_time": "2021-11-27T05:55:40.628623Z"
    }
   },
   "outputs": [
    {
     "data": {
      "text/latex": [
       "$9.4781999 \\times 10^{25} \\; \\mathrm{}$"
      ],
      "text/plain": [
       "<Quantity 9.47819985e+25>"
      ]
     },
     "execution_count": 91,
     "metadata": {},
     "output_type": "execute_result"
    }
   ],
   "source": [
    "P_o / constants.L_sun"
   ]
  },
  {
   "cell_type": "code",
   "execution_count": 92,
   "id": "fae0ccb4",
   "metadata": {
    "ExecuteTime": {
     "end_time": "2021-11-27T05:55:40.977112Z",
     "start_time": "2021-11-27T05:55:40.973024Z"
    }
   },
   "outputs": [
    {
     "data": {
      "text/latex": [
       "$1.7870937 \\times 10^{47} \\; \\mathrm{W}$"
      ],
      "text/plain": [
       "<Quantity 1.78709367e+47 W>"
      ]
     },
     "execution_count": 92,
     "metadata": {},
     "output_type": "execute_result"
    }
   ],
   "source": [
    "P_sun_mass = (constants.M_sun * (constants.c ** 2) / (1 * units.second)).to(units.Watt)\n",
    "P_sun_mass"
   ]
  },
  {
   "cell_type": "code",
   "execution_count": 93,
   "id": "ab2ddbab",
   "metadata": {
    "ExecuteTime": {
     "end_time": "2021-11-27T05:55:41.276682Z",
     "start_time": "2021-11-27T05:55:41.271088Z"
    }
   },
   "outputs": [
    {
     "data": {
      "text/latex": [
       "$203025.45 \\; \\mathrm{}$"
      ],
      "text/plain": [
       "<Quantity 203025.44672808>"
      ]
     },
     "execution_count": 93,
     "metadata": {},
     "output_type": "execute_result"
    }
   ],
   "source": [
    "P_o / P_sun_mass"
   ]
  },
  {
   "cell_type": "markdown",
   "id": "e64bdcba",
   "metadata": {},
   "source": [
    "### C4"
   ]
  },
  {
   "cell_type": "markdown",
   "id": "b2f2c8c5",
   "metadata": {},
   "source": [
    "$$P(r) =  \\frac{2}{5c^5} \\frac{G^4 M^5}{R^5}$$"
   ]
  },
  {
   "cell_type": "markdown",
   "id": "dcc7b2f5",
   "metadata": {},
   "source": [
    "$$R(\\omega) = \\left(\\frac{GM}{4\\omega^2}\\right)^{1/3}$$"
   ]
  },
  {
   "cell_type": "markdown",
   "id": "05aa0ede",
   "metadata": {},
   "source": [
    "$$\\LARGE P(\\omega) =  \\frac{2}{5c^5} \\frac{1}{G} \\left(2GM\\right)^{10/3} \\omega^{10/3}$$"
   ]
  },
  {
   "cell_type": "markdown",
   "id": "9ca3f92f",
   "metadata": {},
   "source": [
    "$$\\LARGE E \\equiv \\int_{0}^{t_f} P(\\omega(t)) dt =  \\frac{2}{5c^5} \\frac{1}{G} \\left(2GM\\right)^{10/3} \\int_{0}^{t_f} \\omega^{10/3}(t) dt$$"
   ]
  },
  {
   "cell_type": "markdown",
   "id": "cd3e4625",
   "metadata": {},
   "source": [
    "Assumption:\n",
    "\n",
    "$$\\LARGE \\omega(t) = \\frac{t}{t_f}\\omega_f + \\frac{(t_f - t)}{t_f}\\omega_o = \\frac{\\omega_f - \\omega_o}{t_f} t + \\omega_o$$"
   ]
  },
  {
   "cell_type": "markdown",
   "id": "7085f03a",
   "metadata": {},
   "source": [
    "$$\\LARGE E = \\frac{2}{5c^5} \\frac{1}{G} \\left(2GM\\right)^{10/3} \\frac{3}{13} \\frac{t_f}{\\omega_f - \\omega_o} (\\omega_f^{13/3} - \\omega_o^{13/3})$$"
   ]
  },
  {
   "cell_type": "code",
   "execution_count": 94,
   "id": "d3668329",
   "metadata": {
    "ExecuteTime": {
     "end_time": "2021-11-27T05:55:44.345027Z",
     "start_time": "2021-11-27T05:55:44.342520Z"
    }
   },
   "outputs": [],
   "source": [
    "omega_init = 35 * (1 / units.second) #* (2 * numpy.pi)\n",
    "omega_fin = 350 * (1 / units.second) #* (2 * numpy.pi)"
   ]
  },
  {
   "cell_type": "code",
   "execution_count": 95,
   "id": "01fd6f6d",
   "metadata": {
    "ExecuteTime": {
     "end_time": "2021-11-27T05:55:44.499733Z",
     "start_time": "2021-11-27T05:55:44.494950Z"
    }
   },
   "outputs": [
    {
     "data": {
      "text/latex": [
       "$8.1944419 \\times 10^{-84} \\; \\mathrm{\\frac{m^{2}\\,kg}{s^{3}}}$"
      ],
      "text/plain": [
       "<Quantity 8.19444189e-84 kg m2 / s3>"
      ]
     },
     "execution_count": 95,
     "metadata": {},
     "output_type": "execute_result"
    }
   ],
   "source": [
    "P_units = constants.G ** 4 * units.kg ** 5 / (units.m ** 5) / (constants.c ** 5)\n",
    "P_units"
   ]
  },
  {
   "cell_type": "code",
   "execution_count": 96,
   "id": "d817cac9",
   "metadata": {
    "ExecuteTime": {
     "end_time": "2021-11-27T05:55:44.627553Z",
     "start_time": "2021-11-27T05:55:44.623153Z"
    }
   },
   "outputs": [
    {
     "data": {
      "text/latex": [
       "$7.4617926 \\times 10^{-67} \\; \\mathrm{\\frac{m^{2}\\,kg}{s^{3}}}$"
      ],
      "text/plain": [
       "<Quantity 7.4617926e-67 kg m2 / s3>"
      ]
     },
     "execution_count": 96,
     "metadata": {},
     "output_type": "execute_result"
    }
   ],
   "source": [
    "P_units = (1 / constants.c ** 5) * (1 / constants.G) * (constants.G * units.kg) ** (10/3) * (1 / units.second) ** (10/3)\n",
    "P_units"
   ]
  },
  {
   "cell_type": "code",
   "execution_count": 97,
   "id": "50a1dfdc",
   "metadata": {
    "ExecuteTime": {
     "end_time": "2021-11-27T05:55:44.787360Z",
     "start_time": "2021-11-27T05:55:44.785133Z"
    }
   },
   "outputs": [],
   "source": [
    "delta_t = 0.2 * units.second"
   ]
  },
  {
   "cell_type": "code",
   "execution_count": 98,
   "id": "c95820f2",
   "metadata": {
    "ExecuteTime": {
     "end_time": "2021-11-27T05:55:45.327322Z",
     "start_time": "2021-11-27T05:55:45.320053Z"
    }
   },
   "outputs": [
    {
     "data": {
      "text/latex": [
       "$5.0482335 \\times 10^{47} \\; \\mathrm{\\frac{m^{2}\\,kg}{s^{2}}}$"
      ],
      "text/plain": [
       "<Quantity 5.04823348e+47 kg m2 / s2>"
      ]
     },
     "execution_count": 98,
     "metadata": {},
     "output_type": "execute_result"
    }
   ],
   "source": [
    "E = ( (2 / (5 * constants.c ** 5))\n",
    "     * (1 / constants.G) * (2 * constants.G * M_avg) ** (10/3) \n",
    "     * (omega_fin ** (13/3) - omega_init ** (13/3)) * (delta_t / (omega_fin - omega_init)) * (3 / 13)\n",
    ")\n",
    "E"
   ]
  },
  {
   "cell_type": "code",
   "execution_count": 99,
   "id": "2e3b0331",
   "metadata": {
    "ExecuteTime": {
     "end_time": "2021-11-27T05:55:45.674952Z",
     "start_time": "2021-11-27T05:55:45.670880Z"
    }
   },
   "outputs": [
    {
     "data": {
      "text/latex": [
       "$2.8248287 \\; \\mathrm{}$"
      ],
      "text/plain": [
       "<Quantity 2.8248287>"
      ]
     },
     "execution_count": 99,
     "metadata": {},
     "output_type": "execute_result"
    }
   ],
   "source": [
    "E / (constants.M_sun * constants.c ** 2)"
   ]
  },
  {
   "cell_type": "code",
   "execution_count": null,
   "id": "e9484a86",
   "metadata": {},
   "outputs": [],
   "source": []
  },
  {
   "cell_type": "code",
   "execution_count": null,
   "id": "d601448c",
   "metadata": {},
   "outputs": [],
   "source": []
  }
 ],
 "metadata": {
  "kernelspec": {
   "display_name": "Python 3 (ipykernel)",
   "language": "python",
   "name": "python3"
  },
  "language_info": {
   "codemirror_mode": {
    "name": "ipython",
    "version": 3
   },
   "file_extension": ".py",
   "mimetype": "text/x-python",
   "name": "python",
   "nbconvert_exporter": "python",
   "pygments_lexer": "ipython3",
   "version": "3.8.12"
  }
 },
 "nbformat": 4,
 "nbformat_minor": 5
}
