{
 "cells": [
  {
   "cell_type": "markdown",
   "id": "280854b7",
   "metadata": {},
   "source": [
    "# HW 2"
   ]
  },
  {
   "cell_type": "markdown",
   "id": "12fd3182",
   "metadata": {},
   "source": [
    "## Imports"
   ]
  },
  {
   "cell_type": "code",
   "execution_count": null,
   "id": "3bee11cf",
   "metadata": {
    "ExecuteTime": {
     "end_time": "2021-10-03T01:34:04.482509Z",
     "start_time": "2021-10-03T01:34:04.473596Z"
    },
    "scrolled": false
   },
   "outputs": [],
   "source": [
    "import nbtools\n",
    "nbtools.setup_nb()"
   ]
  },
  {
   "cell_type": "code",
   "execution_count": null,
   "id": "9fb64372",
   "metadata": {
    "ExecuteTime": {
     "end_time": "2021-10-03T01:34:05.986525Z",
     "start_time": "2021-10-03T01:34:04.858172Z"
    },
    "scrolled": false
   },
   "outputs": [],
   "source": [
    "import itertools\n",
    "from astropy import units\n",
    "import sympy\n",
    "import pandas\n",
    "from scipy import integrate\n",
    "import numpy\n",
    "import plotly.express as px\n",
    "from plotly import graph_objects as go\n",
    "\n",
    "from sympy.diffgeom import Manifold, Patch\n",
    "from pystein import coords, metric, curvature, geodesic\n",
    "from pystein.utilities import tensor_pow as tpow, full_simplify, boundary_filter"
   ]
  },
  {
   "cell_type": "code",
   "execution_count": null,
   "id": "70af7b32",
   "metadata": {
    "ExecuteTime": {
     "end_time": "2021-10-03T01:34:13.754940Z",
     "start_time": "2021-10-03T01:34:13.752900Z"
    },
    "scrolled": true
   },
   "outputs": [],
   "source": [
    "show_plots = True"
   ]
  },
  {
   "cell_type": "markdown",
   "id": "fe19d036",
   "metadata": {
    "heading_collapsed": true
   },
   "source": [
    "## Utilities"
   ]
  },
  {
   "cell_type": "code",
   "execution_count": null,
   "id": "fd456a9d",
   "metadata": {
    "ExecuteTime": {
     "end_time": "2021-10-03T01:34:15.000297Z",
     "start_time": "2021-10-03T01:34:14.993661Z"
    },
    "hidden": true
   },
   "outputs": [],
   "source": [
    "import plotly.colors\n",
    "\n",
    "def get_continuous_color(colorscale, intermed):\n",
    "    \"\"\"\n",
    "    Plotly continuous colorscales assign colors to the range [0, 1]. This function computes the intermediate\n",
    "    color for any value in that range.\n",
    "\n",
    "    Plotly doesn't make the colorscales directly accessible in a common format.\n",
    "    Some are ready to use:\n",
    "    \n",
    "        colorscale = plotly.colors.PLOTLY_SCALES[\"Greens\"]\n",
    "\n",
    "    Others are just swatches that need to be constructed into a colorscale:\n",
    "\n",
    "        viridis_colors, scale = plotly.colors.convert_colors_to_same_type(plotly.colors.sequential.Viridis)\n",
    "        colorscale = plotly.colors.make_colorscale(viridis_colors, scale=scale)\n",
    "\n",
    "    :param colorscale: A plotly continuous colorscale defined with RGB string colors.\n",
    "    :param intermed: value in the range [0, 1]\n",
    "    :return: color in rgb string format\n",
    "    :rtype: str\n",
    "    \"\"\"\n",
    "    if len(colorscale) < 1:\n",
    "        raise ValueError(\"colorscale must have at least one color\")\n",
    "\n",
    "    if intermed <= 0 or len(colorscale) == 1:\n",
    "        return colorscale[0][1]\n",
    "    if intermed >= 1:\n",
    "        return colorscale[-1][1]\n",
    "\n",
    "    for cutoff, color in colorscale:\n",
    "        if intermed > cutoff:\n",
    "            low_cutoff, low_color = cutoff, color\n",
    "        else:\n",
    "            high_cutoff, high_color = cutoff, color\n",
    "            break\n",
    "\n",
    "    # noinspection PyUnboundLocalVariable\n",
    "    return plotly.colors.find_intermediate_color(\n",
    "        lowcolor=low_color, highcolor=high_color,\n",
    "        intermed=((intermed - low_cutoff) / (high_cutoff - low_cutoff)),\n",
    "        colortype=\"rgb\")"
   ]
  },
  {
   "cell_type": "markdown",
   "id": "ad33c281",
   "metadata": {},
   "source": [
    "## Exercises"
   ]
  },
  {
   "cell_type": "markdown",
   "id": "32b43cb9",
   "metadata": {},
   "source": [
    "### B2 - Rindler Coordinates"
   ]
  },
  {
   "cell_type": "markdown",
   "id": "18cc0fab",
   "metadata": {
    "heading_collapsed": true
   },
   "source": [
    "#### Setup Metric"
   ]
  },
  {
   "cell_type": "code",
   "execution_count": null,
   "id": "636a5f59",
   "metadata": {
    "ExecuteTime": {
     "end_time": "2021-09-28T02:30:40.716700Z",
     "start_time": "2021-09-28T02:30:40.714508Z"
    },
    "hidden": true,
    "scrolled": false
   },
   "outputs": [],
   "source": [
    "M = Manifold('M', dim=2)\n",
    "P = Patch('origin', M)"
   ]
  },
  {
   "cell_type": "code",
   "execution_count": null,
   "id": "a9082882",
   "metadata": {
    "ExecuteTime": {
     "end_time": "2021-09-28T02:40:12.530286Z",
     "start_time": "2021-09-28T02:40:12.496116Z"
    },
    "hidden": true,
    "scrolled": true
   },
   "outputs": [],
   "source": [
    "rho, eta = sympy.symbols('rho eta', nonnegative=False)\n",
    "cs = coords.CoordSystem('cartesian', P, [eta, rho])\n",
    "deta, drho = cs.base_oneforms()\n",
    "ds2 = - rho ** 2 * tpow(deta, 2) + tpow(drho, 2)\n",
    "g_rind = metric.Metric(twoform=ds2)\n",
    "g_rind"
   ]
  },
  {
   "cell_type": "markdown",
   "id": "22f0c6ef",
   "metadata": {
    "heading_collapsed": true
   },
   "source": [
    "#### Compute curvature components"
   ]
  },
  {
   "cell_type": "code",
   "execution_count": null,
   "id": "561cc599",
   "metadata": {
    "ExecuteTime": {
     "end_time": "2021-09-28T02:40:15.011012Z",
     "start_time": "2021-09-28T02:40:13.648350Z"
    },
    "hidden": true,
    "scrolled": false
   },
   "outputs": [],
   "source": [
    "crs, rmns, rcs = curvature.compute_components(g_rind)"
   ]
  },
  {
   "cell_type": "code",
   "execution_count": null,
   "id": "f50f8558",
   "metadata": {
    "ExecuteTime": {
     "end_time": "2021-09-28T02:40:15.026215Z",
     "start_time": "2021-09-28T02:40:15.013250Z"
    },
    "hidden": true,
    "scrolled": false
   },
   "outputs": [],
   "source": [
    "curvature.display_components(crs)"
   ]
  },
  {
   "cell_type": "code",
   "execution_count": null,
   "id": "6b62958f",
   "metadata": {
    "ExecuteTime": {
     "end_time": "2021-09-28T02:32:26.512894Z",
     "start_time": "2021-09-28T02:32:26.509609Z"
    },
    "hidden": true,
    "scrolled": false
   },
   "outputs": [],
   "source": [
    "curvature.display_components(rmns)"
   ]
  },
  {
   "cell_type": "code",
   "execution_count": null,
   "id": "7bdd5409",
   "metadata": {
    "ExecuteTime": {
     "end_time": "2021-09-28T02:32:28.416319Z",
     "start_time": "2021-09-28T02:32:28.413482Z"
    },
    "hidden": true,
    "scrolled": false
   },
   "outputs": [],
   "source": [
    "curvature.display_components(rcs)"
   ]
  },
  {
   "cell_type": "markdown",
   "id": "431769b2",
   "metadata": {},
   "source": [
    "### B3"
   ]
  },
  {
   "cell_type": "code",
   "execution_count": null,
   "id": "1d0d3220",
   "metadata": {
    "ExecuteTime": {
     "end_time": "2021-10-03T01:34:17.636557Z",
     "start_time": "2021-10-03T01:34:17.633140Z"
    }
   },
   "outputs": [],
   "source": [
    "rhos = numpy.arange(1/numpy.e**2, 10, 0.01)\n",
    "consts = numpy.arange(-2, 12, 1.0)\n",
    "c_norm = lambda c: (c + 2) / 14\n",
    "pos_etas = [+numpy.log(rhos) + c for c in consts]\n",
    "neg_etas = [-numpy.log(rhos) + c for c in consts]"
   ]
  },
  {
   "cell_type": "code",
   "execution_count": null,
   "id": "1d7c989c",
   "metadata": {
    "ExecuteTime": {
     "end_time": "2021-10-03T01:34:17.852526Z",
     "start_time": "2021-10-03T01:34:17.849819Z"
    }
   },
   "outputs": [],
   "source": [
    "viridis_colors, _ = plotly.colors.convert_colors_to_same_type(plotly.colors.sequential.Plasma)\n",
    "colorscale = plotly.colors.make_colorscale(viridis_colors)"
   ]
  },
  {
   "cell_type": "code",
   "execution_count": null,
   "id": "d8f2bf58",
   "metadata": {
    "ExecuteTime": {
     "end_time": "2021-10-03T01:59:05.329148Z",
     "start_time": "2021-10-03T01:59:05.126481Z"
    }
   },
   "outputs": [],
   "source": [
    "fig = go.Figure()\n",
    "for c, n, p in zip(consts, neg_etas, pos_etas):\n",
    "    color = get_continuous_color(colorscale, intermed=c_norm(c))\n",
    "    fig.add_trace(go.Scatter(x=rhos, y=p, line=dict(color=color, dash='solid')))\n",
    "    fig.add_trace(go.Scatter(x=rhos, y=n, line=dict(color='rgba'+color[3:-1]+', 0.6)', dash='dot')))\n",
    "\n",
    "fig.update_layout(yaxis_range=[0,10],\n",
    "                  xaxis_range=[0,10],\n",
    "                  width=700,\n",
    "                  height=700,\n",
    "                  showlegend=False,\n",
    "                  title_text=r'$\\text{Null Geodesics in 2D Minkowski }(\\eta, \\rho)$', \n",
    "                  title_x=0.5,\n",
    "                  xaxis_title=r'$\\rho$',\n",
    "                  yaxis_title=r'$\\eta$')\n",
    "fig.show()"
   ]
  },
  {
   "cell_type": "code",
   "execution_count": null,
   "id": "9b4240ba",
   "metadata": {
    "ExecuteTime": {
     "end_time": "2021-10-03T01:59:08.008441Z",
     "start_time": "2021-10-03T01:59:07.734641Z"
    }
   },
   "outputs": [],
   "source": [
    "# fig.write_image('/Users/jim/repos/tex/homework/courses/PHYS510 - GR I/figures/fig-b3.pdf')"
   ]
  },
  {
   "cell_type": "markdown",
   "id": "ba955ac4",
   "metadata": {},
   "source": [
    "### B4"
   ]
  },
  {
   "cell_type": "code",
   "execution_count": null,
   "id": "dd219d0f",
   "metadata": {
    "ExecuteTime": {
     "end_time": "2021-10-03T03:43:39.414194Z",
     "start_time": "2021-10-03T03:43:39.409986Z"
    }
   },
   "outputs": [],
   "source": [
    "xs = numpy.arange(0.0, 1.0, 0.01)\n",
    "ts_p = numpy.arange(0.0, 1.0, 0.01)\n",
    "ts_m = numpy.arange(-1.0, 0.0, 0.01)\n",
    "\n",
    "# Const Eta\n",
    "etas = numpy.arange(-3, 3, .25)\n",
    "eta_norm = lambda e: abs(e) / 3\n",
    "ts_eta_const = [xs * numpy.tanh(e) for e in etas]\n",
    "\n",
    "# Const rho\n",
    "rhos = numpy.arange(0.0, 1.0, 0.1)\n",
    "rho_norm = lambda r: 1 - r\n",
    "xs_rho_const_p = [numpy.sqrt(ts_p ** 2 + r ** 2) for r in rhos]\n",
    "xs_rho_const_m = [numpy.sqrt(ts_m ** 2 + r ** 2) for r in rhos]"
   ]
  },
  {
   "cell_type": "code",
   "execution_count": null,
   "id": "e8fadbd2",
   "metadata": {
    "ExecuteTime": {
     "end_time": "2021-10-03T03:49:19.743504Z",
     "start_time": "2021-10-03T03:49:19.739773Z"
    }
   },
   "outputs": [],
   "source": [
    "_tmp_const_eta, _ = plotly.colors.convert_colors_to_same_type(plotly.colors.sequential.Blues)\n",
    "_tmp_const_rho, _ = plotly.colors.convert_colors_to_same_type(plotly.colors.sequential.OrRd)\n",
    "colorscale_eta = plotly.colors.make_colorscale(_tmp_const_eta)\n",
    "colorscale_rho = plotly.colors.make_colorscale(_tmp_const_rho)"
   ]
  },
  {
   "cell_type": "code",
   "execution_count": null,
   "id": "0b7b91d4",
   "metadata": {
    "ExecuteTime": {
     "end_time": "2021-10-03T03:52:53.135016Z",
     "start_time": "2021-10-03T03:52:53.021481Z"
    }
   },
   "outputs": [],
   "source": [
    "fig = go.Figure()\n",
    "\n",
    "# Plot const rho\n",
    "for r, n, p in zip(rhos, xs_rho_const_m, xs_rho_const_p):\n",
    "    color_r = get_continuous_color(colorscale_rho, intermed=0.5*rho_norm(r) + 0.5)\n",
    "#     print(r, rho_norm(r), 0.5*rho_norm(r) + 0.5)\n",
    "#     print(color_r)\n",
    "    fig.add_trace(go.Scatter(x=n, y=ts_m, line=dict(color=color_r, dash='solid')))\n",
    "    fig.add_trace(go.Scatter(x=-n, y=ts_m, line=dict(color=color_r, dash='solid')))\n",
    "    fig.add_trace(go.Scatter(x=p, y=ts_p, line=dict(color=color_r, dash='solid')))\n",
    "    fig.add_trace(go.Scatter(x=-p, y=ts_p, line=dict(color=color_r, dash='solid')))\n",
    "    \n",
    "for e, t in zip(etas, ts_eta_const):\n",
    "    color_e = get_continuous_color(colorscale_eta, intermed=0.5*eta_norm(e) + 0.5)\n",
    "#     print(e, eta_norm(e), color)\n",
    "    fig.add_trace(go.Scatter(x=xs, y=t, line=dict(color=color_e, dash='solid')))\n",
    "    fig.add_trace(go.Scatter(x=-xs, y=-t, line=dict(color=color_e, dash='solid')))\n",
    "\n",
    "    \n",
    "fig.update_layout(yaxis_range=[-1,1],\n",
    "                  xaxis_range=[-1,1],\n",
    "                  width=550,\n",
    "                  height=550,\n",
    "                  showlegend=False,\n",
    "                  title_text=r'$\\text{Rindler Wedge in 2D Minkowski Metric }(t, x)$', \n",
    "                  title_x=0.5,\n",
    "                  xaxis_title=r'$x$',\n",
    "                  yaxis_title=r'$t$')\n",
    "fig.show()"
   ]
  },
  {
   "cell_type": "code",
   "execution_count": null,
   "id": "52d7a177",
   "metadata": {
    "ExecuteTime": {
     "end_time": "2021-10-03T04:56:03.188253Z",
     "start_time": "2021-10-03T04:56:03.186316Z"
    }
   },
   "outputs": [],
   "source": [
    "# fig.write_image('/Users/jim/repos/tex/homework/courses/PHYS510 - GR I/figures/fig-b4.pdf')"
   ]
  },
  {
   "cell_type": "markdown",
   "id": "29897589",
   "metadata": {
    "heading_collapsed": true
   },
   "source": [
    "### B5"
   ]
  },
  {
   "cell_type": "markdown",
   "id": "1a3a63f0",
   "metadata": {
    "hidden": true
   },
   "source": [
    "Simplify Expression for $\\lambda_2$"
   ]
  },
  {
   "cell_type": "code",
   "execution_count": null,
   "id": "c894f0b2",
   "metadata": {
    "ExecuteTime": {
     "end_time": "2021-10-03T20:58:32.292907Z",
     "start_time": "2021-10-03T20:58:32.290551Z"
    },
    "hidden": true
   },
   "outputs": [],
   "source": [
    "d, g, z = sympy.symbols('d g z')"
   ]
  },
  {
   "cell_type": "code",
   "execution_count": null,
   "id": "bd07e8cc",
   "metadata": {
    "ExecuteTime": {
     "end_time": "2021-10-03T20:58:33.545922Z",
     "start_time": "2021-10-03T20:58:33.513797Z"
    },
    "hidden": true
   },
   "outputs": [],
   "source": [
    "x_arg_alt = sympy.Rational(1, 2) * (z + 1) + 1 / (z + 1)\n",
    "sympy.simplify(x_arg_alt)"
   ]
  },
  {
   "cell_type": "code",
   "execution_count": null,
   "id": "a748ec6d",
   "metadata": {
    "ExecuteTime": {
     "end_time": "2021-10-03T20:58:34.006429Z",
     "start_time": "2021-10-03T20:58:33.958556Z"
    },
    "hidden": true
   },
   "outputs": [],
   "source": [
    "x_arg_z = sympy.simplify((z**2 * (z + 2)**2 + 2 * (z + 1)**2) / (2 * (z + 1)**2))\n",
    "x_arg_z"
   ]
  },
  {
   "cell_type": "code",
   "execution_count": null,
   "id": "eb78d25f",
   "metadata": {
    "ExecuteTime": {
     "end_time": "2021-10-03T20:58:34.292061Z",
     "start_time": "2021-10-03T20:58:34.282974Z"
    },
    "hidden": true
   },
   "outputs": [],
   "source": [
    "x_arg_ln_z = x_arg_z + sympy.sqrt(x_arg_z ** 2 - 1)\n",
    "x_arg_ln_z"
   ]
  },
  {
   "cell_type": "code",
   "execution_count": null,
   "id": "1d936bf6",
   "metadata": {
    "ExecuteTime": {
     "end_time": "2021-10-03T20:58:34.687154Z",
     "start_time": "2021-10-03T20:58:34.679946Z"
    },
    "hidden": true
   },
   "outputs": [],
   "source": [
    "lam_2_z_alt = sympy.ln(x_arg_ln_z)\n",
    "lam_2_z_alt"
   ]
  },
  {
   "cell_type": "code",
   "execution_count": null,
   "id": "8b089afc",
   "metadata": {
    "ExecuteTime": {
     "end_time": "2021-10-03T20:58:35.870515Z",
     "start_time": "2021-10-03T20:58:35.350627Z"
    },
    "hidden": true
   },
   "outputs": [],
   "source": [
    "(sympy.series(lam_2_z_alt, x=z, n=3).subs([(z, d * g)]) / g).doit()"
   ]
  },
  {
   "cell_type": "markdown",
   "id": "e2b421a6",
   "metadata": {},
   "source": [
    "### B8"
   ]
  },
  {
   "cell_type": "markdown",
   "id": "b354dd56",
   "metadata": {},
   "source": [
    "Make visual of $\\rho_{\\mathrm{obs}}(\\tau)$"
   ]
  },
  {
   "cell_type": "code",
   "execution_count": null,
   "id": "4a0b71a2",
   "metadata": {
    "ExecuteTime": {
     "end_time": "2021-10-04T01:24:13.202193Z",
     "start_time": "2021-10-04T01:24:13.196860Z"
    }
   },
   "outputs": [],
   "source": [
    "# gs = 1 + numpy.arange(-1 + 0.1, 50, 0.1)\n",
    "gs = 10.0 ** numpy.arange(-1.2, 1.2, 0.1)\n",
    "# gs = numpy.logspace(-2, 2, int(4/0.1))\n",
    "rho_f = 1\n",
    "P_f = 1\n",
    "\n",
    "g_norm = lambda g: (numpy.log(g) + 1.2) / (1.2 - -1.2) - 0.1\n",
    "\n",
    "taus_ = []\n",
    "rhos_ = []\n",
    "\n",
    "for g in gs:\n",
    "    gtau_bound = numpy.log(1 + numpy.sqrt(2))\n",
    "    tau_bound = gtau_bound / g\n",
    "\n",
    "    taus = numpy.arange(0, 1.0, 0.01)\n",
    "    vs = numpy.sinh(g * taus)\n",
    "    gammas_sq = 1 / (1 - vs ** 2)\n",
    "    rho_obs = gammas_sq * (rho_f + vs ** 2 * P_f)\n",
    "    rho_obs[numpy.where(taus > tau_bound)] = numpy.nan\n",
    "    \n",
    "    taus_.append(taus)\n",
    "    rhos_.append(rho_obs)"
   ]
  },
  {
   "cell_type": "code",
   "execution_count": null,
   "id": "e3fc7611",
   "metadata": {
    "ExecuteTime": {
     "end_time": "2021-10-04T01:24:13.444704Z",
     "start_time": "2021-10-04T01:24:13.442118Z"
    }
   },
   "outputs": [],
   "source": [
    "_tmp_const_g, _ = plotly.colors.convert_colors_to_same_type(plotly.colors.sequential.Agsunset)\n",
    "colorscale_g = plotly.colors.make_colorscale(_tmp_const_g)"
   ]
  },
  {
   "cell_type": "code",
   "execution_count": null,
   "id": "f2ec8f8b",
   "metadata": {
    "ExecuteTime": {
     "end_time": "2021-10-04T01:29:34.086452Z",
     "start_time": "2021-10-04T01:29:34.006779Z"
    },
    "scrolled": false
   },
   "outputs": [],
   "source": [
    "fig = go.Figure()\n",
    "\n",
    "for g, ts, rs in zip(gs, taus_, rhos_):\n",
    "    color_g = get_continuous_color(colorscale_g, g_norm(g))\n",
    "    fig.add_trace(go.Scatter(x=ts, \n",
    "                             y=rs, \n",
    "                             line=dict(color=color_g, \n",
    "                                       dash='solid'),\n",
    "                 ))\n",
    "    fig.add_trace(go.Scatter(x=[-1], \n",
    "                             y=[-1], \n",
    "                             marker=dict(\n",
    "                                size=16,\n",
    "                                cmax=39,\n",
    "                                cmin=0,\n",
    "                                color=color_g,\n",
    "                                colorbar=dict(\n",
    "                                    title=\"Field g\"\n",
    "                                ),\n",
    "                                colorscale=\"Agsunset\"\n",
    "                            ),\n",
    "                             mode='markers'\n",
    "                 ))\n",
    "\n",
    "    \n",
    "fig.update_layout(\n",
    "    yaxis_range=[0.95,2.05],\n",
    "    xaxis_range=[-.05,1],\n",
    "    width=700,\n",
    "    height=550,\n",
    "    showlegend=False,\n",
    "    title_text=r'$\\text{Measured energy density vs proper time}$', \n",
    "    title_x=0.5,\n",
    "    xaxis_title=r'$\\tau$',\n",
    "    yaxis_title=r'$\\rho_{\\mathrm{obs}}/\\rho_{\\mathrm{f}}$',\n",
    ")\n",
    "fig.show()"
   ]
  },
  {
   "cell_type": "code",
   "execution_count": null,
   "id": "7f797826",
   "metadata": {
    "ExecuteTime": {
     "end_time": "2021-10-04T01:35:15.555429Z",
     "start_time": "2021-10-04T01:35:14.988001Z"
    }
   },
   "outputs": [],
   "source": [
    "fig.write_image('/Users/jim/repos/tex/homework/courses/PHYS510 - GR I/figures/fig-b8.pdf')"
   ]
  },
  {
   "cell_type": "markdown",
   "id": "69f662d6",
   "metadata": {},
   "source": [
    "## C - Problem"
   ]
  },
  {
   "cell_type": "markdown",
   "id": "84c5f75c",
   "metadata": {},
   "source": [
    "### C1"
   ]
  },
  {
   "cell_type": "code",
   "execution_count": null,
   "id": "b0937d18",
   "metadata": {
    "ExecuteTime": {
     "end_time": "2021-10-01T00:27:43.068795Z",
     "start_time": "2021-10-01T00:27:42.855397Z"
    }
   },
   "outputs": [],
   "source": [
    "M = Manifold('M', dim=2)\n",
    "P = Patch('origin', M)\n",
    "t, h, g, c = sympy.symbols('t h g c', nonnegative=False)\n",
    "\n",
    "cs = coords.CoordSystem('cartesian', P, [t, h])\n",
    "dt, dh = cs.base_oneforms()\n",
    "\n",
    "ds2 = - (1 + g * h / c ** 2) ** 2 * tpow(dt, 2) + tpow(dh, 2)\n",
    "g_c1 = metric.Metric(twoform=ds2)\n",
    "g_c1"
   ]
  },
  {
   "cell_type": "code",
   "execution_count": null,
   "id": "5fbcc42c",
   "metadata": {
    "ExecuteTime": {
     "end_time": "2021-10-01T00:28:04.719567Z",
     "start_time": "2021-10-01T00:27:58.112254Z"
    }
   },
   "outputs": [],
   "source": [
    "crs, rmns, rcs = curvature.compute_components(g_c1)"
   ]
  },
  {
   "cell_type": "code",
   "execution_count": null,
   "id": "fcde9577",
   "metadata": {
    "ExecuteTime": {
     "end_time": "2021-10-01T00:28:05.372015Z",
     "start_time": "2021-10-01T00:28:05.304947Z"
    }
   },
   "outputs": [],
   "source": [
    "curvature.display_components(crs)"
   ]
  },
  {
   "cell_type": "code",
   "execution_count": null,
   "id": "ec866483",
   "metadata": {
    "ExecuteTime": {
     "end_time": "2021-10-01T00:29:51.720670Z",
     "start_time": "2021-10-01T00:29:51.712369Z"
    }
   },
   "outputs": [],
   "source": [
    "sympy.Derivative(c**2/(c**2 + g * h), h).doit()"
   ]
  }
 ],
 "metadata": {
  "kernelspec": {
   "display_name": "Python 3 (ipykernel)",
   "language": "python",
   "name": "python3"
  },
  "language_info": {
   "codemirror_mode": {
    "name": "ipython",
    "version": 3
   },
   "file_extension": ".py",
   "mimetype": "text/x-python",
   "name": "python",
   "nbconvert_exporter": "python",
   "pygments_lexer": "ipython3",
   "version": "3.8.12"
  }
 },
 "nbformat": 4,
 "nbformat_minor": 5
}
