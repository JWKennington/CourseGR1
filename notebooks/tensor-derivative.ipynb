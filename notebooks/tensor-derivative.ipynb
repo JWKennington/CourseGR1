{
 "cells": [
  {
   "cell_type": "markdown",
   "id": "3c379ae5",
   "metadata": {},
   "source": [
    "# Tensor Derivatives"
   ]
  },
  {
   "cell_type": "markdown",
   "id": "372806c9",
   "metadata": {},
   "source": [
    "This notebook shows how to compute symbolic tensor derivatives"
   ]
  },
  {
   "cell_type": "markdown",
   "id": "d2b72890",
   "metadata": {},
   "source": [
    "## Imports"
   ]
  },
  {
   "cell_type": "code",
   "execution_count": 131,
   "id": "bd22af63",
   "metadata": {
    "ExecuteTime": {
     "end_time": "2021-08-23T18:09:37.528314Z",
     "start_time": "2021-08-23T18:09:37.526242Z"
    }
   },
   "outputs": [],
   "source": [
    "import sympy\n",
    "import itertools\n",
    "from sympy.tensor import tensor"
   ]
  },
  {
   "cell_type": "markdown",
   "id": "081458ac",
   "metadata": {},
   "source": [
    "## Defining tensor indices"
   ]
  },
  {
   "cell_type": "markdown",
   "id": "d172ed25",
   "metadata": {},
   "source": [
    "### Using IndexedBase"
   ]
  },
  {
   "cell_type": "code",
   "execution_count": 5,
   "id": "5ed038f5",
   "metadata": {
    "ExecuteTime": {
     "end_time": "2021-08-23T15:30:15.192286Z",
     "start_time": "2021-08-23T15:30:15.190067Z"
    }
   },
   "outputs": [],
   "source": [
    "mu, nu = sympy.symbols('mu nu')"
   ]
  },
  {
   "cell_type": "code",
   "execution_count": 4,
   "id": "12a38d5b",
   "metadata": {
    "ExecuteTime": {
     "end_time": "2021-08-23T15:30:03.968554Z",
     "start_time": "2021-08-23T15:30:03.966240Z"
    }
   },
   "outputs": [],
   "source": [
    "T = sympy.IndexedBase('T')"
   ]
  },
  {
   "cell_type": "code",
   "execution_count": 6,
   "id": "2fea2d44",
   "metadata": {
    "ExecuteTime": {
     "end_time": "2021-08-23T15:30:17.387242Z",
     "start_time": "2021-08-23T15:30:17.382592Z"
    }
   },
   "outputs": [
    {
     "data": {
      "text/latex": [
       "$\\displaystyle {T}_{\\mu,\\nu}$"
      ],
      "text/plain": [
       "T[mu, nu]"
      ]
     },
     "execution_count": 6,
     "metadata": {},
     "output_type": "execute_result"
    }
   ],
   "source": [
    "T[mu, nu]"
   ]
  },
  {
   "cell_type": "markdown",
   "id": "4791e46c",
   "metadata": {},
   "source": [
    "### Using TensorHead"
   ]
  },
  {
   "cell_type": "code",
   "execution_count": 8,
   "id": "abe480f6",
   "metadata": {
    "ExecuteTime": {
     "end_time": "2021-08-23T15:34:49.278512Z",
     "start_time": "2021-08-23T15:34:49.276452Z"
    }
   },
   "outputs": [],
   "source": [
    "L = tensor.TensorIndexType('Lorentz', 'L')"
   ]
  },
  {
   "cell_type": "code",
   "execution_count": 9,
   "id": "34d33cad",
   "metadata": {
    "ExecuteTime": {
     "end_time": "2021-08-23T15:35:04.542512Z",
     "start_time": "2021-08-23T15:35:04.540503Z"
    }
   },
   "outputs": [],
   "source": [
    "mu, nu = tensor.tensor_indices('mu nu', L)"
   ]
  },
  {
   "cell_type": "code",
   "execution_count": 15,
   "id": "cb568f19",
   "metadata": {
    "ExecuteTime": {
     "end_time": "2021-08-23T15:36:49.486327Z",
     "start_time": "2021-08-23T15:36:49.483903Z"
    }
   },
   "outputs": [],
   "source": [
    "rho = tensor.TensorIndex('rho', L, is_up=False)"
   ]
  },
  {
   "cell_type": "code",
   "execution_count": 28,
   "id": "94ac929c",
   "metadata": {
    "ExecuteTime": {
     "end_time": "2021-08-23T15:46:11.074017Z",
     "start_time": "2021-08-23T15:46:11.071707Z"
    }
   },
   "outputs": [],
   "source": [
    "alpha = tensor.TensorIndex('alpha', L, is_up=False)\n",
    "beta = tensor.TensorIndex('beta', L, is_up=False)"
   ]
  },
  {
   "cell_type": "code",
   "execution_count": 10,
   "id": "793e2141",
   "metadata": {
    "ExecuteTime": {
     "end_time": "2021-08-23T15:35:49.278572Z",
     "start_time": "2021-08-23T15:35:49.276106Z"
    }
   },
   "outputs": [],
   "source": [
    "T = tensor.TensorHead('T', [L, L])"
   ]
  },
  {
   "cell_type": "code",
   "execution_count": 17,
   "id": "c1f77988",
   "metadata": {
    "ExecuteTime": {
     "end_time": "2021-08-23T15:38:08.718667Z",
     "start_time": "2021-08-23T15:38:08.715441Z"
    }
   },
   "outputs": [
    {
     "data": {
      "text/latex": [
       "$\\displaystyle T{}^{\\mu}{}_{\\rho}$"
      ],
      "text/plain": [
       "T(mu, -rho)"
      ]
     },
     "execution_count": 17,
     "metadata": {},
     "output_type": "execute_result"
    }
   ],
   "source": [
    "T_mu_rho = T(mu, rho)\n",
    "T_mu_rho"
   ]
  },
  {
   "cell_type": "code",
   "execution_count": 25,
   "id": "bcf25af0",
   "metadata": {
    "ExecuteTime": {
     "end_time": "2021-08-23T15:43:35.524146Z",
     "start_time": "2021-08-23T15:43:35.520953Z"
    }
   },
   "outputs": [
    {
     "data": {
      "text/latex": [
       "$\\displaystyle T{}^{\\mu}{}_{\\rho}$"
      ],
      "text/plain": [
       "T(mu, -rho)"
      ]
     },
     "execution_count": 25,
     "metadata": {},
     "output_type": "execute_result"
    }
   ],
   "source": [
    "T_mu_rho.expand()"
   ]
  },
  {
   "cell_type": "code",
   "execution_count": 36,
   "id": "77e68c4f",
   "metadata": {
    "ExecuteTime": {
     "end_time": "2021-08-23T15:49:00.008581Z",
     "start_time": "2021-08-23T15:49:00.006499Z"
    }
   },
   "outputs": [],
   "source": [
    "def partial_deriv(t, idx):\n",
    "    pd = tensor.TensorHead('\\partial', [L])\n",
    "    return pd(idx) * t"
   ]
  },
  {
   "cell_type": "code",
   "execution_count": 96,
   "id": "c032f4c9",
   "metadata": {
    "ExecuteTime": {
     "end_time": "2021-08-23T16:12:10.249999Z",
     "start_time": "2021-08-23T16:12:10.247147Z"
    }
   },
   "outputs": [],
   "source": [
    "def christoffel(u, ll, lr):\n",
    "    gamma = tensor.TensorHead('\\Gamma', [L, L, L])\n",
    "    \n",
    "    u = tensor.TensorIndex(u.name, L, is_up=True)\n",
    "    ll = tensor.TensorIndex(ll.name, L, is_up=False)\n",
    "    lr = tensor.TensorIndex(lr.name, L, is_up=False)\n",
    "    \n",
    "#     print(u, ll, lr)\n",
    "#     print(gamma(u, ll, lr).args)\n",
    "    return gamma(u, ll, lr)"
   ]
  },
  {
   "cell_type": "code",
   "execution_count": 165,
   "id": "219334e3",
   "metadata": {
    "ExecuteTime": {
     "end_time": "2021-08-23T18:24:48.430472Z",
     "start_time": "2021-08-23T18:24:48.426749Z"
    }
   },
   "outputs": [],
   "source": [
    "def cov_deriv(t, wrt, n=0):\n",
    "    idxs = indices(t)\n",
    "    \n",
    "    d = partial_deriv(t, wrt)\n",
    "    dummy_up = tensor.TensorIndex('lambda_{:d}'.format(n), L, is_up=True)\n",
    "    dummy_dn = tensor.TensorIndex('lambda_{:d}'.format(n), L, is_up=False)\n",
    "    \n",
    "    for idx in idxs:\n",
    "        if idx.is_up:\n",
    "            d += christoffel(idx, wrt, dummy_up) * t.replace(idx, dummy_up)\n",
    "        else:\n",
    "            d -= christoffel(dummy_dn, wrt, idx) * t.replace(idx, dummy_dn)\n",
    "\n",
    "    L_0_up = tensor.TensorIndex('L_{:d}'.format(n), L, is_up=True)\n",
    "    L_0_dn = tensor.TensorIndex('L_{:d}'.format(n), L, is_up=False)\n",
    "\n",
    "    d = d.replace(L_0_up, dummy_up)\n",
    "    d = d.replace(L_0_dn, dummy_dn)\n",
    "\n",
    "    return  d"
   ]
  },
  {
   "cell_type": "code",
   "execution_count": 166,
   "id": "b06c9ccc",
   "metadata": {
    "ExecuteTime": {
     "end_time": "2021-08-23T18:24:48.841685Z",
     "start_time": "2021-08-23T18:24:48.810895Z"
    }
   },
   "outputs": [
    {
     "data": {
      "text/latex": [
       "$\\displaystyle \\Gamma{}^{\\mu}{}_{\\alpha\\lambda_{0}}T{}^{\\lambda_{0}}{}_{\\rho} + \\left(-1\\right)\\Gamma{}^{\\lambda_{0}}{}_{\\alpha\\rho}T{}^{\\mu}{}_{\\lambda_{0}} + \\partial{}_{\\alpha}T{}^{\\mu}{}_{\\rho}$"
      ],
      "text/plain": [
       "\\Gamma(mu, -alpha, -lambda_0)*T(lambda_0, -rho) + \\partial(-alpha)*T(mu, -rho) + (-1)*\\Gamma(lambda_0, -alpha, -rho)*T(mu, -lambda_0)"
      ]
     },
     "execution_count": 166,
     "metadata": {},
     "output_type": "execute_result"
    }
   ],
   "source": [
    "d = cov_deriv(T_mu_rho, alpha)\n",
    "d"
   ]
  },
  {
   "cell_type": "code",
   "execution_count": 167,
   "id": "662c0a66",
   "metadata": {
    "ExecuteTime": {
     "end_time": "2021-08-23T18:24:53.766647Z",
     "start_time": "2021-08-23T18:24:53.761998Z"
    }
   },
   "outputs": [],
   "source": [
    "def indices(t):\n",
    "    if isinstance(t, tensor.TensAdd):\n",
    "        term_indices = [indices(x) for x in t.args]\n",
    "        if not all(set(term_indices[0]) == set(term_indices[i]) for i in range(len(term_indices)) if term_indices[i]):\n",
    "            print(term_indices)\n",
    "            raise ValueError('Invalid Tensorial Equation, added terms must share indices: {}'.format(t))\n",
    "        return indices(t.args[0])\n",
    "    elif isinstance(t, tensor.TensMul):\n",
    "        idxs = list(itertools.chain.from_iterable(indices(x) for x in t.args))\n",
    "        # remove dummy indices\n",
    "        for i in idxs:\n",
    "            i_names = [k for k in idxs if k.name == i.name]\n",
    "            if len(i_names) == 2:\n",
    "                _ = [idxs.remove(k) for k in i_names]\n",
    "        return idxs\n",
    "    elif isinstance(t, tensor.Tensor):\n",
    "        return list(t.indices)\n",
    "    elif isinstance(t, sympy.Number):\n",
    "        return []\n",
    "    else:\n",
    "        raise ValueError('Unsupported type {} for extracting indices {}'.format(type(t), t))"
   ]
  },
  {
   "cell_type": "code",
   "execution_count": 172,
   "id": "8c1deb23",
   "metadata": {
    "ExecuteTime": {
     "end_time": "2021-08-23T18:25:58.076846Z",
     "start_time": "2021-08-23T18:25:58.074489Z"
    }
   },
   "outputs": [],
   "source": [
    "def riemann(v):\n",
    "    return cov_deriv(cov_deriv(v, alpha), beta, n=1) - cov_deriv(cov_deriv(v, beta), alpha, n=1)"
   ]
  },
  {
   "cell_type": "code",
   "execution_count": 170,
   "id": "37e237b8",
   "metadata": {
    "ExecuteTime": {
     "end_time": "2021-08-23T18:25:10.340960Z",
     "start_time": "2021-08-23T18:25:10.074451Z"
    }
   },
   "outputs": [],
   "source": [
    "d = cov_deriv(cov_deriv(T_mu_rho, alpha), beta, n=1)"
   ]
  },
  {
   "cell_type": "code",
   "execution_count": 171,
   "id": "b56b2fc0",
   "metadata": {
    "ExecuteTime": {
     "end_time": "2021-08-23T18:25:10.531248Z",
     "start_time": "2021-08-23T18:25:10.524675Z"
    }
   },
   "outputs": [
    {
     "data": {
      "text/latex": [
       "$\\displaystyle \\Gamma{}^{\\mu}{}_{\\betaL_{0}}\\left(\\Gamma{}^{L_{0}}{}_{\\alpha\\lambda_{1}}T{}^{\\lambda_{1}}{}_{\\rho} + \\left(-1\\right)\\Gamma{}^{\\lambda_{1}}{}_{\\alpha\\rho}T{}^{L_{0}}{}_{\\lambda_{1}} + \\partial{}_{\\alpha}T{}^{L_{0}}{}_{\\rho}\\right) + \\left(-1\\right)\\Gamma{}^{L_{0}}{}_{\\beta\\alpha}\\left(\\Gamma{}^{\\mu}{}_{L_{0}\\lambda_{1}}T{}^{\\lambda_{1}}{}_{\\rho} + \\left(-1\\right)\\Gamma{}^{\\lambda_{1}}{}_{L_{0}\\rho}T{}^{\\mu}{}_{\\lambda_{1}} + \\partial{}_{L_{0}}T{}^{\\mu}{}_{\\rho}\\right) + \\left(-1\\right)\\Gamma{}^{L_{0}}{}_{\\beta\\rho}\\left(\\Gamma{}^{\\mu}{}_{\\alpha\\lambda_{1}}T{}^{\\lambda_{1}}{}_{L_{0}} + \\left(-1\\right)\\Gamma{}^{\\lambda_{1}}{}_{\\alphaL_{0}}T{}^{\\mu}{}_{\\lambda_{1}} + \\partial{}_{\\alpha}T{}^{\\mu}{}_{L_{0}}\\right) + \\partial{}_{\\beta}\\left(\\Gamma{}^{\\mu}{}_{\\alphaL_{0}}T{}^{L_{0}}{}_{\\rho} + \\left(-1\\right)\\Gamma{}^{L_{0}}{}_{\\alpha\\rho}T{}^{\\mu}{}_{L_{0}} + \\partial{}_{\\alpha}T{}^{\\mu}{}_{\\rho}\\right)$"
      ],
      "text/plain": [
       "\\Gamma(mu, -beta, -L_0)*(\\Gamma(L_0, -alpha, -lambda_1)*T(lambda_1, -rho) + \\partial(-alpha)*T(L_0, -rho) + (-1)*\\Gamma(lambda_1, -alpha, -rho)*T(L_0, -lambda_1)) + \\partial(-beta)*(\\Gamma(mu, -alpha, -L_0)*T(L_0, -rho) + \\partial(-alpha)*T(mu, -rho) + (-1)*\\Gamma(L_0, -alpha, -rho)*T(mu, -L_0)) + (-1)*\\Gamma(L_0, -beta, -alpha)*(\\Gamma(mu, -L_0, -lambda_1)*T(lambda_1, -rho) + \\partial(-L_0)*T(mu, -rho) + (-1)*\\Gamma(lambda_1, -L_0, -rho)*T(mu, -lambda_1)) + (-1)*\\Gamma(L_0, -beta, -rho)*(\\Gamma(mu, -alpha, -lambda_1)*T(lambda_1, -L_0) + \\partial(-alpha)*T(mu, -L_0) + (-1)*\\Gamma(lambda_1, -alpha, -L_0)*T(mu, -lambda_1))"
      ]
     },
     "execution_count": 171,
     "metadata": {},
     "output_type": "execute_result"
    }
   ],
   "source": [
    "d"
   ]
  },
  {
   "cell_type": "code",
   "execution_count": null,
   "id": "b90c4608",
   "metadata": {},
   "outputs": [],
   "source": []
  },
  {
   "cell_type": "code",
   "execution_count": null,
   "id": "63ca41ad",
   "metadata": {},
   "outputs": [],
   "source": []
  },
  {
   "cell_type": "code",
   "execution_count": null,
   "id": "467d2328",
   "metadata": {},
   "outputs": [],
   "source": []
  },
  {
   "cell_type": "code",
   "execution_count": null,
   "id": "28fcbf70",
   "metadata": {},
   "outputs": [],
   "source": []
  },
  {
   "cell_type": "code",
   "execution_count": null,
   "id": "cc7b97b8",
   "metadata": {},
   "outputs": [],
   "source": []
  }
 ],
 "metadata": {
  "kernelspec": {
   "display_name": "Python 3 (ipykernel)",
   "language": "python",
   "name": "python3"
  },
  "language_info": {
   "codemirror_mode": {
    "name": "ipython",
    "version": 3
   },
   "file_extension": ".py",
   "mimetype": "text/x-python",
   "name": "python",
   "nbconvert_exporter": "python",
   "pygments_lexer": "ipython3",
   "version": "3.9.6"
  }
 },
 "nbformat": 4,
 "nbformat_minor": 5
}
