{
 "cells": [
  {
   "cell_type": "markdown",
   "id": "280854b7",
   "metadata": {},
   "source": [
    "# Homework 4"
   ]
  },
  {
   "cell_type": "markdown",
   "id": "12fd3182",
   "metadata": {
    "heading_collapsed": true
   },
   "source": [
    "## Imports"
   ]
  },
  {
   "cell_type": "code",
   "execution_count": null,
   "id": "94c2d6a3",
   "metadata": {
    "ExecuteTime": {
     "end_time": "2021-11-04T23:47:21.928394Z",
     "start_time": "2021-11-04T23:47:21.917025Z"
    },
    "hidden": true
   },
   "outputs": [],
   "source": [
    "import nbtools\n",
    "nbtools.setup_nb()"
   ]
  },
  {
   "cell_type": "code",
   "execution_count": null,
   "id": "9fb64372",
   "metadata": {
    "ExecuteTime": {
     "end_time": "2021-11-04T23:47:24.209982Z",
     "start_time": "2021-11-04T23:47:22.054185Z"
    },
    "hidden": true,
    "scrolled": false
   },
   "outputs": [],
   "source": [
    "from astropy import units\n",
    "import itertools\n",
    "\n",
    "import numpy\n",
    "from scipy import stats\n",
    "import pandas\n",
    "import plotly.express as px\n",
    "import plotly.figure_factory as ff\n",
    "import plotly.graph_objects as go\n",
    "\n",
    "import sympy\n",
    "from sympy.diffgeom import Manifold, Patch, TensorProduct as tprod\n",
    "\n",
    "from pystein import coords, metric, curvature\n",
    "from pystein.utilities import tensor_pow as tpow, full_simplify"
   ]
  },
  {
   "cell_type": "markdown",
   "id": "cebada61",
   "metadata": {
    "heading_collapsed": true
   },
   "source": [
    "## Theory"
   ]
  },
  {
   "cell_type": "markdown",
   "id": "2defb646",
   "metadata": {
    "heading_collapsed": true,
    "hidden": true
   },
   "source": [
    "### A1"
   ]
  },
  {
   "cell_type": "markdown",
   "id": "bc7f60d3",
   "metadata": {
    "hidden": true
   },
   "source": [
    "Part $(ii)$"
   ]
  },
  {
   "cell_type": "code",
   "execution_count": null,
   "id": "c3b57fd1",
   "metadata": {
    "ExecuteTime": {
     "end_time": "2021-11-02T22:04:53.440591Z",
     "start_time": "2021-11-02T22:04:52.924563Z"
    },
    "hidden": true
   },
   "outputs": [],
   "source": [
    "M = Manifold('M', dim=4)\n",
    "P = Patch('origin', M)\n",
    "\n",
    "t, r, theta, phi = sympy.symbols('t r theta phi')\n",
    "A = sympy.Function('A')(t, r)\n",
    "B = sympy.Function('B')(t, r)\n",
    "\n",
    "cs = coords.CoordSystem('Schwarzschild', P, [t, r, theta, phi])\n",
    "dt, dr, dtheta, dphi = cs.base_oneforms()\n",
    "\n",
    "ds2 = (- sympy.exp(2 * A) * tpow(dt, 2) \n",
    "       + sympy.exp(2 * B) * tpow(dr, 2) \n",
    "       + r ** 2 * (tpow(dtheta, 2) + sympy.sin(theta) ** 2 * tpow(dphi, 2)))\n",
    "\n",
    "g = metric.Metric(twoform=ds2)\n",
    "g"
   ]
  },
  {
   "cell_type": "code",
   "execution_count": null,
   "id": "81b49bcb",
   "metadata": {
    "ExecuteTime": {
     "end_time": "2021-11-02T22:04:59.248459Z",
     "start_time": "2021-11-02T22:04:53.443566Z"
    },
    "hidden": true
   },
   "outputs": [],
   "source": [
    "G_mu_nu = [(mu, nu, curvature.einstein_tensor_component(mu, nu, g)) \n",
    "           for mu, nu in itertools.product(range(2), range(2))]"
   ]
  },
  {
   "cell_type": "code",
   "execution_count": null,
   "id": "b43c86b9",
   "metadata": {
    "ExecuteTime": {
     "end_time": "2021-11-02T22:05:00.020935Z",
     "start_time": "2021-11-02T22:04:59.249705Z"
    },
    "hidden": true
   },
   "outputs": [],
   "source": [
    "full_simplify(G_mu_nu[0][2].doit())"
   ]
  },
  {
   "cell_type": "code",
   "execution_count": null,
   "id": "1a8ee7c3",
   "metadata": {
    "ExecuteTime": {
     "end_time": "2021-11-02T22:05:00.062674Z",
     "start_time": "2021-11-02T22:05:00.022279Z"
    },
    "hidden": true
   },
   "outputs": [],
   "source": [
    "full_simplify(G_mu_nu[1][2].doit())"
   ]
  },
  {
   "cell_type": "code",
   "execution_count": null,
   "id": "d2a5e2a7",
   "metadata": {
    "ExecuteTime": {
     "end_time": "2021-11-02T22:05:00.574509Z",
     "start_time": "2021-11-02T22:05:00.064216Z"
    },
    "hidden": true
   },
   "outputs": [],
   "source": [
    "full_simplify(G_mu_nu[3][2].doit())"
   ]
  },
  {
   "cell_type": "code",
   "execution_count": null,
   "id": "c627ff99",
   "metadata": {
    "ExecuteTime": {
     "end_time": "2021-11-02T22:05:00.698144Z",
     "start_time": "2021-11-02T22:05:00.576210Z"
    },
    "hidden": true
   },
   "outputs": [],
   "source": [
    "full_simplify(curvature.christoffel_symbol_component(1, 0, 0, g))"
   ]
  },
  {
   "cell_type": "markdown",
   "id": "84dc0a34",
   "metadata": {
    "heading_collapsed": true,
    "hidden": true
   },
   "source": [
    "### A2"
   ]
  },
  {
   "cell_type": "code",
   "execution_count": null,
   "id": "ba38b57a",
   "metadata": {
    "ExecuteTime": {
     "end_time": "2021-11-02T22:05:01.230201Z",
     "start_time": "2021-11-02T22:05:00.699769Z"
    },
    "hidden": true
   },
   "outputs": [],
   "source": [
    "M = Manifold('M', dim=4)\n",
    "P = Patch('origin', M)\n",
    "\n",
    "v, r, theta, phi = sympy.symbols('v r theta phi')\n",
    "alpha = sympy.Function('alpha')(v, r)\n",
    "beta = sympy.Function('beta')(v, r)\n",
    "\n",
    "cs = coords.CoordSystem('Eddington-Finkelstein', P, [v, r, theta, phi])\n",
    "dv, dr, dtheta, dphi = cs.base_oneforms()\n",
    "\n",
    "ds2 = (- alpha * tpow(dv, 2) \n",
    "       + beta * tprod(dv, dr) \n",
    "       + beta * tprod(dr, dv) \n",
    "       + r ** 2 * (tpow(dtheta, 2) + sympy.sin(theta) ** 2 * tpow(dphi, 2)))\n",
    "\n",
    "g2 = metric.Metric(twoform=ds2)\n",
    "g2"
   ]
  },
  {
   "cell_type": "code",
   "execution_count": null,
   "id": "7f3d9dcd",
   "metadata": {
    "ExecuteTime": {
     "end_time": "2021-11-02T22:05:01.239777Z",
     "start_time": "2021-11-02T22:05:01.234758Z"
    },
    "hidden": true
   },
   "outputs": [],
   "source": [
    "g2.matrix"
   ]
  },
  {
   "cell_type": "code",
   "execution_count": null,
   "id": "fbf2b616",
   "metadata": {
    "ExecuteTime": {
     "end_time": "2021-11-02T22:05:06.809664Z",
     "start_time": "2021-11-02T22:05:01.241542Z"
    },
    "hidden": true
   },
   "outputs": [],
   "source": [
    "G_mu_nu = [(mu, nu, curvature.einstein_tensor_component(mu, nu, g2)) \n",
    "           for mu, nu in itertools.product(range(2), range(2))]"
   ]
  },
  {
   "cell_type": "code",
   "execution_count": null,
   "id": "d9fc977d",
   "metadata": {
    "ExecuteTime": {
     "end_time": "2021-11-02T22:05:07.378491Z",
     "start_time": "2021-11-02T22:05:06.811216Z"
    },
    "hidden": true
   },
   "outputs": [],
   "source": [
    "full_simplify(G_mu_nu[0][2].doit())"
   ]
  },
  {
   "cell_type": "code",
   "execution_count": null,
   "id": "ea737563",
   "metadata": {
    "ExecuteTime": {
     "end_time": "2021-11-02T22:05:07.760700Z",
     "start_time": "2021-11-02T22:05:07.380175Z"
    },
    "hidden": true
   },
   "outputs": [],
   "source": [
    "full_simplify(G_mu_nu[1][2].doit())"
   ]
  },
  {
   "cell_type": "code",
   "execution_count": null,
   "id": "0d6c1642",
   "metadata": {
    "ExecuteTime": {
     "end_time": "2021-11-02T22:05:07.800940Z",
     "start_time": "2021-11-02T22:05:07.762802Z"
    },
    "hidden": true
   },
   "outputs": [],
   "source": [
    "full_simplify(G_mu_nu[3][2].doit())"
   ]
  },
  {
   "cell_type": "markdown",
   "id": "2bf501ee",
   "metadata": {
    "hidden": true
   },
   "source": [
    "The above the says that $\\beta = \\beta(v)$, which can simplify $G_{vv}$ and $G_{vr}$"
   ]
  },
  {
   "cell_type": "code",
   "execution_count": null,
   "id": "d54e0ccc",
   "metadata": {
    "ExecuteTime": {
     "end_time": "2021-11-02T22:05:08.307357Z",
     "start_time": "2021-11-02T22:05:07.803036Z"
    },
    "hidden": true
   },
   "outputs": [],
   "source": [
    "beta_simp = sympy.Function('beta')(v)\n",
    "ds2_simp = (- alpha * tpow(dv, 2) \n",
    "       + beta_simp * tprod(dv, dr) \n",
    "       + beta_simp * tprod(dr, dv) \n",
    "       + r ** 2 * (tpow(dtheta, 2) + sympy.sin(theta) ** 2 * tpow(dphi, 2)))\n",
    "\n",
    "g2_simp = metric.Metric(twoform=ds2_simp)"
   ]
  },
  {
   "cell_type": "code",
   "execution_count": null,
   "id": "b7510725",
   "metadata": {
    "ExecuteTime": {
     "end_time": "2021-11-02T22:05:13.698476Z",
     "start_time": "2021-11-02T22:05:08.308504Z"
    },
    "hidden": true
   },
   "outputs": [],
   "source": [
    "G_mu_nu_simp = [(mu, nu, curvature.einstein_tensor_component(mu, nu, g2_simp)) \n",
    "                 for mu, nu in itertools.product(range(2), range(2))]"
   ]
  },
  {
   "cell_type": "code",
   "execution_count": null,
   "id": "c74fb788",
   "metadata": {
    "ExecuteTime": {
     "end_time": "2021-11-02T22:05:14.113384Z",
     "start_time": "2021-11-02T22:05:13.699628Z"
    },
    "hidden": true
   },
   "outputs": [],
   "source": [
    "full_simplify(G_mu_nu_simp[0][2].doit())"
   ]
  },
  {
   "cell_type": "code",
   "execution_count": null,
   "id": "64eb6db5",
   "metadata": {
    "ExecuteTime": {
     "end_time": "2021-11-02T22:05:14.405533Z",
     "start_time": "2021-11-02T22:05:14.115684Z"
    },
    "hidden": true
   },
   "outputs": [],
   "source": [
    "full_simplify(G_mu_nu_simp[1][2].doit())"
   ]
  },
  {
   "cell_type": "markdown",
   "id": "45c3e08d",
   "metadata": {
    "hidden": true
   },
   "source": [
    "The above gives equation for $\\alpha$ as $G_{vr} = 0$\n",
    "$$ \\frac{1}{r^2 \\beta} \\left[ r\\partial_r \\alpha + \\alpha - \\beta^2 \\right] = 0 \\implies  r\\partial_r \\alpha + \\alpha - \\beta^2 = 0 \\implies \\alpha = \\left[1 + \\frac{f(v)}{r}\\right] \\beta^2(v)$$"
   ]
  },
  {
   "cell_type": "code",
   "execution_count": null,
   "id": "af9f717c",
   "metadata": {
    "ExecuteTime": {
     "end_time": "2021-11-02T22:05:15.015316Z",
     "start_time": "2021-11-02T22:05:14.407156Z"
    },
    "hidden": true
   },
   "outputs": [],
   "source": [
    "f = sympy.Function('f')(v)\n",
    "\n",
    "# Second simplification to metric\n",
    "alpha_simp = (1 + f / r) * beta_simp ** 2\n",
    "ds2_simp2 = (- alpha_simp * tpow(dv, 2) \n",
    "             + beta_simp * tprod(dv, dr) \n",
    "             + beta_simp * tprod(dr, dv) \n",
    "             + r ** 2 * (tpow(dtheta, 2) + sympy.sin(theta) ** 2 * tpow(dphi, 2)))\n",
    "\n",
    "g2_simp2 = metric.Metric(twoform=ds2_simp2)"
   ]
  },
  {
   "cell_type": "code",
   "execution_count": null,
   "id": "7e9687fb",
   "metadata": {
    "ExecuteTime": {
     "end_time": "2021-11-02T22:05:20.973898Z",
     "start_time": "2021-11-02T22:05:15.017025Z"
    },
    "hidden": true
   },
   "outputs": [],
   "source": [
    "G_mu_nu_simp2 = [(mu, nu, curvature.einstein_tensor_component(mu, nu, g2_simp2)) \n",
    "                  for mu, nu in itertools.product(range(2), range(2))]"
   ]
  },
  {
   "cell_type": "code",
   "execution_count": null,
   "id": "1a295aa9",
   "metadata": {
    "ExecuteTime": {
     "end_time": "2021-11-02T22:05:21.388986Z",
     "start_time": "2021-11-02T22:05:20.975185Z"
    },
    "hidden": true
   },
   "outputs": [],
   "source": [
    "full_simplify(G_mu_nu_simp2[0][2].doit())"
   ]
  },
  {
   "cell_type": "code",
   "execution_count": null,
   "id": "b025def8",
   "metadata": {
    "ExecuteTime": {
     "end_time": "2021-11-02T22:05:21.975076Z",
     "start_time": "2021-11-02T22:05:21.390584Z"
    },
    "hidden": true
   },
   "outputs": [],
   "source": [
    "Phi = sympy.Function('Phi')(r)\n",
    "ds2_temp = (- (1 + 2 * Phi) * tpow(dv, 2) \n",
    "             + tprod(dv, dr) \n",
    "             + tprod(dr, dv) \n",
    "             + r ** 2 * (tpow(dtheta, 2) + sympy.sin(theta) ** 2 * tpow(dphi, 2)))\n",
    "\n",
    "g2_temp = metric.Metric(twoform=ds2_temp)\n",
    "g2_temp"
   ]
  },
  {
   "cell_type": "code",
   "execution_count": null,
   "id": "02110f0e",
   "metadata": {
    "ExecuteTime": {
     "end_time": "2021-11-02T22:05:21.982744Z",
     "start_time": "2021-11-02T22:05:21.977412Z"
    },
    "hidden": true
   },
   "outputs": [],
   "source": [
    "g2_temp.matrix"
   ]
  },
  {
   "cell_type": "code",
   "execution_count": null,
   "id": "847d81b9",
   "metadata": {
    "ExecuteTime": {
     "end_time": "2021-11-02T22:05:22.044000Z",
     "start_time": "2021-11-02T22:05:21.984949Z"
    },
    "hidden": true
   },
   "outputs": [],
   "source": [
    "g2_temp.inverse.matrix"
   ]
  },
  {
   "cell_type": "code",
   "execution_count": null,
   "id": "7c7dd995",
   "metadata": {
    "ExecuteTime": {
     "end_time": "2021-11-02T22:05:23.508983Z",
     "start_time": "2021-11-02T22:05:22.045401Z"
    },
    "hidden": true
   },
   "outputs": [],
   "source": [
    "tmp_00 = curvature.einstein_tensor_component(0, 0, g2_temp)"
   ]
  },
  {
   "cell_type": "code",
   "execution_count": null,
   "id": "fceb53ad",
   "metadata": {
    "ExecuteTime": {
     "end_time": "2021-11-02T22:05:23.719456Z",
     "start_time": "2021-11-02T22:05:23.510333Z"
    },
    "hidden": true
   },
   "outputs": [],
   "source": [
    "full_simplify(tmp_00.doit())"
   ]
  },
  {
   "cell_type": "markdown",
   "id": "93d96085",
   "metadata": {
    "heading_collapsed": true,
    "hidden": true
   },
   "source": [
    "### A3"
   ]
  },
  {
   "cell_type": "code",
   "execution_count": null,
   "id": "cf9c3e91",
   "metadata": {
    "ExecuteTime": {
     "end_time": "2021-11-02T22:05:24.200568Z",
     "start_time": "2021-11-02T22:05:23.720927Z"
    },
    "hidden": true
   },
   "outputs": [],
   "source": [
    "M = Manifold('M', dim=4)\n",
    "P = Patch('origin', M)\n",
    "\n",
    "t, r, theta, phi = sympy.symbols('t r theta phi')\n",
    "A = sympy.Function('A')(r)\n",
    "B = sympy.Function('B')(r)\n",
    "\n",
    "cs = coords.CoordSystem('Schwarzschild', P, [t, r, theta, phi])\n",
    "dt, dr, dtheta, dphi = cs.base_oneforms()\n",
    "\n",
    "ds2 = (- sympy.exp(2 * A) * tpow(dt, 2) \n",
    "       + sympy.exp(2 * B) * tpow(dr, 2) \n",
    "       + r ** 2 * (tpow(dtheta, 2) + sympy.sin(theta) ** 2 * tpow(dphi, 2)))\n",
    "\n",
    "g = metric.Metric(twoform=ds2)\n",
    "g"
   ]
  },
  {
   "cell_type": "code",
   "execution_count": null,
   "id": "cc8ecdc4",
   "metadata": {
    "ExecuteTime": {
     "end_time": "2021-11-02T22:05:26.645161Z",
     "start_time": "2021-11-02T22:05:24.206775Z"
    },
    "hidden": true
   },
   "outputs": [],
   "source": [
    "crs = curvature.compute_components(g, riemann=False, ricci=False)"
   ]
  },
  {
   "cell_type": "code",
   "execution_count": null,
   "id": "91ada65b",
   "metadata": {
    "ExecuteTime": {
     "end_time": "2021-11-02T22:05:26.838139Z",
     "start_time": "2021-11-02T22:05:26.646587Z"
    },
    "hidden": true
   },
   "outputs": [],
   "source": [
    "curvature.display_components(crs)"
   ]
  },
  {
   "cell_type": "code",
   "execution_count": null,
   "id": "0abf3b27",
   "metadata": {
    "ExecuteTime": {
     "end_time": "2021-11-02T22:05:29.144904Z",
     "start_time": "2021-11-02T22:05:26.839642Z"
    },
    "hidden": true
   },
   "outputs": [],
   "source": [
    "full_simplify(sympy.exp(-2 * A) * curvature.einstein_tensor_component(0, 0, g).doit())"
   ]
  },
  {
   "cell_type": "code",
   "execution_count": null,
   "id": "b127bb8d",
   "metadata": {
    "ExecuteTime": {
     "end_time": "2021-11-02T22:05:30.994976Z",
     "start_time": "2021-11-02T22:05:29.146280Z"
    },
    "hidden": true
   },
   "outputs": [],
   "source": [
    "full_simplify(sympy.exp(-2 * B) * curvature.einstein_tensor_component(1, 1, g).doit())"
   ]
  },
  {
   "cell_type": "code",
   "execution_count": null,
   "id": "127b6334",
   "metadata": {
    "ExecuteTime": {
     "end_time": "2021-11-02T22:05:34.606704Z",
     "start_time": "2021-11-02T22:05:30.996258Z"
    },
    "hidden": true
   },
   "outputs": [],
   "source": [
    "full_simplify(sympy.exp(-2 * A) * curvature.einstein_tensor_component(0, 0, g).doit() +\n",
    "              sympy.exp(-2 * B) * curvature.einstein_tensor_component(1, 1, g).doit())"
   ]
  },
  {
   "cell_type": "markdown",
   "id": "18cc0fab",
   "metadata": {},
   "source": [
    "## Exercises"
   ]
  },
  {
   "cell_type": "markdown",
   "id": "3e87f87e",
   "metadata": {
    "heading_collapsed": true
   },
   "source": [
    "### B2"
   ]
  },
  {
   "cell_type": "code",
   "execution_count": null,
   "id": "af8234b3",
   "metadata": {
    "ExecuteTime": {
     "end_time": "2021-11-02T22:05:35.102528Z",
     "start_time": "2021-11-02T22:05:34.607987Z"
    },
    "hidden": true
   },
   "outputs": [],
   "source": [
    "M = Manifold('M', dim=4)\n",
    "P = Patch('origin', M)\n",
    "\n",
    "t, r, theta, phi, r_s = sympy.symbols('t r theta phi r_s')\n",
    "\n",
    "cs = coords.CoordSystem('Schwarzschild', P, [t, r, theta, phi])\n",
    "dt, dr, dtheta, dphi = cs.base_oneforms()\n",
    "\n",
    "schwarz = (1 - r_s / r)\n",
    "\n",
    "ds2 = (- schwarz * tpow(dt, 2) \n",
    "       + (schwarz ** -1)  * tpow(dr, 2) \n",
    "       + r ** 2 * (tpow(dtheta, 2) + sympy.sin(theta) ** 2 * tpow(dphi, 2)))\n",
    "\n",
    "g = metric.Metric(twoform=ds2)\n",
    "g"
   ]
  },
  {
   "cell_type": "code",
   "execution_count": null,
   "id": "eccd9fa2",
   "metadata": {
    "ExecuteTime": {
     "end_time": "2021-11-02T22:05:36.573187Z",
     "start_time": "2021-11-02T22:05:35.104469Z"
    },
    "hidden": true
   },
   "outputs": [],
   "source": [
    "full_simplify(curvature.ricci_scalar(g, simplify_intermediate=False).doit())"
   ]
  },
  {
   "cell_type": "code",
   "execution_count": null,
   "id": "5d3feb61",
   "metadata": {
    "ExecuteTime": {
     "end_time": "2021-11-02T22:05:38.688051Z",
     "start_time": "2021-11-02T22:05:36.574975Z"
    },
    "hidden": true
   },
   "outputs": [],
   "source": [
    "crs = curvature.compute_components(g, riemann=False, ricci=False)"
   ]
  },
  {
   "cell_type": "code",
   "execution_count": null,
   "id": "47c59d2f",
   "metadata": {
    "ExecuteTime": {
     "end_time": "2021-11-02T22:05:38.692336Z",
     "start_time": "2021-11-02T22:05:38.689388Z"
    },
    "hidden": true
   },
   "outputs": [],
   "source": [
    "1e8 / (365.25 * 24 * 60 * 60)"
   ]
  },
  {
   "cell_type": "code",
   "execution_count": null,
   "id": "8f38d0c9",
   "metadata": {
    "ExecuteTime": {
     "end_time": "2021-11-02T22:05:38.892917Z",
     "start_time": "2021-11-02T22:05:38.693788Z"
    },
    "hidden": true
   },
   "outputs": [],
   "source": [
    "curvature.display_components(crs)"
   ]
  },
  {
   "cell_type": "code",
   "execution_count": null,
   "id": "73e5ab66",
   "metadata": {
    "ExecuteTime": {
     "end_time": "2021-11-02T22:05:38.897388Z",
     "start_time": "2021-11-02T22:05:38.894675Z"
    },
    "hidden": true
   },
   "outputs": [],
   "source": [
    "def a_norm(r, r_s):\n",
    "    return 0.5 * (r_s / (r ** 2) ) * (1 / numpy.sqrt(1 - (r_s / r)) )"
   ]
  },
  {
   "cell_type": "code",
   "execution_count": null,
   "id": "10244b0a",
   "metadata": {
    "ExecuteTime": {
     "end_time": "2021-11-02T22:05:39.691546Z",
     "start_time": "2021-11-02T22:05:38.898946Z"
    },
    "hidden": true
   },
   "outputs": [],
   "source": [
    "rs = numpy.arange(1 + 0.0001, 2 + 0.001, 0.0001)\n",
    "df = pandas.DataFrame({'radius': rs, 'a_norm': a_norm(rs, 1)})\n",
    "fig = px.line(df, x='radius', y='a_norm')\n",
    "fig.update_layout(yaxis_range=[0,5],\n",
    "                  xaxis_range=[0.8,2],\n",
    "                  width=700,\n",
    "                  height=500,\n",
    "                  showlegend=False,\n",
    "                  title_text=r'$\\text{Stationary Observer Acceleration in Schwarzschild }(t, r)$', \n",
    "                  title_x=0.5,\n",
    "                  xaxis_title=r'$r / r_s$',\n",
    "                  yaxis_title=r'$r_s a \\equiv r_s \\sqrt{g_{\\mu\\nu}a^\\mu a^\\nu}$')\n",
    "fig.show()"
   ]
  },
  {
   "cell_type": "code",
   "execution_count": null,
   "id": "c6e7f934",
   "metadata": {
    "ExecuteTime": {
     "end_time": "2021-11-02T22:05:39.704186Z",
     "start_time": "2021-11-02T22:05:39.693142Z"
    },
    "hidden": true
   },
   "outputs": [],
   "source": [
    "ep = sympy.symbols('varepsilon')\n",
    "a_ep = sympy.Rational(1, 2) * r_s / ( (r_s + ep) ** 2 ) * sympy.sqrt((r_s + ep) / ep)\n",
    "a_ep"
   ]
  },
  {
   "cell_type": "code",
   "execution_count": null,
   "id": "fbe836af",
   "metadata": {
    "ExecuteTime": {
     "end_time": "2021-11-02T22:05:39.750986Z",
     "start_time": "2021-11-02T22:05:39.706068Z"
    },
    "hidden": true
   },
   "outputs": [],
   "source": [
    "sympy.series(a_ep, x=ep, n=0)"
   ]
  },
  {
   "cell_type": "markdown",
   "id": "19351bf5",
   "metadata": {
    "heading_collapsed": true
   },
   "source": [
    "### B3"
   ]
  },
  {
   "cell_type": "code",
   "execution_count": null,
   "id": "9741c2e1",
   "metadata": {
    "ExecuteTime": {
     "end_time": "2021-11-02T22:05:39.758250Z",
     "start_time": "2021-11-02T22:05:39.752420Z"
    },
    "hidden": true
   },
   "outputs": [],
   "source": [
    "r_s, r = sympy.symbols('r_s r', real=True, nonnegative=True)\n",
    "dt_dr = 1 / (1 - r_s / r)\n",
    "dt_dr"
   ]
  },
  {
   "cell_type": "markdown",
   "id": "72093c36",
   "metadata": {
    "hidden": true
   },
   "source": [
    "Ingoing"
   ]
  },
  {
   "cell_type": "code",
   "execution_count": null,
   "id": "7d27fb69",
   "metadata": {
    "ExecuteTime": {
     "end_time": "2021-11-02T22:05:39.814477Z",
     "start_time": "2021-11-02T22:05:39.759812Z"
    },
    "hidden": true
   },
   "outputs": [],
   "source": [
    "sympy.integrate(dt_dr, r)"
   ]
  },
  {
   "cell_type": "code",
   "execution_count": null,
   "id": "ddf746f2",
   "metadata": {
    "ExecuteTime": {
     "end_time": "2021-11-02T22:05:39.858353Z",
     "start_time": "2021-11-02T22:05:39.819728Z"
    },
    "hidden": true
   },
   "outputs": [],
   "source": [
    "sympy.integrate(-dt_dr, r)"
   ]
  },
  {
   "cell_type": "code",
   "execution_count": null,
   "id": "3c5e4918",
   "metadata": {
    "ExecuteTime": {
     "end_time": "2021-11-02T22:05:39.862250Z",
     "start_time": "2021-11-02T22:05:39.859656Z"
    },
    "hidden": true
   },
   "outputs": [],
   "source": [
    "def ring(r, r_s, c):\n",
    "    return -r - r_s * numpy.log(numpy.abs(r - r_s)) + c\n",
    "\n",
    "def rong(r, r_s, c):\n",
    "    return r + r_s * numpy.log(numpy.abs(r - r_s)) + c"
   ]
  },
  {
   "cell_type": "code",
   "execution_count": null,
   "id": "fb3bf487",
   "metadata": {
    "ExecuteTime": {
     "end_time": "2021-11-02T22:05:39.875786Z",
     "start_time": "2021-11-02T22:05:39.863940Z"
    },
    "hidden": true
   },
   "outputs": [],
   "source": [
    "_r_s = 1.0\n",
    "_ep = 1e-3\n",
    "_r = numpy.arange(0*_r_s + _ep, 5 * _r_s + _ep, _ep)\n",
    "\n",
    "_c = numpy.arange(-1.0, 1.0, 1.0)\n",
    "\n",
    "dfs = []\n",
    "for c in _c:\n",
    "    df_i = pandas.DataFrame({'r': _r, 't': ring(_r, _r_s, c)}).assign(c=c, kind='In')\n",
    "    df_o = pandas.DataFrame({'r': _r, 't': rong(_r, _r_s, c)}).assign(c=c, kind='Out')\n",
    "    dfs.extend([df_i, df_o])\n",
    "df = pandas.concat(dfs, axis=0)"
   ]
  },
  {
   "cell_type": "code",
   "execution_count": null,
   "id": "a64772d5",
   "metadata": {
    "ExecuteTime": {
     "end_time": "2021-11-02T22:05:40.117881Z",
     "start_time": "2021-11-02T22:05:39.877189Z"
    },
    "hidden": true
   },
   "outputs": [],
   "source": [
    "fig = px.line(df, x='r', y='t', color='c', line_dash='kind')\n",
    "fig.update_layout(yaxis_range=[-5,5],\n",
    "                  xaxis_range=[0,5],\n",
    "                  width=800,\n",
    "                  height=600,\n",
    "                  showlegend=False,\n",
    "                  title_text=r'$\\text{Null Radial Geodesics in Schwarzschild }(t, r)$', \n",
    "                  title_x=0.5,\n",
    "                  xaxis_title=r'$r / r_s$',\n",
    "                  yaxis_title=r'$t(r)$')\n",
    "fig.show()"
   ]
  },
  {
   "cell_type": "markdown",
   "id": "f366a168",
   "metadata": {
    "heading_collapsed": true
   },
   "source": [
    "### B4"
   ]
  },
  {
   "cell_type": "code",
   "execution_count": null,
   "id": "74611837",
   "metadata": {
    "ExecuteTime": {
     "end_time": "2021-11-02T22:05:40.121697Z",
     "start_time": "2021-11-02T22:05:40.119279Z"
    },
    "hidden": true
   },
   "outputs": [],
   "source": [
    "def z(r_e, r_r, r_s = 1.0):\n",
    "    return numpy.sqrt(1 - (r_s / r_r)) / numpy.sqrt(1 - (r_s / r_e)) - 1"
   ]
  },
  {
   "cell_type": "code",
   "execution_count": null,
   "id": "74c99a38",
   "metadata": {
    "ExecuteTime": {
     "end_time": "2021-11-02T22:05:40.129539Z",
     "start_time": "2021-11-02T22:05:40.122951Z"
    },
    "hidden": true
   },
   "outputs": [],
   "source": [
    "z(1.01, 10)"
   ]
  },
  {
   "cell_type": "code",
   "execution_count": null,
   "id": "88620455",
   "metadata": {
    "ExecuteTime": {
     "end_time": "2021-11-02T22:05:40.134288Z",
     "start_time": "2021-11-02T22:05:40.130795Z"
    },
    "hidden": true
   },
   "outputs": [],
   "source": [
    "r_e , r_r = numpy.meshgrid(numpy.arange(1.0, 1.01, 0.0001),\n",
    "                           numpy.arange(1.0, 2.0, 0.01))\n",
    "zs = z(r_e, r_r)"
   ]
  },
  {
   "cell_type": "code",
   "execution_count": null,
   "id": "36ae9f68",
   "metadata": {
    "ExecuteTime": {
     "end_time": "2021-11-02T22:05:40.331855Z",
     "start_time": "2021-11-02T22:05:40.135696Z"
    },
    "hidden": true
   },
   "outputs": [],
   "source": [
    "df = pandas.DataFrame({'r_e': r_e.ravel(), 'r_r': r_r.ravel(), 'z':zs.ravel()})\n",
    "df = df[df['r_r'] >= df['r_e']]\n",
    "fig = px.scatter(df, x='r_e', y='r_r', color='z')\n",
    "fig_ep = 0.25\n",
    "fig.update_layout(\n",
    "#     yaxis_range=[1.0 - fig_ep, 5.0 + fig_ep],\n",
    "#                   xaxis_range=[1.0 - fig_ep, 5.0 + fig_ep],\n",
    "                  width=600,\n",
    "                  height=600,\n",
    "#                   showlegend=False,\n",
    "                  title_text=r'$\\text{Gravitational Redshift in Schwarzschild }(t, r)$', \n",
    "                  title_x=0.5,\n",
    "                  xaxis_title=r'$r_E$',\n",
    "                  yaxis_title=r'$r_R$')\n",
    "fig.show()"
   ]
  },
  {
   "cell_type": "markdown",
   "id": "9f9a317e",
   "metadata": {},
   "source": [
    "### B5"
   ]
  },
  {
   "cell_type": "code",
   "execution_count": null,
   "id": "90d16e66",
   "metadata": {
    "ExecuteTime": {
     "end_time": "2021-11-03T01:19:03.731148Z",
     "start_time": "2021-11-03T01:19:03.726222Z"
    }
   },
   "outputs": [],
   "source": [
    "r, r_s, r_o, R = sympy.symbols('r r_s r_o R')\n",
    "r_dot = sympy.sqrt(r_s / r - r_s / r_o)\n",
    "r_dot"
   ]
  },
  {
   "cell_type": "code",
   "execution_count": null,
   "id": "cb2ffa6c",
   "metadata": {
    "ExecuteTime": {
     "end_time": "2021-11-03T01:35:30.624615Z",
     "start_time": "2021-11-03T01:35:28.987477Z"
    }
   },
   "outputs": [],
   "source": [
    "sympy.integrate(-1/r_dot, (r, r_o, R))"
   ]
  },
  {
   "cell_type": "markdown",
   "id": "047bd842",
   "metadata": {},
   "source": [
    "Solved for t(r) by integrating... ugly : $a=r_s$, $b=r_o$, $x=r$"
   ]
  },
  {
   "cell_type": "markdown",
   "id": "96f2556d",
   "metadata": {},
   "source": [
    "$$t(r) = \\frac{1}{\\sqrt{x} \\sqrt{b-a}} \\sqrt{\\frac{x}{b-x}}\\left(2 a^{3 / 2} \\sqrt{b-x} \\tanh ^{-1}\\left(\\frac{\\sqrt{a} \\sqrt{b-x}}{\\sqrt{x} \\sqrt{b-a}}\\right)-\\right. \n",
    "\\left.\\sqrt{b-a}\\left(\\sqrt{b}(2 a+b) \\sqrt{1-\\frac{x}{b}} \\sin ^{-1}\\left(\\frac{\\sqrt{x}}{\\sqrt{b}}\\right)+\\sqrt{x}(x-b)\\right)\\right)$$"
   ]
  },
  {
   "cell_type": "code",
   "execution_count": null,
   "id": "41f48a44",
   "metadata": {
    "ExecuteTime": {
     "end_time": "2021-11-05T03:37:10.742385Z",
     "start_time": "2021-11-05T03:37:10.737207Z"
    }
   },
   "outputs": [],
   "source": [
    "# Previous Attempt\n",
    "# \n",
    "# def t(r, r_s, r_o):\n",
    "#     coeff = numpy.sqrt(numpy.abs(r_o - r_s) / r_s)\n",
    "    \n",
    "#     f1 = 1.0 / numpy.sqrt(r * numpy.abs(r_s - r_o))\n",
    "#     f2 = numpy.sqrt(r / numpy.abs(r - r_o))\n",
    "#     f3 = numpy.sqrt(numpy.abs(r_s - r_o))\n",
    "    \n",
    "#     g1 = numpy.sqrt(r_o) * (2 * r_s + r_o) * numpy.sqrt(1.0 - r / r_o) * numpy.arcsin(numpy.sqrt(r / r_o))\n",
    "#     g2 = numpy.sqrt(r) * (r - r_o)\n",
    "    \n",
    "#     h1 = 2 * (r_s) ** (3.0/2) * numpy.sqrt(numpy.abs(r - r_o))\n",
    "#     h2 = numpy.arctanh(numpy.sqrt(r_s * numpy.abs(r - r_o)) / numpy.sqrt(r * numpy.abs(r_s - r_o)))\n",
    "    \n",
    "#     return coeff * f1 * f2 * (h1 * h2 - f3 * (g1 + g2))"
   ]
  },
  {
   "cell_type": "code",
   "execution_count": null,
   "id": "946cb915",
   "metadata": {},
   "outputs": [],
   "source": []
  },
  {
   "cell_type": "code",
   "execution_count": null,
   "id": "82f6a746",
   "metadata": {},
   "outputs": [],
   "source": [
    "def t(r, r_s, r_o):\n",
    "    c = numpy.sqrt(r * (r_o - r_s) / r_s)\n",
    "    \n",
    "    f1 = \n",
    "\n",
    "    \n",
    "    return "
   ]
  },
  {
   "cell_type": "code",
   "execution_count": null,
   "id": "eb413e8e",
   "metadata": {
    "ExecuteTime": {
     "end_time": "2021-11-05T03:37:11.683910Z",
     "start_time": "2021-11-05T03:37:11.681134Z"
    }
   },
   "outputs": [],
   "source": [
    "_rs = numpy.arange(0.01, 3, 0.01)\n",
    "_ts = t(_rs, 1.0, 30.0)"
   ]
  },
  {
   "cell_type": "code",
   "execution_count": null,
   "id": "5c268538",
   "metadata": {
    "ExecuteTime": {
     "end_time": "2021-11-05T03:37:15.433326Z",
     "start_time": "2021-11-05T03:37:14.487782Z"
    }
   },
   "outputs": [],
   "source": [
    "df = pandas.DataFrame({'Time': _ts, 'Radius': _rs})\n",
    "fig = px.line(df, x='Radius', y='Time')\n",
    "fig_ep = 0.25\n",
    "fig.update_layout(\n",
    "#                   yaxis_range=[1.0 - fig_ep, 5.0 + fig_ep],\n",
    "#                   xaxis_range=[1.0 - fig_ep, 5.0 + fig_ep],\n",
    "                  width=800,\n",
    "                  height=400,\n",
    "#                   showlegend=False,\n",
    "#                   title_text=r'$\\text{Gravitational Redshift in Schwarzschild }(t, r)$', \n",
    "#                   title_x=0.5,\n",
    "#                   xaxis_title=r'$r_E$',\n",
    "#                   yaxis_title=r'$r_R$',\n",
    ")\n",
    "fig.show()"
   ]
  },
  {
   "cell_type": "markdown",
   "id": "5260d3ec",
   "metadata": {
    "heading_collapsed": true
   },
   "source": [
    "### B6"
   ]
  },
  {
   "cell_type": "code",
   "execution_count": null,
   "id": "446da6ea",
   "metadata": {
    "ExecuteTime": {
     "end_time": "2021-11-04T02:31:58.499054Z",
     "start_time": "2021-11-04T02:31:58.495924Z"
    },
    "hidden": true
   },
   "outputs": [],
   "source": [
    "def v_out(r, r_o, r_s = 1):\n",
    "    return 2 * (r - r_o) + r_s * numpy.log(numpy.abs((r - r_s) / (r_o - r_s)))"
   ]
  },
  {
   "cell_type": "code",
   "execution_count": null,
   "id": "041df6bb",
   "metadata": {
    "ExecuteTime": {
     "end_time": "2021-11-04T02:31:59.808252Z",
     "start_time": "2021-11-04T02:31:59.752846Z"
    },
    "hidden": true
   },
   "outputs": [],
   "source": [
    "# Hack method\n",
    "# _ros = numpy.arange(0.0, 3.0, 0.1)\n",
    "# narrow_ep = 0.01\n",
    "# _ros = numpy.concatenate((_ros, numpy.arange(1.0 - narrow_ep, 1.0 + narrow_ep, narrow_ep / 2)))\n",
    "\n",
    "# Wrinkly method\n",
    "# _quants = numpy.arange(0.34, .977, 0.03)\n",
    "_quants = numpy.arange(0.25, .97, 0.03)\n",
    "_ros = stats.norm.ppf(_quants, 1, .5)\n",
    "\n",
    "\n",
    "df = []\n",
    "for _ro in _ros:\n",
    "    _rs = numpy.arange(0.01, 2.0, 0.0001)\n",
    "    _vo = v_out(_rs, r_o=_ro)\n",
    "    \n",
    "    if _ro > 1:\n",
    "        _vo = numpy.where(_rs < _ro, numpy.full(_rs.shape, numpy.nan), _vo)\n",
    "    if _ro < 1:\n",
    "        _vo = numpy.where(_rs > _ro, numpy.full(_rs.shape, numpy.nan), _vo)\n",
    "    \n",
    "    df.append(pandas.DataFrame({'v': _vo, 'r': _rs}).assign(r_o=_ro))\n",
    "df = pandas.concat(df, axis=0)"
   ]
  },
  {
   "cell_type": "code",
   "execution_count": null,
   "id": "8c71ff1c",
   "metadata": {
    "ExecuteTime": {
     "end_time": "2021-11-04T02:35:25.144716Z",
     "start_time": "2021-11-04T02:35:24.026601Z"
    },
    "hidden": true
   },
   "outputs": [],
   "source": [
    "fig = px.scatter(df, x='r', y='v', color='r_o', color_continuous_scale=px.colors.sequential.Agsunset)\n",
    "\n",
    "# fig.update_layout(\n",
    "#               yaxis_range=[0.0, 2.0],\n",
    "#               xaxis_range=[0.0, 2.0],\n",
    "#                   width=700,\n",
    "#                   height=700,\n",
    "# #                   showlegend=False,\n",
    "#                   title_text=r'$\\text{Outgoing Null Geodesics in Schwarzschild }(v, r)$', \n",
    "#                   title_x=0.5,\n",
    "#                   xaxis_title=r'$r / r_s$',\n",
    "#                   yaxis_title=r'$v$')\n",
    "# fig.show()"
   ]
  },
  {
   "cell_type": "code",
   "execution_count": null,
   "id": "b8349bfe",
   "metadata": {
    "ExecuteTime": {
     "end_time": "2021-11-04T02:35:26.731767Z",
     "start_time": "2021-11-04T02:35:26.728768Z"
    },
    "hidden": true
   },
   "outputs": [],
   "source": [
    "# fig.write_image('/Users/jim/repos/tex/homework/courses/PHYS510 - GR I/hw4/figures/fig-b6.pdf')"
   ]
  },
  {
   "cell_type": "markdown",
   "id": "4091fac6",
   "metadata": {
    "heading_collapsed": true
   },
   "source": [
    "### B7"
   ]
  },
  {
   "cell_type": "code",
   "execution_count": null,
   "id": "0f891a7b",
   "metadata": {
    "hidden": true
   },
   "outputs": [],
   "source": []
  },
  {
   "cell_type": "code",
   "execution_count": null,
   "id": "84aac31a",
   "metadata": {
    "hidden": true
   },
   "outputs": [],
   "source": []
  },
  {
   "cell_type": "markdown",
   "id": "423361fe",
   "metadata": {
    "heading_collapsed": true
   },
   "source": [
    "### B8"
   ]
  },
  {
   "cell_type": "code",
   "execution_count": null,
   "id": "ad14a601",
   "metadata": {
    "hidden": true
   },
   "outputs": [],
   "source": []
  },
  {
   "cell_type": "code",
   "execution_count": null,
   "id": "8bb99cae",
   "metadata": {
    "hidden": true
   },
   "outputs": [],
   "source": []
  },
  {
   "cell_type": "code",
   "execution_count": null,
   "id": "99d7827d",
   "metadata": {
    "hidden": true
   },
   "outputs": [],
   "source": []
  },
  {
   "cell_type": "markdown",
   "id": "b030549e",
   "metadata": {},
   "source": [
    "## Problem"
   ]
  },
  {
   "cell_type": "code",
   "execution_count": null,
   "id": "f6dc38e8",
   "metadata": {},
   "outputs": [],
   "source": []
  }
 ],
 "metadata": {
  "kernelspec": {
   "display_name": "Python 3 (ipykernel)",
   "language": "python",
   "name": "python3"
  },
  "language_info": {
   "codemirror_mode": {
    "name": "ipython",
    "version": 3
   },
   "file_extension": ".py",
   "mimetype": "text/x-python",
   "name": "python",
   "nbconvert_exporter": "python",
   "pygments_lexer": "ipython3",
   "version": "3.9.7"
  }
 },
 "nbformat": 4,
 "nbformat_minor": 5
}
