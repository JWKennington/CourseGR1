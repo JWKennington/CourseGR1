{
 "cells": [
  {
   "cell_type": "markdown",
   "id": "280854b7",
   "metadata": {},
   "source": [
    "# Homework 3"
   ]
  },
  {
   "cell_type": "markdown",
   "id": "12fd3182",
   "metadata": {},
   "source": [
    "## Imports"
   ]
  },
  {
   "cell_type": "code",
   "execution_count": 1,
   "id": "94c2d6a3",
   "metadata": {
    "ExecuteTime": {
     "end_time": "2021-10-18T22:10:02.036682Z",
     "start_time": "2021-10-18T22:10:02.027537Z"
    }
   },
   "outputs": [],
   "source": [
    "import nbtools\n",
    "nbtools.setup_nb()"
   ]
  },
  {
   "cell_type": "code",
   "execution_count": 42,
   "id": "9fb64372",
   "metadata": {
    "ExecuteTime": {
     "end_time": "2021-10-18T22:40:46.483870Z",
     "start_time": "2021-10-18T22:40:46.481140Z"
    },
    "scrolled": false
   },
   "outputs": [],
   "source": [
    "from astropy import units\n",
    "import itertools\n",
    "import sympy\n",
    "from sympy.diffgeom import Manifold, Patch\n",
    "\n",
    "from pystein import coords, metric, curvature\n",
    "from pystein.utilities import tensor_pow as tpow"
   ]
  },
  {
   "cell_type": "markdown",
   "id": "18cc0fab",
   "metadata": {
    "heading_collapsed": true
   },
   "source": [
    "## Exercises"
   ]
  },
  {
   "cell_type": "markdown",
   "id": "3e87f87e",
   "metadata": {
    "heading_collapsed": true,
    "hidden": true
   },
   "source": [
    "### B7"
   ]
  },
  {
   "cell_type": "code",
   "execution_count": 3,
   "id": "636a5f59",
   "metadata": {
    "ExecuteTime": {
     "end_time": "2021-10-18T22:10:04.998506Z",
     "start_time": "2021-10-18T22:10:04.131695Z"
    },
    "hidden": true,
    "scrolled": false
   },
   "outputs": [
    {
     "data": {
      "text/latex": [
       "$\\displaystyle \\left(1 - 2 \\phi{\\left(x,y,z \\right)}\\right) \\left(\\operatorname{d}x \\otimes \\operatorname{d}x + \\operatorname{d}y \\otimes \\operatorname{d}y + \\operatorname{d}z \\otimes \\operatorname{d}z\\right) + \\left(- 2 \\phi{\\left(x,y,z \\right)} - 1\\right) \\operatorname{d}t \\otimes \\operatorname{d}t$"
      ],
      "text/plain": [
       "(1 - 2*phi(x, y, z))*(TensorProduct(dx, dx) + TensorProduct(dy, dy) + TensorProduct(dz, dz)) + (-2*phi(x, y, z) - 1)*TensorProduct(dt, dt)"
      ]
     },
     "execution_count": 3,
     "metadata": {},
     "output_type": "execute_result"
    }
   ],
   "source": [
    "M = Manifold('M', dim=4)\n",
    "P = Patch('origin', M)\n",
    "\n",
    "t, x, y, z = sympy.symbols('t, x y z')\n",
    "phi = sympy.Function('phi')(x, y, z)\n",
    "cs = coords.CoordSystem('cartesian', P, [t, x, y, z])\n",
    "\n",
    "dt, dx, dy, dz = cs.base_oneforms()\n",
    "ds2 = -(1 + 2 * phi) * tpow(dt, 2) + (1 - 2 * phi) * (tpow(dx, 2) + tpow(dy, 2) + tpow(dz, 2))\n",
    "g = metric.Metric(twoform=ds2)\n",
    "g"
   ]
  },
  {
   "cell_type": "code",
   "execution_count": 4,
   "id": "866a7789",
   "metadata": {
    "ExecuteTime": {
     "end_time": "2021-10-18T22:10:05.005911Z",
     "start_time": "2021-10-18T22:10:04.999820Z"
    },
    "hidden": true
   },
   "outputs": [
    {
     "data": {
      "text/latex": [
       "$\\displaystyle \\left[\\begin{matrix}- 2 \\phi{\\left(x,y,z \\right)} - 1 & 0 & 0 & 0\\\\0 & 1 - 2 \\phi{\\left(x,y,z \\right)} & 0 & 0\\\\0 & 0 & 1 - 2 \\phi{\\left(x,y,z \\right)} & 0\\\\0 & 0 & 0 & 1 - 2 \\phi{\\left(x,y,z \\right)}\\end{matrix}\\right]$"
      ],
      "text/plain": [
       "Matrix([\n",
       "[-2*phi(x, y, z) - 1,                  0,                  0,                  0],\n",
       "[                  0, 1 - 2*phi(x, y, z),                  0,                  0],\n",
       "[                  0,                  0, 1 - 2*phi(x, y, z),                  0],\n",
       "[                  0,                  0,                  0, 1 - 2*phi(x, y, z)]])"
      ]
     },
     "execution_count": 4,
     "metadata": {},
     "output_type": "execute_result"
    }
   ],
   "source": [
    "g.matrix"
   ]
  },
  {
   "cell_type": "code",
   "execution_count": 5,
   "id": "09f84785",
   "metadata": {
    "ExecuteTime": {
     "end_time": "2021-10-18T22:10:05.742993Z",
     "start_time": "2021-10-18T22:10:05.007731Z"
    },
    "hidden": true
   },
   "outputs": [
    {
     "data": {
      "text/latex": [
       "$\\displaystyle \\left[\\begin{matrix}\\frac{1}{- 2 \\phi{\\left(x,y,z \\right)} - 1} & 0 & 0 & 0\\\\0 & \\frac{1}{1 - 2 \\phi{\\left(x,y,z \\right)}} & 0 & 0\\\\0 & 0 & \\frac{1}{1 - 2 \\phi{\\left(x,y,z \\right)}} & 0\\\\0 & 0 & 0 & \\frac{1}{1 - 2 \\phi{\\left(x,y,z \\right)}}\\end{matrix}\\right]$"
      ],
      "text/plain": [
       "Matrix([\n",
       "[1/(-2*phi(x, y, z) - 1),                      0,                      0,                      0],\n",
       "[                      0, 1/(1 - 2*phi(x, y, z)),                      0,                      0],\n",
       "[                      0,                      0, 1/(1 - 2*phi(x, y, z)),                      0],\n",
       "[                      0,                      0,                      0, 1/(1 - 2*phi(x, y, z))]])"
      ]
     },
     "execution_count": 5,
     "metadata": {},
     "output_type": "execute_result"
    }
   ],
   "source": [
    "g.inverse.matrix"
   ]
  },
  {
   "cell_type": "code",
   "execution_count": 6,
   "id": "0f5bf85b",
   "metadata": {
    "ExecuteTime": {
     "end_time": "2021-10-18T22:10:05.747085Z",
     "start_time": "2021-10-18T22:10:05.744910Z"
    },
    "hidden": true
   },
   "outputs": [],
   "source": [
    "_phi = sympy.symbols('phi')\n",
    "_subs = [\n",
    "    (phi, _phi)\n",
    "]"
   ]
  },
  {
   "cell_type": "code",
   "execution_count": 7,
   "id": "6f2df79d",
   "metadata": {
    "ExecuteTime": {
     "end_time": "2021-10-18T22:10:06.385224Z",
     "start_time": "2021-10-18T22:10:06.359787Z"
    },
    "hidden": true
   },
   "outputs": [
    {
     "data": {
      "text/latex": [
       "$\\displaystyle - \\frac{\\frac{d}{d x} \\phi}{2 \\phi - 1}$"
      ],
      "text/plain": [
       "-Derivative(phi, x)/(2*phi - 1)"
      ]
     },
     "execution_count": 7,
     "metadata": {},
     "output_type": "execute_result"
    }
   ],
   "source": [
    "sympy.simplify(curvature.christoffel_symbol_component(1, 0, 0, g).doit()).subs(_subs)"
   ]
  },
  {
   "cell_type": "code",
   "execution_count": 8,
   "id": "94ceba93",
   "metadata": {
    "ExecuteTime": {
     "end_time": "2021-10-18T22:10:07.903757Z",
     "start_time": "2021-10-18T22:10:06.503723Z"
    },
    "hidden": true
   },
   "outputs": [
    {
     "data": {
      "text/latex": [
       "$\\displaystyle \\frac{2 \\left(- 8 \\phi^{3} \\frac{d^{2}}{d yd x} \\phi + 12 \\phi^{2} \\frac{d}{d x} \\phi \\frac{d}{d y} \\phi + 4 \\phi \\frac{d}{d x} \\phi \\frac{d}{d y} \\phi + 2 \\phi \\frac{d^{2}}{d yd x} \\phi + \\frac{d}{d x} \\phi \\frac{d}{d y} \\phi\\right)}{16 \\phi^{4} - 8 \\phi^{2} + 1}$"
      ],
      "text/plain": [
       "2*(-8*phi**3*Derivative(phi, x, y) + 12*phi**2*Derivative(phi, x)*Derivative(phi, y) + 4*phi*Derivative(phi, x)*Derivative(phi, y) + 2*phi*Derivative(phi, x, y) + Derivative(phi, x)*Derivative(phi, y))/(16*phi**4 - 8*phi**2 + 1)"
      ]
     },
     "execution_count": 8,
     "metadata": {},
     "output_type": "execute_result"
    }
   ],
   "source": [
    "sympy.simplify(curvature.einstein_tensor_component(1, 2, g).doit()).subs(_subs)"
   ]
  },
  {
   "cell_type": "code",
   "execution_count": 9,
   "id": "492af638",
   "metadata": {
    "ExecuteTime": {
     "end_time": "2021-10-18T22:10:08.565516Z",
     "start_time": "2021-10-18T22:10:07.905552Z"
    },
    "hidden": true
   },
   "outputs": [
    {
     "data": {
      "text/latex": [
       "$\\displaystyle \\frac{- \\left(2 \\phi - 1\\right)^{2} \\left(2 \\phi + 1\\right) \\left(\\frac{d^{2}}{d x^{2}} \\phi + \\frac{d^{2}}{d y^{2}} \\phi + \\frac{d^{2}}{d z^{2}} \\phi\\right) + \\left(2 \\phi - 1\\right)^{2} \\left(\\left(\\frac{d}{d x} \\phi\\right)^{2} + \\left(\\frac{d}{d y} \\phi\\right)^{2} + \\left(\\frac{d}{d z} \\phi\\right)^{2}\\right) - 5 \\left(2 \\phi - 1\\right) \\left(2 \\phi + 1\\right)^{2} \\left(\\frac{d^{2}}{d x^{2}} \\phi + \\frac{d^{2}}{d y^{2}} \\phi + \\frac{d^{2}}{d z^{2}} \\phi\\right) + 5 \\left(2 \\phi + 1\\right)^{2} \\left(\\left(\\frac{d}{d x} \\phi\\right)^{2} + \\left(\\frac{d}{d y} \\phi\\right)^{2} + \\left(\\frac{d}{d z} \\phi\\right)^{2}\\right)}{\\left(2 \\phi - 1\\right)^{2} \\left(2 \\phi + 1\\right)^{2}}$"
      ],
      "text/plain": [
       "(-(2*phi - 1)**2*(2*phi + 1)*(Derivative(phi, (x, 2)) + Derivative(phi, (y, 2)) + Derivative(phi, (z, 2))) + (2*phi - 1)**2*(Derivative(phi, x)**2 + Derivative(phi, y)**2 + Derivative(phi, z)**2) - 5*(2*phi - 1)*(2*phi + 1)**2*(Derivative(phi, (x, 2)) + Derivative(phi, (y, 2)) + Derivative(phi, (z, 2))) + 5*(2*phi + 1)**2*(Derivative(phi, x)**2 + Derivative(phi, y)**2 + Derivative(phi, z)**2))/((2*phi - 1)**2*(2*phi + 1)**2)"
      ]
     },
     "execution_count": 9,
     "metadata": {},
     "output_type": "execute_result"
    }
   ],
   "source": [
    "sympy.simplify(sum([curvature.ricci_tensor_component(mu, mu, g).doit() for mu in range(4)])).subs(_subs)"
   ]
  },
  {
   "cell_type": "code",
   "execution_count": 10,
   "id": "79eb72d4",
   "metadata": {
    "ExecuteTime": {
     "end_time": "2021-10-18T22:10:11.360896Z",
     "start_time": "2021-10-18T22:10:08.567609Z"
    },
    "hidden": true
   },
   "outputs": [],
   "source": [
    "riccis = [((mu, nu), sympy.simplify(curvature.ricci_tensor_component(mu, nu, g).doit())) \n",
    "          for mu, nu in itertools.product(range(4), range(4))]"
   ]
  },
  {
   "cell_type": "code",
   "execution_count": 11,
   "id": "1fb95816",
   "metadata": {
    "ExecuteTime": {
     "end_time": "2021-10-18T22:10:13.042196Z",
     "start_time": "2021-10-18T22:10:11.363578Z"
    },
    "hidden": true
   },
   "outputs": [
    {
     "data": {
      "text/latex": [
       "$\\displaystyle \\frac{2 \\left(24 \\phi^{3} \\frac{d^{2}}{d x^{2}} \\phi + 24 \\phi^{3} \\frac{d^{2}}{d y^{2}} \\phi + 24 \\phi^{3} \\frac{d^{2}}{d z^{2}} \\phi - 12 \\phi^{2} \\left(\\frac{d}{d x} \\phi\\right)^{2} + 4 \\phi^{2} \\frac{d^{2}}{d x^{2}} \\phi - 12 \\phi^{2} \\left(\\frac{d}{d y} \\phi\\right)^{2} + 4 \\phi^{2} \\frac{d^{2}}{d y^{2}} \\phi - 12 \\phi^{2} \\left(\\frac{d}{d z} \\phi\\right)^{2} + 4 \\phi^{2} \\frac{d^{2}}{d z^{2}} \\phi - 8 \\phi \\left(\\frac{d}{d x} \\phi\\right)^{2} - 6 \\phi \\frac{d^{2}}{d x^{2}} \\phi - 8 \\phi \\left(\\frac{d}{d y} \\phi\\right)^{2} - 6 \\phi \\frac{d^{2}}{d y^{2}} \\phi - 8 \\phi \\left(\\frac{d}{d z} \\phi\\right)^{2} - 6 \\phi \\frac{d^{2}}{d z^{2}} \\phi - 5 \\left(\\frac{d}{d x} \\phi\\right)^{2} - \\frac{d^{2}}{d x^{2}} \\phi - 5 \\left(\\frac{d}{d y} \\phi\\right)^{2} - \\frac{d^{2}}{d y^{2}} \\phi - 5 \\left(\\frac{d}{d z} \\phi\\right)^{2} - \\frac{d^{2}}{d z^{2}} \\phi\\right)}{32 \\phi^{5} - 16 \\phi^{4} - 16 \\phi^{3} + 8 \\phi^{2} + 2 \\phi - 1}$"
      ],
      "text/plain": [
       "2*(24*phi**3*Derivative(phi, (x, 2)) + 24*phi**3*Derivative(phi, (y, 2)) + 24*phi**3*Derivative(phi, (z, 2)) - 12*phi**2*Derivative(phi, x)**2 + 4*phi**2*Derivative(phi, (x, 2)) - 12*phi**2*Derivative(phi, y)**2 + 4*phi**2*Derivative(phi, (y, 2)) - 12*phi**2*Derivative(phi, z)**2 + 4*phi**2*Derivative(phi, (z, 2)) - 8*phi*Derivative(phi, x)**2 - 6*phi*Derivative(phi, (x, 2)) - 8*phi*Derivative(phi, y)**2 - 6*phi*Derivative(phi, (y, 2)) - 8*phi*Derivative(phi, z)**2 - 6*phi*Derivative(phi, (z, 2)) - 5*Derivative(phi, x)**2 - Derivative(phi, (x, 2)) - 5*Derivative(phi, y)**2 - Derivative(phi, (y, 2)) - 5*Derivative(phi, z)**2 - Derivative(phi, (z, 2)))/(32*phi**5 - 16*phi**4 - 16*phi**3 + 8*phi**2 + 2*phi - 1)"
      ]
     },
     "execution_count": 11,
     "metadata": {},
     "output_type": "execute_result"
    }
   ],
   "source": [
    "sympy.simplify(curvature.ricci_scalar(g).doit()).subs(_subs)"
   ]
  },
  {
   "cell_type": "code",
   "execution_count": 12,
   "id": "e10768aa",
   "metadata": {
    "ExecuteTime": {
     "end_time": "2021-10-18T22:10:14.879856Z",
     "start_time": "2021-10-18T22:10:13.043627Z"
    },
    "hidden": true
   },
   "outputs": [
    {
     "data": {
      "text/latex": [
       "$\\displaystyle \\frac{8 \\phi^{2} \\frac{d^{2}}{d x^{2}} \\phi + 8 \\phi^{2} \\frac{d^{2}}{d y^{2}} \\phi + 8 \\phi^{2} \\frac{d^{2}}{d z^{2}} \\phi - 6 \\phi \\left(\\frac{d}{d x} \\phi\\right)^{2} - 6 \\phi \\left(\\frac{d}{d y} \\phi\\right)^{2} - 6 \\phi \\left(\\frac{d}{d z} \\phi\\right)^{2} - 3 \\left(\\frac{d}{d x} \\phi\\right)^{2} - 2 \\frac{d^{2}}{d x^{2}} \\phi - 3 \\left(\\frac{d}{d y} \\phi\\right)^{2} - 2 \\frac{d^{2}}{d y^{2}} \\phi - 3 \\left(\\frac{d}{d z} \\phi\\right)^{2} - 2 \\frac{d^{2}}{d z^{2}} \\phi}{8 \\phi^{3} - 12 \\phi^{2} + 6 \\phi - 1}$"
      ],
      "text/plain": [
       "(8*phi**2*Derivative(phi, (x, 2)) + 8*phi**2*Derivative(phi, (y, 2)) + 8*phi**2*Derivative(phi, (z, 2)) - 6*phi*Derivative(phi, x)**2 - 6*phi*Derivative(phi, y)**2 - 6*phi*Derivative(phi, z)**2 - 3*Derivative(phi, x)**2 - 2*Derivative(phi, (x, 2)) - 3*Derivative(phi, y)**2 - 2*Derivative(phi, (y, 2)) - 3*Derivative(phi, z)**2 - 2*Derivative(phi, (z, 2)))/(8*phi**3 - 12*phi**2 + 6*phi - 1)"
      ]
     },
     "execution_count": 12,
     "metadata": {},
     "output_type": "execute_result"
    }
   ],
   "source": [
    "sympy.simplify(curvature.einstein_tensor_component(0, 0, g).doit()).subs(_subs)"
   ]
  },
  {
   "cell_type": "code",
   "execution_count": null,
   "id": "07a355cc",
   "metadata": {
    "hidden": true
   },
   "outputs": [],
   "source": []
  },
  {
   "cell_type": "code",
   "execution_count": 13,
   "id": "836932de",
   "metadata": {
    "ExecuteTime": {
     "end_time": "2021-10-18T22:10:15.137373Z",
     "start_time": "2021-10-18T22:10:14.881340Z"
    },
    "hidden": true
   },
   "outputs": [
    {
     "data": {
      "text/latex": [
       "$\\displaystyle \\frac{4 \\phi^{2} \\frac{d^{2}}{d x^{2}} \\phi + 4 \\phi^{2} \\frac{d^{2}}{d y^{2}} \\phi + 4 \\phi^{2} \\frac{d^{2}}{d z^{2}} \\phi + 2 \\left(\\frac{d}{d x} \\phi\\right)^{2} - \\frac{d^{2}}{d x^{2}} \\phi + 2 \\left(\\frac{d}{d y} \\phi\\right)^{2} - \\frac{d^{2}}{d y^{2}} \\phi + 2 \\left(\\frac{d}{d z} \\phi\\right)^{2} - \\frac{d^{2}}{d z^{2}} \\phi}{16 \\phi^{4} - 8 \\phi^{2} + 1}$"
      ],
      "text/plain": [
       "(4*phi**2*Derivative(phi, (x, 2)) + 4*phi**2*Derivative(phi, (y, 2)) + 4*phi**2*Derivative(phi, (z, 2)) + 2*Derivative(phi, x)**2 - Derivative(phi, (x, 2)) + 2*Derivative(phi, y)**2 - Derivative(phi, (y, 2)) + 2*Derivative(phi, z)**2 - Derivative(phi, (z, 2)))/(16*phi**4 - 8*phi**2 + 1)"
      ]
     },
     "execution_count": 13,
     "metadata": {},
     "output_type": "execute_result"
    }
   ],
   "source": [
    "sympy.simplify(g.inverse.matrix[0,0] * curvature.ricci_tensor_component(0, 0, g).doit()).subs(_subs)"
   ]
  },
  {
   "cell_type": "code",
   "execution_count": 14,
   "id": "22e14ed5",
   "metadata": {
    "ExecuteTime": {
     "end_time": "2021-10-18T22:10:15.232725Z",
     "start_time": "2021-10-18T22:10:15.138694Z"
    },
    "hidden": true
   },
   "outputs": [
    {
     "data": {
      "text/latex": [
       "$\\displaystyle \\frac{\\frac{\\partial^{2}}{\\partial x^{2}} \\phi{\\left(x,y,z \\right)}}{1 - 2 \\phi{\\left(x,y,z \\right)}} + \\frac{\\frac{\\partial^{2}}{\\partial y^{2}} \\phi{\\left(x,y,z \\right)}}{1 - 2 \\phi{\\left(x,y,z \\right)}} + \\frac{\\frac{\\partial^{2}}{\\partial z^{2}} \\phi{\\left(x,y,z \\right)}}{1 - 2 \\phi{\\left(x,y,z \\right)}} + \\frac{\\left(\\frac{\\partial}{\\partial x} \\phi{\\left(x,y,z \\right)}\\right)^{2}}{\\left(1 - 2 \\phi{\\left(x,y,z \\right)}\\right) \\left(- 2 \\phi{\\left(x,y,z \\right)} - 1\\right)} + \\frac{\\left(\\frac{\\partial}{\\partial y} \\phi{\\left(x,y,z \\right)}\\right)^{2}}{\\left(1 - 2 \\phi{\\left(x,y,z \\right)}\\right) \\left(- 2 \\phi{\\left(x,y,z \\right)} - 1\\right)} + \\frac{\\left(\\frac{\\partial}{\\partial z} \\phi{\\left(x,y,z \\right)}\\right)^{2}}{\\left(1 - 2 \\phi{\\left(x,y,z \\right)}\\right) \\left(- 2 \\phi{\\left(x,y,z \\right)} - 1\\right)} - \\frac{\\left(\\frac{\\partial}{\\partial x} \\phi{\\left(x,y,z \\right)}\\right)^{2}}{\\left(1 - 2 \\phi{\\left(x,y,z \\right)}\\right)^{2}} - \\frac{\\left(\\frac{\\partial}{\\partial y} \\phi{\\left(x,y,z \\right)}\\right)^{2}}{\\left(1 - 2 \\phi{\\left(x,y,z \\right)}\\right)^{2}} - \\frac{\\left(\\frac{\\partial}{\\partial z} \\phi{\\left(x,y,z \\right)}\\right)^{2}}{\\left(1 - 2 \\phi{\\left(x,y,z \\right)}\\right)^{2}}$"
      ],
      "text/plain": [
       "Derivative(phi(x, y, z), (x, 2))/(1 - 2*phi(x, y, z)) + Derivative(phi(x, y, z), (y, 2))/(1 - 2*phi(x, y, z)) + Derivative(phi(x, y, z), (z, 2))/(1 - 2*phi(x, y, z)) + Derivative(phi(x, y, z), x)**2/((1 - 2*phi(x, y, z))*(-2*phi(x, y, z) - 1)) + Derivative(phi(x, y, z), y)**2/((1 - 2*phi(x, y, z))*(-2*phi(x, y, z) - 1)) + Derivative(phi(x, y, z), z)**2/((1 - 2*phi(x, y, z))*(-2*phi(x, y, z) - 1)) - Derivative(phi(x, y, z), x)**2/(1 - 2*phi(x, y, z))**2 - Derivative(phi(x, y, z), y)**2/(1 - 2*phi(x, y, z))**2 - Derivative(phi(x, y, z), z)**2/(1 - 2*phi(x, y, z))**2"
      ]
     },
     "execution_count": 14,
     "metadata": {},
     "output_type": "execute_result"
    }
   ],
   "source": [
    "curvature.ricci_tensor_component(0, 0, g).doit()"
   ]
  },
  {
   "cell_type": "code",
   "execution_count": 15,
   "id": "51b30498",
   "metadata": {
    "ExecuteTime": {
     "end_time": "2021-10-18T22:10:17.162592Z",
     "start_time": "2021-10-18T22:10:15.234147Z"
    },
    "hidden": true
   },
   "outputs": [
    {
     "data": {
      "text/latex": [
       "$\\begin{split} (\\mu=0, \\nu=0) &: \\frac{- 4 \\phi^{2}{\\left(x,y,z \\right)} \\frac{\\partial^{2}}{\\partial x^{2}} \\phi{\\left(x,y,z \\right)} - 4 \\phi^{2}{\\left(x,y,z \\right)} \\frac{\\partial^{2}}{\\partial y^{2}} \\phi{\\left(x,y,z \\right)} - 4 \\phi^{2}{\\left(x,y,z \\right)} \\frac{\\partial^{2}}{\\partial z^{2}} \\phi{\\left(x,y,z \\right)} - 2 \\left(\\frac{\\partial}{\\partial x} \\phi{\\left(x,y,z \\right)}\\right)^{2} + \\frac{\\partial^{2}}{\\partial x^{2}} \\phi{\\left(x,y,z \\right)} - 2 \\left(\\frac{\\partial}{\\partial y} \\phi{\\left(x,y,z \\right)}\\right)^{2} + \\frac{\\partial^{2}}{\\partial y^{2}} \\phi{\\left(x,y,z \\right)} - 2 \\left(\\frac{\\partial}{\\partial z} \\phi{\\left(x,y,z \\right)}\\right)^{2} + \\frac{\\partial^{2}}{\\partial z^{2}} \\phi{\\left(x,y,z \\right)}}{8 \\phi^{3}{\\left(x,y,z \\right)} - 4 \\phi^{2}{\\left(x,y,z \\right)} - 2 \\phi{\\left(x,y,z \\right)} + 1} \\\\ (\\mu=0, \\nu=1) &: 0 \\\\ (\\mu=0, \\nu=2) &: 0 \\\\ (\\mu=0, \\nu=3) &: 0 \\\\ (\\mu=1, \\nu=0) &: 0 \\\\ (\\mu=1, \\nu=1) &: \\frac{- 24 \\phi^{3}{\\left(x,y,z \\right)} \\frac{\\partial^{2}}{\\partial x^{2}} \\phi{\\left(x,y,z \\right)} - 8 \\phi^{3}{\\left(x,y,z \\right)} \\frac{\\partial^{2}}{\\partial y^{2}} \\phi{\\left(x,y,z \\right)} - 8 \\phi^{3}{\\left(x,y,z \\right)} \\frac{\\partial^{2}}{\\partial z^{2}} \\phi{\\left(x,y,z \\right)} + 24 \\phi^{2}{\\left(x,y,z \\right)} \\left(\\frac{\\partial}{\\partial x} \\phi{\\left(x,y,z \\right)}\\right)^{2} - 4 \\phi^{2}{\\left(x,y,z \\right)} \\frac{\\partial^{2}}{\\partial x^{2}} \\phi{\\left(x,y,z \\right)} - 4 \\phi^{2}{\\left(x,y,z \\right)} \\frac{\\partial^{2}}{\\partial y^{2}} \\phi{\\left(x,y,z \\right)} - 4 \\phi^{2}{\\left(x,y,z \\right)} \\frac{\\partial^{2}}{\\partial z^{2}} \\phi{\\left(x,y,z \\right)} + 12 \\phi{\\left(x,y,z \\right)} \\left(\\frac{\\partial}{\\partial x} \\phi{\\left(x,y,z \\right)}\\right)^{2} + 6 \\phi{\\left(x,y,z \\right)} \\frac{\\partial^{2}}{\\partial x^{2}} \\phi{\\left(x,y,z \\right)} + 4 \\phi{\\left(x,y,z \\right)} \\left(\\frac{\\partial}{\\partial y} \\phi{\\left(x,y,z \\right)}\\right)^{2} + 2 \\phi{\\left(x,y,z \\right)} \\frac{\\partial^{2}}{\\partial y^{2}} \\phi{\\left(x,y,z \\right)} + 4 \\phi{\\left(x,y,z \\right)} \\left(\\frac{\\partial}{\\partial z} \\phi{\\left(x,y,z \\right)}\\right)^{2} + 2 \\phi{\\left(x,y,z \\right)} \\frac{\\partial^{2}}{\\partial z^{2}} \\phi{\\left(x,y,z \\right)} + 4 \\left(\\frac{\\partial}{\\partial x} \\phi{\\left(x,y,z \\right)}\\right)^{2} + \\frac{\\partial^{2}}{\\partial x^{2}} \\phi{\\left(x,y,z \\right)} + 2 \\left(\\frac{\\partial}{\\partial y} \\phi{\\left(x,y,z \\right)}\\right)^{2} + \\frac{\\partial^{2}}{\\partial y^{2}} \\phi{\\left(x,y,z \\right)} + 2 \\left(\\frac{\\partial}{\\partial z} \\phi{\\left(x,y,z \\right)}\\right)^{2} + \\frac{\\partial^{2}}{\\partial z^{2}} \\phi{\\left(x,y,z \\right)}}{16 \\phi^{4}{\\left(x,y,z \\right)} - 8 \\phi^{2}{\\left(x,y,z \\right)} + 1} \\\\ (\\mu=1, \\nu=2) &: \\frac{2 \\left(- 8 \\phi^{3}{\\left(x,y,z \\right)} \\frac{\\partial^{2}}{\\partial y\\partial x} \\phi{\\left(x,y,z \\right)} + 12 \\phi^{2}{\\left(x,y,z \\right)} \\frac{\\partial}{\\partial x} \\phi{\\left(x,y,z \\right)} \\frac{\\partial}{\\partial y} \\phi{\\left(x,y,z \\right)} + 4 \\phi{\\left(x,y,z \\right)} \\frac{\\partial}{\\partial x} \\phi{\\left(x,y,z \\right)} \\frac{\\partial}{\\partial y} \\phi{\\left(x,y,z \\right)} + 2 \\phi{\\left(x,y,z \\right)} \\frac{\\partial^{2}}{\\partial y\\partial x} \\phi{\\left(x,y,z \\right)} + \\frac{\\partial}{\\partial x} \\phi{\\left(x,y,z \\right)} \\frac{\\partial}{\\partial y} \\phi{\\left(x,y,z \\right)}\\right)}{16 \\phi^{4}{\\left(x,y,z \\right)} - 8 \\phi^{2}{\\left(x,y,z \\right)} + 1} \\\\ (\\mu=1, \\nu=3) &: \\frac{2 \\left(- 8 \\phi^{3}{\\left(x,y,z \\right)} \\frac{\\partial^{2}}{\\partial z\\partial x} \\phi{\\left(x,y,z \\right)} + 12 \\phi^{2}{\\left(x,y,z \\right)} \\frac{\\partial}{\\partial x} \\phi{\\left(x,y,z \\right)} \\frac{\\partial}{\\partial z} \\phi{\\left(x,y,z \\right)} + 4 \\phi{\\left(x,y,z \\right)} \\frac{\\partial}{\\partial x} \\phi{\\left(x,y,z \\right)} \\frac{\\partial}{\\partial z} \\phi{\\left(x,y,z \\right)} + 2 \\phi{\\left(x,y,z \\right)} \\frac{\\partial^{2}}{\\partial z\\partial x} \\phi{\\left(x,y,z \\right)} + \\frac{\\partial}{\\partial x} \\phi{\\left(x,y,z \\right)} \\frac{\\partial}{\\partial z} \\phi{\\left(x,y,z \\right)}\\right)}{16 \\phi^{4}{\\left(x,y,z \\right)} - 8 \\phi^{2}{\\left(x,y,z \\right)} + 1} \\\\ (\\mu=2, \\nu=0) &: 0 \\\\ (\\mu=2, \\nu=1) &: \\frac{2 \\left(- 8 \\phi^{3}{\\left(x,y,z \\right)} \\frac{\\partial^{2}}{\\partial y\\partial x} \\phi{\\left(x,y,z \\right)} + 12 \\phi^{2}{\\left(x,y,z \\right)} \\frac{\\partial}{\\partial x} \\phi{\\left(x,y,z \\right)} \\frac{\\partial}{\\partial y} \\phi{\\left(x,y,z \\right)} + 4 \\phi{\\left(x,y,z \\right)} \\frac{\\partial}{\\partial x} \\phi{\\left(x,y,z \\right)} \\frac{\\partial}{\\partial y} \\phi{\\left(x,y,z \\right)} + 2 \\phi{\\left(x,y,z \\right)} \\frac{\\partial^{2}}{\\partial y\\partial x} \\phi{\\left(x,y,z \\right)} + \\frac{\\partial}{\\partial x} \\phi{\\left(x,y,z \\right)} \\frac{\\partial}{\\partial y} \\phi{\\left(x,y,z \\right)}\\right)}{16 \\phi^{4}{\\left(x,y,z \\right)} - 8 \\phi^{2}{\\left(x,y,z \\right)} + 1} \\\\ (\\mu=2, \\nu=2) &: \\frac{- 8 \\phi^{3}{\\left(x,y,z \\right)} \\frac{\\partial^{2}}{\\partial x^{2}} \\phi{\\left(x,y,z \\right)} - 24 \\phi^{3}{\\left(x,y,z \\right)} \\frac{\\partial^{2}}{\\partial y^{2}} \\phi{\\left(x,y,z \\right)} - 8 \\phi^{3}{\\left(x,y,z \\right)} \\frac{\\partial^{2}}{\\partial z^{2}} \\phi{\\left(x,y,z \\right)} - 4 \\phi^{2}{\\left(x,y,z \\right)} \\frac{\\partial^{2}}{\\partial x^{2}} \\phi{\\left(x,y,z \\right)} + 24 \\phi^{2}{\\left(x,y,z \\right)} \\left(\\frac{\\partial}{\\partial y} \\phi{\\left(x,y,z \\right)}\\right)^{2} - 4 \\phi^{2}{\\left(x,y,z \\right)} \\frac{\\partial^{2}}{\\partial y^{2}} \\phi{\\left(x,y,z \\right)} - 4 \\phi^{2}{\\left(x,y,z \\right)} \\frac{\\partial^{2}}{\\partial z^{2}} \\phi{\\left(x,y,z \\right)} + 4 \\phi{\\left(x,y,z \\right)} \\left(\\frac{\\partial}{\\partial x} \\phi{\\left(x,y,z \\right)}\\right)^{2} + 2 \\phi{\\left(x,y,z \\right)} \\frac{\\partial^{2}}{\\partial x^{2}} \\phi{\\left(x,y,z \\right)} + 12 \\phi{\\left(x,y,z \\right)} \\left(\\frac{\\partial}{\\partial y} \\phi{\\left(x,y,z \\right)}\\right)^{2} + 6 \\phi{\\left(x,y,z \\right)} \\frac{\\partial^{2}}{\\partial y^{2}} \\phi{\\left(x,y,z \\right)} + 4 \\phi{\\left(x,y,z \\right)} \\left(\\frac{\\partial}{\\partial z} \\phi{\\left(x,y,z \\right)}\\right)^{2} + 2 \\phi{\\left(x,y,z \\right)} \\frac{\\partial^{2}}{\\partial z^{2}} \\phi{\\left(x,y,z \\right)} + 2 \\left(\\frac{\\partial}{\\partial x} \\phi{\\left(x,y,z \\right)}\\right)^{2} + \\frac{\\partial^{2}}{\\partial x^{2}} \\phi{\\left(x,y,z \\right)} + 4 \\left(\\frac{\\partial}{\\partial y} \\phi{\\left(x,y,z \\right)}\\right)^{2} + \\frac{\\partial^{2}}{\\partial y^{2}} \\phi{\\left(x,y,z \\right)} + 2 \\left(\\frac{\\partial}{\\partial z} \\phi{\\left(x,y,z \\right)}\\right)^{2} + \\frac{\\partial^{2}}{\\partial z^{2}} \\phi{\\left(x,y,z \\right)}}{16 \\phi^{4}{\\left(x,y,z \\right)} - 8 \\phi^{2}{\\left(x,y,z \\right)} + 1} \\\\ (\\mu=2, \\nu=3) &: \\frac{2 \\left(- 8 \\phi^{3}{\\left(x,y,z \\right)} \\frac{\\partial^{2}}{\\partial z\\partial y} \\phi{\\left(x,y,z \\right)} + 12 \\phi^{2}{\\left(x,y,z \\right)} \\frac{\\partial}{\\partial y} \\phi{\\left(x,y,z \\right)} \\frac{\\partial}{\\partial z} \\phi{\\left(x,y,z \\right)} + 4 \\phi{\\left(x,y,z \\right)} \\frac{\\partial}{\\partial y} \\phi{\\left(x,y,z \\right)} \\frac{\\partial}{\\partial z} \\phi{\\left(x,y,z \\right)} + 2 \\phi{\\left(x,y,z \\right)} \\frac{\\partial^{2}}{\\partial z\\partial y} \\phi{\\left(x,y,z \\right)} + \\frac{\\partial}{\\partial y} \\phi{\\left(x,y,z \\right)} \\frac{\\partial}{\\partial z} \\phi{\\left(x,y,z \\right)}\\right)}{16 \\phi^{4}{\\left(x,y,z \\right)} - 8 \\phi^{2}{\\left(x,y,z \\right)} + 1} \\\\ (\\mu=3, \\nu=0) &: 0 \\\\ (\\mu=3, \\nu=1) &: \\frac{2 \\left(- 8 \\phi^{3}{\\left(x,y,z \\right)} \\frac{\\partial^{2}}{\\partial z\\partial x} \\phi{\\left(x,y,z \\right)} + 12 \\phi^{2}{\\left(x,y,z \\right)} \\frac{\\partial}{\\partial x} \\phi{\\left(x,y,z \\right)} \\frac{\\partial}{\\partial z} \\phi{\\left(x,y,z \\right)} + 4 \\phi{\\left(x,y,z \\right)} \\frac{\\partial}{\\partial x} \\phi{\\left(x,y,z \\right)} \\frac{\\partial}{\\partial z} \\phi{\\left(x,y,z \\right)} + 2 \\phi{\\left(x,y,z \\right)} \\frac{\\partial^{2}}{\\partial z\\partial x} \\phi{\\left(x,y,z \\right)} + \\frac{\\partial}{\\partial x} \\phi{\\left(x,y,z \\right)} \\frac{\\partial}{\\partial z} \\phi{\\left(x,y,z \\right)}\\right)}{16 \\phi^{4}{\\left(x,y,z \\right)} - 8 \\phi^{2}{\\left(x,y,z \\right)} + 1} \\\\ (\\mu=3, \\nu=2) &: \\frac{2 \\left(- 8 \\phi^{3}{\\left(x,y,z \\right)} \\frac{\\partial^{2}}{\\partial z\\partial y} \\phi{\\left(x,y,z \\right)} + 12 \\phi^{2}{\\left(x,y,z \\right)} \\frac{\\partial}{\\partial y} \\phi{\\left(x,y,z \\right)} \\frac{\\partial}{\\partial z} \\phi{\\left(x,y,z \\right)} + 4 \\phi{\\left(x,y,z \\right)} \\frac{\\partial}{\\partial y} \\phi{\\left(x,y,z \\right)} \\frac{\\partial}{\\partial z} \\phi{\\left(x,y,z \\right)} + 2 \\phi{\\left(x,y,z \\right)} \\frac{\\partial^{2}}{\\partial z\\partial y} \\phi{\\left(x,y,z \\right)} + \\frac{\\partial}{\\partial y} \\phi{\\left(x,y,z \\right)} \\frac{\\partial}{\\partial z} \\phi{\\left(x,y,z \\right)}\\right)}{16 \\phi^{4}{\\left(x,y,z \\right)} - 8 \\phi^{2}{\\left(x,y,z \\right)} + 1} \\\\ (\\mu=3, \\nu=3) &: \\frac{- 8 \\phi^{3}{\\left(x,y,z \\right)} \\frac{\\partial^{2}}{\\partial x^{2}} \\phi{\\left(x,y,z \\right)} - 8 \\phi^{3}{\\left(x,y,z \\right)} \\frac{\\partial^{2}}{\\partial y^{2}} \\phi{\\left(x,y,z \\right)} - 24 \\phi^{3}{\\left(x,y,z \\right)} \\frac{\\partial^{2}}{\\partial z^{2}} \\phi{\\left(x,y,z \\right)} - 4 \\phi^{2}{\\left(x,y,z \\right)} \\frac{\\partial^{2}}{\\partial x^{2}} \\phi{\\left(x,y,z \\right)} - 4 \\phi^{2}{\\left(x,y,z \\right)} \\frac{\\partial^{2}}{\\partial y^{2}} \\phi{\\left(x,y,z \\right)} + 24 \\phi^{2}{\\left(x,y,z \\right)} \\left(\\frac{\\partial}{\\partial z} \\phi{\\left(x,y,z \\right)}\\right)^{2} - 4 \\phi^{2}{\\left(x,y,z \\right)} \\frac{\\partial^{2}}{\\partial z^{2}} \\phi{\\left(x,y,z \\right)} + 4 \\phi{\\left(x,y,z \\right)} \\left(\\frac{\\partial}{\\partial x} \\phi{\\left(x,y,z \\right)}\\right)^{2} + 2 \\phi{\\left(x,y,z \\right)} \\frac{\\partial^{2}}{\\partial x^{2}} \\phi{\\left(x,y,z \\right)} + 4 \\phi{\\left(x,y,z \\right)} \\left(\\frac{\\partial}{\\partial y} \\phi{\\left(x,y,z \\right)}\\right)^{2} + 2 \\phi{\\left(x,y,z \\right)} \\frac{\\partial^{2}}{\\partial y^{2}} \\phi{\\left(x,y,z \\right)} + 12 \\phi{\\left(x,y,z \\right)} \\left(\\frac{\\partial}{\\partial z} \\phi{\\left(x,y,z \\right)}\\right)^{2} + 6 \\phi{\\left(x,y,z \\right)} \\frac{\\partial^{2}}{\\partial z^{2}} \\phi{\\left(x,y,z \\right)} + 2 \\left(\\frac{\\partial}{\\partial x} \\phi{\\left(x,y,z \\right)}\\right)^{2} + \\frac{\\partial^{2}}{\\partial x^{2}} \\phi{\\left(x,y,z \\right)} + 2 \\left(\\frac{\\partial}{\\partial y} \\phi{\\left(x,y,z \\right)}\\right)^{2} + \\frac{\\partial^{2}}{\\partial y^{2}} \\phi{\\left(x,y,z \\right)} + 4 \\left(\\frac{\\partial}{\\partial z} \\phi{\\left(x,y,z \\right)}\\right)^{2} + \\frac{\\partial^{2}}{\\partial z^{2}} \\phi{\\left(x,y,z \\right)}}{16 \\phi^{4}{\\left(x,y,z \\right)} - 8 \\phi^{2}{\\left(x,y,z \\right)} + 1} \\end{split}$"
      ]
     },
     "metadata": {},
     "output_type": "display_data"
    }
   ],
   "source": [
    "curvature.display_components(riccis)"
   ]
  },
  {
   "cell_type": "code",
   "execution_count": null,
   "id": "9e316fd6",
   "metadata": {
    "hidden": true
   },
   "outputs": [],
   "source": []
  },
  {
   "cell_type": "markdown",
   "id": "b030549e",
   "metadata": {},
   "source": [
    "## Problem"
   ]
  },
  {
   "cell_type": "markdown",
   "id": "0cfaffa9",
   "metadata": {},
   "source": [
    "### C4"
   ]
  },
  {
   "cell_type": "code",
   "execution_count": 17,
   "id": "08d33eee",
   "metadata": {
    "ExecuteTime": {
     "end_time": "2021-10-18T22:11:15.314417Z",
     "start_time": "2021-10-18T22:11:15.312100Z"
    }
   },
   "outputs": [],
   "source": [
    "x, y, z = sympy.symbols('x y z')\n",
    "G, M, c = sympy.symbols('G M c')"
   ]
  },
  {
   "cell_type": "code",
   "execution_count": 18,
   "id": "35f97f37",
   "metadata": {
    "ExecuteTime": {
     "end_time": "2021-10-18T22:11:53.070197Z",
     "start_time": "2021-10-18T22:11:53.056158Z"
    }
   },
   "outputs": [
    {
     "data": {
      "text/latex": [
       "$\\displaystyle - \\frac{G M}{c^{2} \\sqrt{x^{2} + y^{2} + z^{2}}}$"
      ],
      "text/plain": [
       "-G*M/(c**2*sqrt(x**2 + y**2 + z**2))"
      ]
     },
     "execution_count": 18,
     "metadata": {},
     "output_type": "execute_result"
    }
   ],
   "source": [
    "r = sympy.sqrt(x**2 + y**2 + z**2)\n",
    "phi = - G * M / (c**2 * r)\n",
    "phi"
   ]
  },
  {
   "cell_type": "code",
   "execution_count": 20,
   "id": "baddd96c",
   "metadata": {
    "ExecuteTime": {
     "end_time": "2021-10-18T22:12:06.562018Z",
     "start_time": "2021-10-18T22:12:06.552207Z"
    }
   },
   "outputs": [
    {
     "data": {
      "text/latex": [
       "$\\displaystyle \\frac{G M x}{c^{2} \\left(x^{2} + y^{2} + z^{2}\\right)^{\\frac{3}{2}}}$"
      ],
      "text/plain": [
       "G*M*x/(c**2*(x**2 + y**2 + z**2)**(3/2))"
      ]
     },
     "execution_count": 20,
     "metadata": {},
     "output_type": "execute_result"
    }
   ],
   "source": [
    "sympy.Derivative(phi, x).doit()"
   ]
  },
  {
   "cell_type": "code",
   "execution_count": 22,
   "id": "5afd3a71",
   "metadata": {
    "ExecuteTime": {
     "end_time": "2021-10-18T22:13:20.409537Z",
     "start_time": "2021-10-18T22:13:20.344601Z"
    }
   },
   "outputs": [
    {
     "data": {
      "text/latex": [
       "$\\displaystyle \\frac{- x^{2} + y^{2} + z^{2}}{\\left(x^{2} + y^{2} + z^{2}\\right)^{2}}$"
      ],
      "text/plain": [
       "(-x**2 + y**2 + z**2)/(x**2 + y**2 + z**2)**2"
      ]
     },
     "execution_count": 22,
     "metadata": {},
     "output_type": "execute_result"
    }
   ],
   "source": [
    "sympy.simplify(sympy.Derivative(x / (r ** 2), x).doit())"
   ]
  },
  {
   "cell_type": "code",
   "execution_count": 25,
   "id": "be256002",
   "metadata": {
    "ExecuteTime": {
     "end_time": "2021-10-18T22:18:00.587509Z",
     "start_time": "2021-10-18T22:18:00.552676Z"
    }
   },
   "outputs": [
    {
     "data": {
      "text/latex": [
       "$\\displaystyle \\frac{2 x^{2} - y^{2} - z^{2}}{\\left(x^{2} + y^{2} + z^{2}\\right)^{2}}$"
      ],
      "text/plain": [
       "(2*x**2 - y**2 - z**2)/(x**2 + y**2 + z**2)**2"
      ]
     },
     "execution_count": 25,
     "metadata": {},
     "output_type": "execute_result"
    }
   ],
   "source": [
    "sympy.simplify(sympy.Derivative(sympy.Derivative(phi, x), x).doit() / phi)"
   ]
  },
  {
   "cell_type": "code",
   "execution_count": 37,
   "id": "4071612d",
   "metadata": {
    "ExecuteTime": {
     "end_time": "2021-10-18T22:36:41.076286Z",
     "start_time": "2021-10-18T22:36:40.958727Z"
    }
   },
   "outputs": [
    {
     "data": {
      "text/latex": [
       "$\\displaystyle - \\frac{2 x}{\\left(x^{2} + y^{2} + z^{2}\\right)^{2}}$"
      ],
      "text/plain": [
       "-2*x/(x**2 + y**2 + z**2)**2"
      ]
     },
     "execution_count": 37,
     "metadata": {},
     "output_type": "execute_result"
    }
   ],
   "source": [
    "dx = sympy.Derivative(phi, x).doit()\n",
    "dy = sympy.Derivative(phi, y).doit()\n",
    "dz = sympy.Derivative(phi, z).doit()\n",
    "\n",
    "dxx = sympy.simplify(sympy.Derivative(dx, x).doit())\n",
    "dxy = sympy.simplify(sympy.Derivative(dy, x).doit())\n",
    "dxz = sympy.simplify(sympy.Derivative(dz, x).doit())\n",
    "\n",
    "A_x = sympy.simplify((dxx * dx + dxy * dy + dxz * dz) / (phi ** 2))\n",
    "A_x"
   ]
  },
  {
   "cell_type": "code",
   "execution_count": null,
   "id": "35840b0d",
   "metadata": {},
   "outputs": [],
   "source": []
  },
  {
   "cell_type": "markdown",
   "id": "52c72ad1",
   "metadata": {},
   "source": [
    "#### Plugin Numbers"
   ]
  },
  {
   "cell_type": "code",
   "execution_count": 27,
   "id": "94f63cf4",
   "metadata": {
    "ExecuteTime": {
     "end_time": "2021-10-18T22:30:10.292975Z",
     "start_time": "2021-10-18T22:30:10.290750Z"
    }
   },
   "outputs": [],
   "source": [
    "G = 6.7e-11\n",
    "M = 6e24 # kg\n",
    "R_E = 6.4e6 # m\n",
    "Alt_Orb = 400e3 # m\n",
    "R = R_E + Alt_Orb\n",
    "c = 3e8"
   ]
  },
  {
   "cell_type": "code",
   "execution_count": 38,
   "id": "04bbcc3c",
   "metadata": {
    "ExecuteTime": {
     "end_time": "2021-10-18T22:39:37.680705Z",
     "start_time": "2021-10-18T22:39:37.676638Z"
    }
   },
   "outputs": [
    {
     "data": {
      "text/plain": [
       "2.7444322835953827e-39"
      ]
     },
     "execution_count": 38,
     "metadata": {},
     "output_type": "execute_result"
    }
   ],
   "source": [
    "A_norm = 2 * G**2 * M**2 / (c**4 * R**5)\n",
    "A_norm"
   ]
  },
  {
   "cell_type": "code",
   "execution_count": 40,
   "id": "82c2f53d",
   "metadata": {
    "ExecuteTime": {
     "end_time": "2021-10-18T22:40:26.755948Z",
     "start_time": "2021-10-18T22:40:26.753115Z"
    }
   },
   "outputs": [
    {
     "data": {
      "text/plain": [
       "3.643740842058365e+38"
      ]
     },
     "execution_count": 40,
     "metadata": {},
     "output_type": "execute_result"
    }
   ],
   "source": [
    "V = 1 / A_norm\n",
    "V"
   ]
  },
  {
   "cell_type": "code",
   "execution_count": 52,
   "id": "c0f20822",
   "metadata": {
    "ExecuteTime": {
     "end_time": "2021-10-18T22:46:00.644737Z",
     "start_time": "2021-10-18T22:46:00.641332Z"
    }
   },
   "outputs": [
    {
     "data": {
      "text/plain": [
       "108835.66731507442"
      ]
     },
     "execution_count": 52,
     "metadata": {},
     "output_type": "execute_result"
    }
   ],
   "source": [
    "(V * units.meter**3).to(units.AU**3).value #/ (45 ** 3)"
   ]
  },
  {
   "cell_type": "code",
   "execution_count": null,
   "id": "1e31e596",
   "metadata": {},
   "outputs": [],
   "source": []
  },
  {
   "cell_type": "code",
   "execution_count": 29,
   "id": "cdc39b37",
   "metadata": {
    "ExecuteTime": {
     "end_time": "2021-10-18T22:30:49.822238Z",
     "start_time": "2021-10-18T22:30:49.819159Z"
    }
   },
   "outputs": [
    {
     "data": {
      "text/plain": [
       "23808.273641190328"
      ]
     },
     "execution_count": 29,
     "metadata": {},
     "output_type": "execute_result"
    }
   ],
   "source": [
    "tau = (c * R ** 5 / (2 * G ** 2 * M ** 2)) ** (1/3)\n",
    "tau"
   ]
  },
  {
   "cell_type": "code",
   "execution_count": 30,
   "id": "a71c73a4",
   "metadata": {
    "ExecuteTime": {
     "end_time": "2021-10-18T22:32:16.471010Z",
     "start_time": "2021-10-18T22:32:16.467117Z"
    }
   },
   "outputs": [
    {
     "data": {
      "text/plain": [
       "6.613409344775091"
      ]
     },
     "execution_count": 30,
     "metadata": {},
     "output_type": "execute_result"
    }
   ],
   "source": [
    "tau / (60 * 60)"
   ]
  },
  {
   "cell_type": "code",
   "execution_count": null,
   "id": "f6dc38e8",
   "metadata": {},
   "outputs": [],
   "source": []
  }
 ],
 "metadata": {
  "kernelspec": {
   "display_name": "Python 3 (ipykernel)",
   "language": "python",
   "name": "python3"
  },
  "language_info": {
   "codemirror_mode": {
    "name": "ipython",
    "version": 3
   },
   "file_extension": ".py",
   "mimetype": "text/x-python",
   "name": "python",
   "nbconvert_exporter": "python",
   "pygments_lexer": "ipython3",
   "version": "3.9.7"
  }
 },
 "nbformat": 4,
 "nbformat_minor": 5
}
